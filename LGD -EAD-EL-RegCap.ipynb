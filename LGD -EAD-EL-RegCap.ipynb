{
 "cells": [
  {
   "cell_type": "code",
   "execution_count": 1,
   "metadata": {},
   "outputs": [],
   "source": [
    "import warnings\n",
    "warnings.filterwarnings('ignore')"
   ]
  },
  {
   "cell_type": "markdown",
   "metadata": {},
   "source": [
    "# Import Libraries"
   ]
  },
  {
   "cell_type": "code",
   "execution_count": 2,
   "metadata": {},
   "outputs": [],
   "source": [
    "import numpy as np\n",
    "import pandas as pd"
   ]
  },
  {
   "cell_type": "markdown",
   "metadata": {},
   "source": [
    "# Import Data"
   ]
  },
  {
   "cell_type": "code",
   "execution_count": 3,
   "metadata": {},
   "outputs": [],
   "source": [
    "# Import data.\n",
    "loan_data_preprocessed_backup = pd.read_csv('loan_data_2007_2014_preprocessed.csv')"
   ]
  },
  {
   "cell_type": "markdown",
   "metadata": {},
   "source": [
    "# Explore Data"
   ]
  },
  {
   "cell_type": "code",
   "execution_count": 4,
   "metadata": {},
   "outputs": [],
   "source": [
    "loan_data_preprocessed = loan_data_preprocessed_backup.copy()"
   ]
  },
  {
   "cell_type": "code",
   "execution_count": 5,
   "metadata": {},
   "outputs": [
    {
     "data": {
      "text/plain": [
       "array(['Unnamed: 0', 'Unnamed: 0.1', 'id', 'member_id', 'loan_amnt',\n",
       "       'funded_amnt', 'funded_amnt_inv', 'term', 'int_rate',\n",
       "       'installment', 'grade', 'sub_grade', 'emp_title', 'emp_length',\n",
       "       'home_ownership', 'annual_inc', 'verification_status', 'issue_d',\n",
       "       'loan_status', 'pymnt_plan', 'url', 'desc', 'purpose', 'title',\n",
       "       'zip_code', 'addr_state', 'dti', 'delinq_2yrs', 'earliest_cr_line',\n",
       "       'inq_last_6mths', 'mths_since_last_delinq',\n",
       "       'mths_since_last_record', 'open_acc', 'pub_rec', 'revol_bal',\n",
       "       'revol_util', 'total_acc', 'initial_list_status', 'out_prncp',\n",
       "       'out_prncp_inv', 'total_pymnt', 'total_pymnt_inv',\n",
       "       'total_rec_prncp', 'total_rec_int', 'total_rec_late_fee',\n",
       "       'recoveries', 'collection_recovery_fee', 'last_pymnt_d',\n",
       "       'last_pymnt_amnt', 'next_pymnt_d', 'last_credit_pull_d',\n",
       "       'collections_12_mths_ex_med', 'mths_since_last_major_derog',\n",
       "       'policy_code', 'application_type', 'annual_inc_joint', 'dti_joint',\n",
       "       'verification_status_joint', 'acc_now_delinq', 'tot_coll_amt',\n",
       "       'tot_cur_bal', 'open_acc_6m', 'open_il_6m', 'open_il_12m',\n",
       "       'open_il_24m', 'mths_since_rcnt_il', 'total_bal_il', 'il_util',\n",
       "       'open_rv_12m', 'open_rv_24m', 'max_bal_bc', 'all_util',\n",
       "       'total_rev_hi_lim', 'inq_fi', 'total_cu_tl', 'inq_last_12m',\n",
       "       'emp_length_int', 'earliest_cr_line_date',\n",
       "       'mths_since_earliest_cr_line', 'term_int', 'issue_d_date',\n",
       "       'mths_since_issue_d', 'grade:A', 'grade:B', 'grade:C', 'grade:D',\n",
       "       'grade:E', 'grade:F', 'grade:G', 'sub_grade:A1', 'sub_grade:A2',\n",
       "       'sub_grade:A3', 'sub_grade:A4', 'sub_grade:A5', 'sub_grade:B1',\n",
       "       'sub_grade:B2', 'sub_grade:B3', 'sub_grade:B4', 'sub_grade:B5',\n",
       "       'sub_grade:C1', 'sub_grade:C2', 'sub_grade:C3', 'sub_grade:C4',\n",
       "       'sub_grade:C5', 'sub_grade:D1', 'sub_grade:D2', 'sub_grade:D3',\n",
       "       'sub_grade:D4', 'sub_grade:D5', 'sub_grade:E1', 'sub_grade:E2',\n",
       "       'sub_grade:E3', 'sub_grade:E4', 'sub_grade:E5', 'sub_grade:F1',\n",
       "       'sub_grade:F2', 'sub_grade:F3', 'sub_grade:F4', 'sub_grade:F5',\n",
       "       'sub_grade:G1', 'sub_grade:G2', 'sub_grade:G3', 'sub_grade:G4',\n",
       "       'sub_grade:G5', 'home_ownership:ANY', 'home_ownership:MORTGAGE',\n",
       "       'home_ownership:NONE', 'home_ownership:OTHER',\n",
       "       'home_ownership:OWN', 'home_ownership:RENT',\n",
       "       'verification_status:Not Verified',\n",
       "       'verification_status:Source Verified',\n",
       "       'verification_status:Verified', 'loan_status:Charged Off',\n",
       "       'loan_status:Current', 'loan_status:Default',\n",
       "       'loan_status:Does not meet the credit policy. Status:Charged Off',\n",
       "       'loan_status:Does not meet the credit policy. Status:Fully Paid',\n",
       "       'loan_status:Fully Paid', 'loan_status:In Grace Period',\n",
       "       'loan_status:Late (16-30 days)', 'loan_status:Late (31-120 days)',\n",
       "       'purpose:car', 'purpose:credit_card', 'purpose:debt_consolidation',\n",
       "       'purpose:educational', 'purpose:home_improvement', 'purpose:house',\n",
       "       'purpose:major_purchase', 'purpose:medical', 'purpose:moving',\n",
       "       'purpose:other', 'purpose:renewable_energy',\n",
       "       'purpose:small_business', 'purpose:vacation', 'purpose:wedding',\n",
       "       'addr_state:AK', 'addr_state:AL', 'addr_state:AR', 'addr_state:AZ',\n",
       "       'addr_state:CA', 'addr_state:CO', 'addr_state:CT', 'addr_state:DC',\n",
       "       'addr_state:DE', 'addr_state:FL', 'addr_state:GA', 'addr_state:HI',\n",
       "       'addr_state:IA', 'addr_state:ID', 'addr_state:IL', 'addr_state:IN',\n",
       "       'addr_state:KS', 'addr_state:KY', 'addr_state:LA', 'addr_state:MA',\n",
       "       'addr_state:MD', 'addr_state:ME', 'addr_state:MI', 'addr_state:MN',\n",
       "       'addr_state:MO', 'addr_state:MS', 'addr_state:MT', 'addr_state:NC',\n",
       "       'addr_state:NE', 'addr_state:NH', 'addr_state:NJ', 'addr_state:NM',\n",
       "       'addr_state:NV', 'addr_state:NY', 'addr_state:OH', 'addr_state:OK',\n",
       "       'addr_state:OR', 'addr_state:PA', 'addr_state:RI', 'addr_state:SC',\n",
       "       'addr_state:SD', 'addr_state:TN', 'addr_state:TX', 'addr_state:UT',\n",
       "       'addr_state:VA', 'addr_state:VT', 'addr_state:WA', 'addr_state:WI',\n",
       "       'addr_state:WV', 'addr_state:WY', 'initial_list_status:f',\n",
       "       'initial_list_status:w', 'good_bad'], dtype=object)"
      ]
     },
     "execution_count": 5,
     "metadata": {},
     "output_type": "execute_result"
    }
   ],
   "source": [
    "# Displays all column names.\n",
    "loan_data_preprocessed.columns.values"
   ]
  },
  {
   "cell_type": "code",
   "execution_count": 6,
   "metadata": {
    "scrolled": true
   },
   "outputs": [
    {
     "data": {
      "text/html": [
       "<div>\n",
       "<style scoped>\n",
       "    .dataframe tbody tr th:only-of-type {\n",
       "        vertical-align: middle;\n",
       "    }\n",
       "\n",
       "    .dataframe tbody tr th {\n",
       "        vertical-align: top;\n",
       "    }\n",
       "\n",
       "    .dataframe thead th {\n",
       "        text-align: right;\n",
       "    }\n",
       "</style>\n",
       "<table border=\"1\" class=\"dataframe\">\n",
       "  <thead>\n",
       "    <tr style=\"text-align: right;\">\n",
       "      <th></th>\n",
       "      <th>Unnamed: 0</th>\n",
       "      <th>Unnamed: 0.1</th>\n",
       "      <th>id</th>\n",
       "      <th>member_id</th>\n",
       "      <th>loan_amnt</th>\n",
       "      <th>funded_amnt</th>\n",
       "      <th>funded_amnt_inv</th>\n",
       "      <th>term</th>\n",
       "      <th>int_rate</th>\n",
       "      <th>installment</th>\n",
       "      <th>...</th>\n",
       "      <th>addr_state:UT</th>\n",
       "      <th>addr_state:VA</th>\n",
       "      <th>addr_state:VT</th>\n",
       "      <th>addr_state:WA</th>\n",
       "      <th>addr_state:WI</th>\n",
       "      <th>addr_state:WV</th>\n",
       "      <th>addr_state:WY</th>\n",
       "      <th>initial_list_status:f</th>\n",
       "      <th>initial_list_status:w</th>\n",
       "      <th>good_bad</th>\n",
       "    </tr>\n",
       "  </thead>\n",
       "  <tbody>\n",
       "    <tr>\n",
       "      <td>0</td>\n",
       "      <td>0</td>\n",
       "      <td>0</td>\n",
       "      <td>1077501</td>\n",
       "      <td>1296599</td>\n",
       "      <td>5000</td>\n",
       "      <td>5000</td>\n",
       "      <td>4975.0</td>\n",
       "      <td>36 months</td>\n",
       "      <td>10.65</td>\n",
       "      <td>162.87</td>\n",
       "      <td>...</td>\n",
       "      <td>0</td>\n",
       "      <td>0</td>\n",
       "      <td>0</td>\n",
       "      <td>0</td>\n",
       "      <td>0</td>\n",
       "      <td>0</td>\n",
       "      <td>0</td>\n",
       "      <td>1</td>\n",
       "      <td>0</td>\n",
       "      <td>1</td>\n",
       "    </tr>\n",
       "    <tr>\n",
       "      <td>1</td>\n",
       "      <td>1</td>\n",
       "      <td>1</td>\n",
       "      <td>1077430</td>\n",
       "      <td>1314167</td>\n",
       "      <td>2500</td>\n",
       "      <td>2500</td>\n",
       "      <td>2500.0</td>\n",
       "      <td>60 months</td>\n",
       "      <td>15.27</td>\n",
       "      <td>59.83</td>\n",
       "      <td>...</td>\n",
       "      <td>0</td>\n",
       "      <td>0</td>\n",
       "      <td>0</td>\n",
       "      <td>0</td>\n",
       "      <td>0</td>\n",
       "      <td>0</td>\n",
       "      <td>0</td>\n",
       "      <td>1</td>\n",
       "      <td>0</td>\n",
       "      <td>0</td>\n",
       "    </tr>\n",
       "    <tr>\n",
       "      <td>2</td>\n",
       "      <td>2</td>\n",
       "      <td>2</td>\n",
       "      <td>1077175</td>\n",
       "      <td>1313524</td>\n",
       "      <td>2400</td>\n",
       "      <td>2400</td>\n",
       "      <td>2400.0</td>\n",
       "      <td>36 months</td>\n",
       "      <td>15.96</td>\n",
       "      <td>84.33</td>\n",
       "      <td>...</td>\n",
       "      <td>0</td>\n",
       "      <td>0</td>\n",
       "      <td>0</td>\n",
       "      <td>0</td>\n",
       "      <td>0</td>\n",
       "      <td>0</td>\n",
       "      <td>0</td>\n",
       "      <td>1</td>\n",
       "      <td>0</td>\n",
       "      <td>1</td>\n",
       "    </tr>\n",
       "    <tr>\n",
       "      <td>3</td>\n",
       "      <td>3</td>\n",
       "      <td>3</td>\n",
       "      <td>1076863</td>\n",
       "      <td>1277178</td>\n",
       "      <td>10000</td>\n",
       "      <td>10000</td>\n",
       "      <td>10000.0</td>\n",
       "      <td>36 months</td>\n",
       "      <td>13.49</td>\n",
       "      <td>339.31</td>\n",
       "      <td>...</td>\n",
       "      <td>0</td>\n",
       "      <td>0</td>\n",
       "      <td>0</td>\n",
       "      <td>0</td>\n",
       "      <td>0</td>\n",
       "      <td>0</td>\n",
       "      <td>0</td>\n",
       "      <td>1</td>\n",
       "      <td>0</td>\n",
       "      <td>1</td>\n",
       "    </tr>\n",
       "    <tr>\n",
       "      <td>4</td>\n",
       "      <td>4</td>\n",
       "      <td>4</td>\n",
       "      <td>1075358</td>\n",
       "      <td>1311748</td>\n",
       "      <td>3000</td>\n",
       "      <td>3000</td>\n",
       "      <td>3000.0</td>\n",
       "      <td>60 months</td>\n",
       "      <td>12.69</td>\n",
       "      <td>67.79</td>\n",
       "      <td>...</td>\n",
       "      <td>0</td>\n",
       "      <td>0</td>\n",
       "      <td>0</td>\n",
       "      <td>0</td>\n",
       "      <td>0</td>\n",
       "      <td>0</td>\n",
       "      <td>0</td>\n",
       "      <td>1</td>\n",
       "      <td>0</td>\n",
       "      <td>1</td>\n",
       "    </tr>\n",
       "  </tbody>\n",
       "</table>\n",
       "<p>5 rows × 209 columns</p>\n",
       "</div>"
      ],
      "text/plain": [
       "   Unnamed: 0  Unnamed: 0.1       id  member_id  loan_amnt  funded_amnt  \\\n",
       "0           0             0  1077501    1296599       5000         5000   \n",
       "1           1             1  1077430    1314167       2500         2500   \n",
       "2           2             2  1077175    1313524       2400         2400   \n",
       "3           3             3  1076863    1277178      10000        10000   \n",
       "4           4             4  1075358    1311748       3000         3000   \n",
       "\n",
       "   funded_amnt_inv        term  int_rate  installment  ... addr_state:UT  \\\n",
       "0           4975.0   36 months     10.65       162.87  ...             0   \n",
       "1           2500.0   60 months     15.27        59.83  ...             0   \n",
       "2           2400.0   36 months     15.96        84.33  ...             0   \n",
       "3          10000.0   36 months     13.49       339.31  ...             0   \n",
       "4           3000.0   60 months     12.69        67.79  ...             0   \n",
       "\n",
       "  addr_state:VA addr_state:VT addr_state:WA addr_state:WI  addr_state:WV  \\\n",
       "0             0             0             0             0              0   \n",
       "1             0             0             0             0              0   \n",
       "2             0             0             0             0              0   \n",
       "3             0             0             0             0              0   \n",
       "4             0             0             0             0              0   \n",
       "\n",
       "  addr_state:WY initial_list_status:f initial_list_status:w good_bad  \n",
       "0             0                     1                     0        1  \n",
       "1             0                     1                     0        0  \n",
       "2             0                     1                     0        1  \n",
       "3             0                     1                     0        1  \n",
       "4             0                     1                     0        1  \n",
       "\n",
       "[5 rows x 209 columns]"
      ]
     },
     "execution_count": 6,
     "metadata": {},
     "output_type": "execute_result"
    }
   ],
   "source": [
    "loan_data_preprocessed.head()"
   ]
  },
  {
   "cell_type": "code",
   "execution_count": 7,
   "metadata": {},
   "outputs": [
    {
     "data": {
      "text/html": [
       "<div>\n",
       "<style scoped>\n",
       "    .dataframe tbody tr th:only-of-type {\n",
       "        vertical-align: middle;\n",
       "    }\n",
       "\n",
       "    .dataframe tbody tr th {\n",
       "        vertical-align: top;\n",
       "    }\n",
       "\n",
       "    .dataframe thead th {\n",
       "        text-align: right;\n",
       "    }\n",
       "</style>\n",
       "<table border=\"1\" class=\"dataframe\">\n",
       "  <thead>\n",
       "    <tr style=\"text-align: right;\">\n",
       "      <th></th>\n",
       "      <th>Unnamed: 0</th>\n",
       "      <th>Unnamed: 0.1</th>\n",
       "      <th>id</th>\n",
       "      <th>member_id</th>\n",
       "      <th>loan_amnt</th>\n",
       "      <th>funded_amnt</th>\n",
       "      <th>funded_amnt_inv</th>\n",
       "      <th>term</th>\n",
       "      <th>int_rate</th>\n",
       "      <th>installment</th>\n",
       "      <th>...</th>\n",
       "      <th>addr_state:UT</th>\n",
       "      <th>addr_state:VA</th>\n",
       "      <th>addr_state:VT</th>\n",
       "      <th>addr_state:WA</th>\n",
       "      <th>addr_state:WI</th>\n",
       "      <th>addr_state:WV</th>\n",
       "      <th>addr_state:WY</th>\n",
       "      <th>initial_list_status:f</th>\n",
       "      <th>initial_list_status:w</th>\n",
       "      <th>good_bad</th>\n",
       "    </tr>\n",
       "  </thead>\n",
       "  <tbody>\n",
       "    <tr>\n",
       "      <td>466280</td>\n",
       "      <td>466280</td>\n",
       "      <td>466280</td>\n",
       "      <td>8598660</td>\n",
       "      <td>1440975</td>\n",
       "      <td>18400</td>\n",
       "      <td>18400</td>\n",
       "      <td>18400.0</td>\n",
       "      <td>60 months</td>\n",
       "      <td>14.47</td>\n",
       "      <td>432.64</td>\n",
       "      <td>...</td>\n",
       "      <td>0</td>\n",
       "      <td>0</td>\n",
       "      <td>0</td>\n",
       "      <td>0</td>\n",
       "      <td>0</td>\n",
       "      <td>0</td>\n",
       "      <td>0</td>\n",
       "      <td>0</td>\n",
       "      <td>1</td>\n",
       "      <td>1</td>\n",
       "    </tr>\n",
       "    <tr>\n",
       "      <td>466281</td>\n",
       "      <td>466281</td>\n",
       "      <td>466281</td>\n",
       "      <td>9684700</td>\n",
       "      <td>11536848</td>\n",
       "      <td>22000</td>\n",
       "      <td>22000</td>\n",
       "      <td>22000.0</td>\n",
       "      <td>60 months</td>\n",
       "      <td>19.97</td>\n",
       "      <td>582.50</td>\n",
       "      <td>...</td>\n",
       "      <td>0</td>\n",
       "      <td>0</td>\n",
       "      <td>0</td>\n",
       "      <td>0</td>\n",
       "      <td>0</td>\n",
       "      <td>0</td>\n",
       "      <td>0</td>\n",
       "      <td>1</td>\n",
       "      <td>0</td>\n",
       "      <td>0</td>\n",
       "    </tr>\n",
       "    <tr>\n",
       "      <td>466282</td>\n",
       "      <td>466282</td>\n",
       "      <td>466282</td>\n",
       "      <td>9584776</td>\n",
       "      <td>11436914</td>\n",
       "      <td>20700</td>\n",
       "      <td>20700</td>\n",
       "      <td>20700.0</td>\n",
       "      <td>60 months</td>\n",
       "      <td>16.99</td>\n",
       "      <td>514.34</td>\n",
       "      <td>...</td>\n",
       "      <td>0</td>\n",
       "      <td>0</td>\n",
       "      <td>0</td>\n",
       "      <td>0</td>\n",
       "      <td>0</td>\n",
       "      <td>0</td>\n",
       "      <td>0</td>\n",
       "      <td>1</td>\n",
       "      <td>0</td>\n",
       "      <td>1</td>\n",
       "    </tr>\n",
       "    <tr>\n",
       "      <td>466283</td>\n",
       "      <td>466283</td>\n",
       "      <td>466283</td>\n",
       "      <td>9604874</td>\n",
       "      <td>11457002</td>\n",
       "      <td>2000</td>\n",
       "      <td>2000</td>\n",
       "      <td>2000.0</td>\n",
       "      <td>36 months</td>\n",
       "      <td>7.90</td>\n",
       "      <td>62.59</td>\n",
       "      <td>...</td>\n",
       "      <td>0</td>\n",
       "      <td>0</td>\n",
       "      <td>0</td>\n",
       "      <td>0</td>\n",
       "      <td>0</td>\n",
       "      <td>0</td>\n",
       "      <td>0</td>\n",
       "      <td>0</td>\n",
       "      <td>1</td>\n",
       "      <td>1</td>\n",
       "    </tr>\n",
       "    <tr>\n",
       "      <td>466284</td>\n",
       "      <td>466284</td>\n",
       "      <td>466284</td>\n",
       "      <td>9199665</td>\n",
       "      <td>11061576</td>\n",
       "      <td>10000</td>\n",
       "      <td>10000</td>\n",
       "      <td>9975.0</td>\n",
       "      <td>36 months</td>\n",
       "      <td>19.20</td>\n",
       "      <td>367.58</td>\n",
       "      <td>...</td>\n",
       "      <td>0</td>\n",
       "      <td>0</td>\n",
       "      <td>0</td>\n",
       "      <td>0</td>\n",
       "      <td>0</td>\n",
       "      <td>0</td>\n",
       "      <td>0</td>\n",
       "      <td>1</td>\n",
       "      <td>0</td>\n",
       "      <td>1</td>\n",
       "    </tr>\n",
       "  </tbody>\n",
       "</table>\n",
       "<p>5 rows × 209 columns</p>\n",
       "</div>"
      ],
      "text/plain": [
       "        Unnamed: 0  Unnamed: 0.1       id  member_id  loan_amnt  funded_amnt  \\\n",
       "466280      466280        466280  8598660    1440975      18400        18400   \n",
       "466281      466281        466281  9684700   11536848      22000        22000   \n",
       "466282      466282        466282  9584776   11436914      20700        20700   \n",
       "466283      466283        466283  9604874   11457002       2000         2000   \n",
       "466284      466284        466284  9199665   11061576      10000        10000   \n",
       "\n",
       "        funded_amnt_inv        term  int_rate  installment  ... addr_state:UT  \\\n",
       "466280          18400.0   60 months     14.47       432.64  ...             0   \n",
       "466281          22000.0   60 months     19.97       582.50  ...             0   \n",
       "466282          20700.0   60 months     16.99       514.34  ...             0   \n",
       "466283           2000.0   36 months      7.90        62.59  ...             0   \n",
       "466284           9975.0   36 months     19.20       367.58  ...             0   \n",
       "\n",
       "       addr_state:VA addr_state:VT addr_state:WA addr_state:WI  addr_state:WV  \\\n",
       "466280             0             0             0             0              0   \n",
       "466281             0             0             0             0              0   \n",
       "466282             0             0             0             0              0   \n",
       "466283             0             0             0             0              0   \n",
       "466284             0             0             0             0              0   \n",
       "\n",
       "       addr_state:WY initial_list_status:f initial_list_status:w good_bad  \n",
       "466280             0                     0                     1        1  \n",
       "466281             0                     1                     0        0  \n",
       "466282             0                     1                     0        1  \n",
       "466283             0                     0                     1        1  \n",
       "466284             0                     1                     0        1  \n",
       "\n",
       "[5 rows x 209 columns]"
      ]
     },
     "execution_count": 7,
     "metadata": {},
     "output_type": "execute_result"
    }
   ],
   "source": [
    "loan_data_preprocessed.tail()"
   ]
  },
  {
   "cell_type": "code",
   "execution_count": 8,
   "metadata": {},
   "outputs": [],
   "source": [
    "# Here we take only the accounts that were charged-off (written-off).\n",
    "loan_data_defaults = loan_data_preprocessed[loan_data_preprocessed['loan_status'].isin(['Charged Off','Does not meet the credit policy. Status:Charged Off'])]"
   ]
  },
  {
   "cell_type": "code",
   "execution_count": 9,
   "metadata": {},
   "outputs": [
    {
     "data": {
      "text/plain": [
       "(43236, 209)"
      ]
     },
     "execution_count": 9,
     "metadata": {},
     "output_type": "execute_result"
    }
   ],
   "source": [
    "loan_data_defaults.shape"
   ]
  },
  {
   "cell_type": "code",
   "execution_count": 10,
   "metadata": {},
   "outputs": [],
   "source": [
    "pd.options.display.max_rows = None\n",
    "# Sets the pandas dataframe options to display all columns/ rows."
   ]
  },
  {
   "cell_type": "code",
   "execution_count": 11,
   "metadata": {},
   "outputs": [
    {
     "data": {
      "text/plain": [
       "Unnamed: 0                                                             0\n",
       "Unnamed: 0.1                                                           0\n",
       "id                                                                     0\n",
       "member_id                                                              0\n",
       "loan_amnt                                                              0\n",
       "funded_amnt                                                            0\n",
       "funded_amnt_inv                                                        0\n",
       "term                                                                   0\n",
       "int_rate                                                               0\n",
       "installment                                                            0\n",
       "grade                                                                  0\n",
       "sub_grade                                                              0\n",
       "emp_title                                                           3287\n",
       "emp_length                                                          2337\n",
       "home_ownership                                                         0\n",
       "annual_inc                                                             0\n",
       "verification_status                                                    0\n",
       "issue_d                                                                0\n",
       "loan_status                                                            0\n",
       "pymnt_plan                                                             0\n",
       "url                                                                    0\n",
       "desc                                                               27396\n",
       "purpose                                                                0\n",
       "title                                                                  3\n",
       "zip_code                                                               0\n",
       "addr_state                                                             0\n",
       "dti                                                                    0\n",
       "delinq_2yrs                                                            0\n",
       "earliest_cr_line                                                       3\n",
       "inq_last_6mths                                                         0\n",
       "mths_since_last_delinq                                             23950\n",
       "mths_since_last_record                                             37821\n",
       "open_acc                                                               0\n",
       "pub_rec                                                                0\n",
       "revol_bal                                                              0\n",
       "revol_util                                                            53\n",
       "total_acc                                                              0\n",
       "initial_list_status                                                    0\n",
       "out_prncp                                                              0\n",
       "out_prncp_inv                                                          0\n",
       "total_pymnt                                                            0\n",
       "total_pymnt_inv                                                        0\n",
       "total_rec_prncp                                                        0\n",
       "total_rec_int                                                          0\n",
       "total_rec_late_fee                                                     0\n",
       "recoveries                                                             0\n",
       "collection_recovery_fee                                                0\n",
       "last_pymnt_d                                                         376\n",
       "last_pymnt_amnt                                                        0\n",
       "next_pymnt_d                                                       42475\n",
       "last_credit_pull_d                                                     6\n",
       "collections_12_mths_ex_med                                            28\n",
       "mths_since_last_major_derog                                        35283\n",
       "policy_code                                                            0\n",
       "application_type                                                       0\n",
       "annual_inc_joint                                                   43236\n",
       "dti_joint                                                          43236\n",
       "verification_status_joint                                          43236\n",
       "acc_now_delinq                                                         0\n",
       "tot_coll_amt                                                       10780\n",
       "tot_cur_bal                                                        10780\n",
       "open_acc_6m                                                        43236\n",
       "open_il_6m                                                         43236\n",
       "open_il_12m                                                        43236\n",
       "open_il_24m                                                        43236\n",
       "mths_since_rcnt_il                                                 43236\n",
       "total_bal_il                                                       43236\n",
       "il_util                                                            43236\n",
       "open_rv_12m                                                        43236\n",
       "open_rv_24m                                                        43236\n",
       "max_bal_bc                                                         43236\n",
       "all_util                                                           43236\n",
       "total_rev_hi_lim                                                       0\n",
       "inq_fi                                                             43236\n",
       "total_cu_tl                                                        43236\n",
       "inq_last_12m                                                       43236\n",
       "emp_length_int                                                         0\n",
       "earliest_cr_line_date                                                  3\n",
       "mths_since_earliest_cr_line                                            0\n",
       "term_int                                                               0\n",
       "issue_d_date                                                           0\n",
       "mths_since_issue_d                                                     0\n",
       "grade:A                                                                0\n",
       "grade:B                                                                0\n",
       "grade:C                                                                0\n",
       "grade:D                                                                0\n",
       "grade:E                                                                0\n",
       "grade:F                                                                0\n",
       "grade:G                                                                0\n",
       "sub_grade:A1                                                           0\n",
       "sub_grade:A2                                                           0\n",
       "sub_grade:A3                                                           0\n",
       "sub_grade:A4                                                           0\n",
       "sub_grade:A5                                                           0\n",
       "sub_grade:B1                                                           0\n",
       "sub_grade:B2                                                           0\n",
       "sub_grade:B3                                                           0\n",
       "sub_grade:B4                                                           0\n",
       "sub_grade:B5                                                           0\n",
       "sub_grade:C1                                                           0\n",
       "sub_grade:C2                                                           0\n",
       "sub_grade:C3                                                           0\n",
       "sub_grade:C4                                                           0\n",
       "sub_grade:C5                                                           0\n",
       "sub_grade:D1                                                           0\n",
       "sub_grade:D2                                                           0\n",
       "sub_grade:D3                                                           0\n",
       "sub_grade:D4                                                           0\n",
       "sub_grade:D5                                                           0\n",
       "sub_grade:E1                                                           0\n",
       "sub_grade:E2                                                           0\n",
       "sub_grade:E3                                                           0\n",
       "sub_grade:E4                                                           0\n",
       "sub_grade:E5                                                           0\n",
       "sub_grade:F1                                                           0\n",
       "sub_grade:F2                                                           0\n",
       "sub_grade:F3                                                           0\n",
       "sub_grade:F4                                                           0\n",
       "sub_grade:F5                                                           0\n",
       "sub_grade:G1                                                           0\n",
       "sub_grade:G2                                                           0\n",
       "sub_grade:G3                                                           0\n",
       "sub_grade:G4                                                           0\n",
       "sub_grade:G5                                                           0\n",
       "home_ownership:ANY                                                     0\n",
       "home_ownership:MORTGAGE                                                0\n",
       "home_ownership:NONE                                                    0\n",
       "home_ownership:OTHER                                                   0\n",
       "home_ownership:OWN                                                     0\n",
       "home_ownership:RENT                                                    0\n",
       "verification_status:Not Verified                                       0\n",
       "verification_status:Source Verified                                    0\n",
       "verification_status:Verified                                           0\n",
       "loan_status:Charged Off                                                0\n",
       "loan_status:Current                                                    0\n",
       "loan_status:Default                                                    0\n",
       "loan_status:Does not meet the credit policy. Status:Charged Off        0\n",
       "loan_status:Does not meet the credit policy. Status:Fully Paid         0\n",
       "loan_status:Fully Paid                                                 0\n",
       "loan_status:In Grace Period                                            0\n",
       "loan_status:Late (16-30 days)                                          0\n",
       "loan_status:Late (31-120 days)                                         0\n",
       "purpose:car                                                            0\n",
       "purpose:credit_card                                                    0\n",
       "purpose:debt_consolidation                                             0\n",
       "purpose:educational                                                    0\n",
       "purpose:home_improvement                                               0\n",
       "purpose:house                                                          0\n",
       "purpose:major_purchase                                                 0\n",
       "purpose:medical                                                        0\n",
       "purpose:moving                                                         0\n",
       "purpose:other                                                          0\n",
       "purpose:renewable_energy                                               0\n",
       "purpose:small_business                                                 0\n",
       "purpose:vacation                                                       0\n",
       "purpose:wedding                                                        0\n",
       "addr_state:AK                                                          0\n",
       "addr_state:AL                                                          0\n",
       "addr_state:AR                                                          0\n",
       "addr_state:AZ                                                          0\n",
       "addr_state:CA                                                          0\n",
       "addr_state:CO                                                          0\n",
       "addr_state:CT                                                          0\n",
       "addr_state:DC                                                          0\n",
       "addr_state:DE                                                          0\n",
       "addr_state:FL                                                          0\n",
       "addr_state:GA                                                          0\n",
       "addr_state:HI                                                          0\n",
       "addr_state:IA                                                          0\n",
       "addr_state:ID                                                          0\n",
       "addr_state:IL                                                          0\n",
       "addr_state:IN                                                          0\n",
       "addr_state:KS                                                          0\n",
       "addr_state:KY                                                          0\n",
       "addr_state:LA                                                          0\n",
       "addr_state:MA                                                          0\n",
       "addr_state:MD                                                          0\n",
       "addr_state:ME                                                          0\n",
       "addr_state:MI                                                          0\n",
       "addr_state:MN                                                          0\n",
       "addr_state:MO                                                          0\n",
       "addr_state:MS                                                          0\n",
       "addr_state:MT                                                          0\n",
       "addr_state:NC                                                          0\n",
       "addr_state:NE                                                          0\n",
       "addr_state:NH                                                          0\n",
       "addr_state:NJ                                                          0\n",
       "addr_state:NM                                                          0\n",
       "addr_state:NV                                                          0\n",
       "addr_state:NY                                                          0\n",
       "addr_state:OH                                                          0\n",
       "addr_state:OK                                                          0\n",
       "addr_state:OR                                                          0\n",
       "addr_state:PA                                                          0\n",
       "addr_state:RI                                                          0\n",
       "addr_state:SC                                                          0\n",
       "addr_state:SD                                                          0\n",
       "addr_state:TN                                                          0\n",
       "addr_state:TX                                                          0\n",
       "addr_state:UT                                                          0\n",
       "addr_state:VA                                                          0\n",
       "addr_state:VT                                                          0\n",
       "addr_state:WA                                                          0\n",
       "addr_state:WI                                                          0\n",
       "addr_state:WV                                                          0\n",
       "addr_state:WY                                                          0\n",
       "initial_list_status:f                                                  0\n",
       "initial_list_status:w                                                  0\n",
       "good_bad                                                               0\n",
       "dtype: int64"
      ]
     },
     "execution_count": 11,
     "metadata": {},
     "output_type": "execute_result"
    }
   ],
   "source": [
    "loan_data_defaults.isnull().sum()"
   ]
  },
  {
   "cell_type": "markdown",
   "metadata": {},
   "source": [
    "# Independent Variables"
   ]
  },
  {
   "cell_type": "code",
   "execution_count": 12,
   "metadata": {
    "scrolled": true
   },
   "outputs": [],
   "source": [
    "# We fill the missing values with zeroes.\n",
    "loan_data_defaults['mths_since_last_delinq'].fillna(0, inplace = True)"
   ]
  },
  {
   "cell_type": "code",
   "execution_count": 13,
   "metadata": {},
   "outputs": [],
   "source": [
    "# We fill the missing values with zeroes.\n",
    "loan_data_defaults['mths_since_last_record'].fillna(0, inplace=True)"
   ]
  },
  {
   "cell_type": "markdown",
   "metadata": {},
   "source": [
    "# Dependent Variables\n",
    "\n",
    "Let start with <b>LGD</b>\\\n",
    "<b>LGD</b> is the proportion of loan that can not be recovered when default occurs.\\\n",
    "$$\\mathbf{LGD} = 1 - Recovery_{-}rate = 1 - \\frac{\\text{recoveries}}{\\text{funded amount}}$$"
   ]
  },
  {
   "cell_type": "code",
   "execution_count": 14,
   "metadata": {
    "scrolled": true
   },
   "outputs": [],
   "source": [
    "loan_data_defaults['recovery_rate'] = loan_data_defaults['recoveries'] / loan_data_defaults['funded_amnt']"
   ]
  },
  {
   "cell_type": "code",
   "execution_count": 15,
   "metadata": {},
   "outputs": [
    {
     "data": {
      "text/plain": [
       "count    43236.000000\n",
       "mean         0.060820\n",
       "std          0.089770\n",
       "min          0.000000\n",
       "25%          0.000000\n",
       "50%          0.029466\n",
       "75%          0.114044\n",
       "max          1.220774\n",
       "Name: recovery_rate, dtype: float64"
      ]
     },
     "execution_count": 15,
     "metadata": {},
     "output_type": "execute_result"
    }
   ],
   "source": [
    "loan_data_defaults['recovery_rate'].describe()"
   ]
  },
  {
   "cell_type": "markdown",
   "metadata": {},
   "source": [
    "Of course we see that the minimum recovery_rate is 0 but the maximum is greater than 1 (for possible accounting reason).\\\n",
    "<center> We need to set the maximum recovery rate to 1.</center>"
   ]
  },
  {
   "cell_type": "code",
   "execution_count": 16,
   "metadata": {},
   "outputs": [],
   "source": [
    "loan_data_defaults['recovery_rate'] = np.where(loan_data_defaults['recovery_rate'] > 1, 1, loan_data_defaults['recovery_rate'])\n",
    "loan_data_defaults['recovery_rate'] = np.where(loan_data_defaults['recovery_rate'] < 0, 0, loan_data_defaults['recovery_rate'])"
   ]
  },
  {
   "cell_type": "code",
   "execution_count": 17,
   "metadata": {},
   "outputs": [
    {
     "data": {
      "text/plain": [
       "count    43236.000000\n",
       "mean         0.060770\n",
       "std          0.089202\n",
       "min          0.000000\n",
       "25%          0.000000\n",
       "50%          0.029466\n",
       "75%          0.114044\n",
       "max          1.000000\n",
       "Name: recovery_rate, dtype: float64"
      ]
     },
     "execution_count": 17,
     "metadata": {},
     "output_type": "execute_result"
    }
   ],
   "source": [
    "loan_data_defaults['recovery_rate'].describe()"
   ]
  },
  {
   "cell_type": "markdown",
   "metadata": {},
   "source": [
    "\n",
    "For the <b>EAD</b>,\\\n",
    "the borrower may have defaulted only on a proportion of the funded amount.\\\n",
    "the proportion is called <b>ccf</b> credit conservation factor\n",
    "$$ \\mathbf{EAD = \\text{total funded amount} * \\text{credit conservation factor}} $$\n",
    "\n",
    "In our data we will compute the ccf using the total funded amount , the total recovery principal."
   ]
  },
  {
   "cell_type": "code",
   "execution_count": 18,
   "metadata": {},
   "outputs": [],
   "source": [
    "# We calculate the dependent variable for the EAD model: credit conversion factor.\n",
    "# It is the ratio of the difference of the amount used at the moment of default to the total funded amount.\n",
    "\n",
    "loan_data_defaults['CCF'] = (loan_data_defaults['funded_amnt'] - loan_data_defaults['total_rec_prncp']) / loan_data_defaults['funded_amnt']"
   ]
  },
  {
   "cell_type": "code",
   "execution_count": 19,
   "metadata": {},
   "outputs": [
    {
     "data": {
      "text/plain": [
       "count    43236.000000\n",
       "mean         0.735952\n",
       "std          0.200742\n",
       "min          0.000438\n",
       "25%          0.632088\n",
       "50%          0.789908\n",
       "75%          0.888543\n",
       "max          1.000000\n",
       "Name: CCF, dtype: float64"
      ]
     },
     "execution_count": 19,
     "metadata": {},
     "output_type": "execute_result"
    }
   ],
   "source": [
    "loan_data_defaults['CCF'].describe()"
   ]
  },
  {
   "cell_type": "code",
   "execution_count": 20,
   "metadata": {},
   "outputs": [],
   "source": [
    "loan_data_defaults.to_csv('loan_data_defaults.csv')"
   ]
  },
  {
   "cell_type": "markdown",
   "metadata": {},
   "source": [
    "# Explore Dependent Variables"
   ]
  },
  {
   "cell_type": "code",
   "execution_count": 21,
   "metadata": {},
   "outputs": [],
   "source": [
    "import matplotlib.pyplot as plt\n",
    "import seaborn as sns\n",
    "sns.set()"
   ]
  },
  {
   "cell_type": "code",
   "execution_count": 22,
   "metadata": {},
   "outputs": [
    {
     "data": {
      "image/png": "[encoded data removed]",
      "text/plain": [
       "<Figure size 432x288 with 1 Axes>"
      ]
     },
     "metadata": {
      "needs_background": "light"
     },
     "output_type": "display_data"
    }
   ],
   "source": [
    "output = plt.hist(loan_data_defaults['recovery_rate'], bins = 50)"
   ]
  },
  {
   "cell_type": "code",
   "execution_count": 23,
   "metadata": {},
   "outputs": [
    {
     "data": {
      "image/png": "[encoded data removed]",
      "text/plain": [
       "<Figure size 432x288 with 1 Axes>"
      ]
     },
     "metadata": {
      "needs_background": "light"
     },
     "output_type": "display_data"
    }
   ],
   "source": [
    "output = plt.hist(loan_data_defaults['CCF'], bins = 100)"
   ]
  },
  {
   "cell_type": "code",
   "execution_count": 24,
   "metadata": {},
   "outputs": [],
   "source": [
    "# We create a new variable which is 0 if recovery rate is 0 and 1 otherwise.\n",
    "\n",
    "loan_data_defaults['recovery_rate_0_1'] = np.where(loan_data_defaults['recovery_rate'] == 0, 0, 1)"
   ]
  },
  {
   "cell_type": "code",
   "execution_count": 25,
   "metadata": {},
   "outputs": [
    {
     "data": {
      "text/plain": [
       "1     1\n",
       "8     1\n",
       "9     1\n",
       "12    1\n",
       "14    1\n",
       "Name: recovery_rate_0_1, dtype: int64"
      ]
     },
     "execution_count": 25,
     "metadata": {},
     "output_type": "execute_result"
    }
   ],
   "source": [
    "loan_data_defaults['recovery_rate_0_1'].head()"
   ]
  },
  {
   "cell_type": "markdown",
   "metadata": {},
   "source": [
    "# LGD Model\n",
    "\n",
    "\n",
    "The most used model is Beta regression , not yet build in in python.\\\n",
    "It would be done in R software with the data.\\\n",
    "\n",
    "We will then use a Logistic Regression combine with multiple linear regression :\\\n",
    "First ,   Is the Recovery Rate strictly greater than 0 ?\n",
    ">>>> If <b>No</b>,  Estimated Recovery Rate  is set to be  0\\\n",
    ">>>> If <b>yes</b>, we'll use Linear regression to estimate recovery rate"
   ]
  },
  {
   "cell_type": "markdown",
   "metadata": {},
   "source": [
    "### Splitting Data"
   ]
  },
  {
   "cell_type": "code",
   "execution_count": 26,
   "metadata": {},
   "outputs": [],
   "source": [
    "from sklearn.model_selection import train_test_split"
   ]
  },
  {
   "cell_type": "code",
   "execution_count": 27,
   "metadata": {},
   "outputs": [],
   "source": [
    "lgd_inputs_stage_1_train, lgd_inputs_stage_1_test, lgd_targets_stage_1_train, lgd_targets_stage_1_test = train_test_split(loan_data_defaults.drop(['good_bad', 'recovery_rate','recovery_rate_0_1', 'CCF'], axis = 1), loan_data_defaults['recovery_rate_0_1'], test_size = 0.2, random_state = 42)"
   ]
  },
  {
   "cell_type": "markdown",
   "metadata": {},
   "source": [
    "### Preparing the Inputs"
   ]
  },
  {
   "cell_type": "code",
   "execution_count": 28,
   "metadata": {},
   "outputs": [],
   "source": [
    "features_all = ['grade:A',\n",
    "'grade:B',\n",
    "'grade:C',\n",
    "'grade:D',\n",
    "'grade:E',\n",
    "'grade:F',\n",
    "'grade:G',\n",
    "'home_ownership:MORTGAGE',\n",
    "'home_ownership:NONE',\n",
    "'home_ownership:OTHER',\n",
    "'home_ownership:OWN',\n",
    "'home_ownership:RENT',\n",
    "'verification_status:Not Verified',\n",
    "'verification_status:Source Verified',\n",
    "'verification_status:Verified',\n",
    "'purpose:car',\n",
    "'purpose:credit_card',\n",
    "'purpose:debt_consolidation',\n",
    "'purpose:educational',\n",
    "'purpose:home_improvement',\n",
    "'purpose:house',\n",
    "'purpose:major_purchase',\n",
    "'purpose:medical',\n",
    "'purpose:moving',\n",
    "'purpose:other',\n",
    "'purpose:renewable_energy',\n",
    "'purpose:small_business',\n",
    "'purpose:vacation',\n",
    "'purpose:wedding',\n",
    "'initial_list_status:f',\n",
    "'initial_list_status:w',\n",
    "'term_int',\n",
    "'emp_length_int',\n",
    "'mths_since_issue_d',\n",
    "'mths_since_earliest_cr_line',\n",
    "'funded_amnt',\n",
    "'int_rate',\n",
    "'installment',\n",
    "'annual_inc',\n",
    "'dti',\n",
    "'delinq_2yrs',\n",
    "'inq_last_6mths',\n",
    "'mths_since_last_delinq',\n",
    "'mths_since_last_record',\n",
    "'open_acc',\n",
    "'pub_rec',\n",
    "'total_acc',\n",
    "'acc_now_delinq',\n",
    "'total_rev_hi_lim']\n",
    "# List of all independent variables for the models."
   ]
  },
  {
   "cell_type": "code",
   "execution_count": 29,
   "metadata": {},
   "outputs": [],
   "source": [
    "features_reference_cat = ['grade:G',\n",
    "'home_ownership:RENT',\n",
    "'verification_status:Verified',\n",
    "'purpose:credit_card',\n",
    "'initial_list_status:f']"
   ]
  },
  {
   "cell_type": "code",
   "execution_count": 30,
   "metadata": {},
   "outputs": [],
   "source": [
    "lgd_inputs_stage_1_train = lgd_inputs_stage_1_train[features_all]"
   ]
  },
  {
   "cell_type": "code",
   "execution_count": 31,
   "metadata": {},
   "outputs": [],
   "source": [
    "# Here we keep only the variables we need for the model.\n",
    "# So we remove the dummy variable reference categories.\n",
    "\n",
    "lgd_inputs_stage_1_train = lgd_inputs_stage_1_train.drop(features_reference_cat, axis = 1)"
   ]
  },
  {
   "cell_type": "code",
   "execution_count": 32,
   "metadata": {},
   "outputs": [
    {
     "data": {
      "text/plain": [
       "grade:A                                0\n",
       "grade:B                                0\n",
       "grade:C                                0\n",
       "grade:D                                0\n",
       "grade:E                                0\n",
       "grade:F                                0\n",
       "home_ownership:MORTGAGE                0\n",
       "home_ownership:NONE                    0\n",
       "home_ownership:OTHER                   0\n",
       "home_ownership:OWN                     0\n",
       "verification_status:Not Verified       0\n",
       "verification_status:Source Verified    0\n",
       "purpose:car                            0\n",
       "purpose:debt_consolidation             0\n",
       "purpose:educational                    0\n",
       "purpose:home_improvement               0\n",
       "purpose:house                          0\n",
       "purpose:major_purchase                 0\n",
       "purpose:medical                        0\n",
       "purpose:moving                         0\n",
       "purpose:other                          0\n",
       "purpose:renewable_energy               0\n",
       "purpose:small_business                 0\n",
       "purpose:vacation                       0\n",
       "purpose:wedding                        0\n",
       "initial_list_status:w                  0\n",
       "term_int                               0\n",
       "emp_length_int                         0\n",
       "mths_since_issue_d                     0\n",
       "mths_since_earliest_cr_line            0\n",
       "funded_amnt                            0\n",
       "int_rate                               0\n",
       "installment                            0\n",
       "annual_inc                             0\n",
       "dti                                    0\n",
       "delinq_2yrs                            0\n",
       "inq_last_6mths                         0\n",
       "mths_since_last_delinq                 0\n",
       "mths_since_last_record                 0\n",
       "open_acc                               0\n",
       "pub_rec                                0\n",
       "total_acc                              0\n",
       "acc_now_delinq                         0\n",
       "total_rev_hi_lim                       0\n",
       "dtype: int64"
      ]
     },
     "execution_count": 32,
     "metadata": {},
     "output_type": "execute_result"
    }
   ],
   "source": [
    "# Check for missing values. We check whether the value of each row for each column is missing or not,\n",
    "# then sum accross columns.\n",
    "\n",
    "lgd_inputs_stage_1_train.isnull().sum()"
   ]
  },
  {
   "cell_type": "markdown",
   "metadata": {},
   "source": [
    "### Estimating the Model"
   ]
  },
  {
   "cell_type": "code",
   "execution_count": 33,
   "metadata": {},
   "outputs": [],
   "source": [
    "# P values for sklearn logistic regression.\n",
    "\n",
    "# Class to display p-values for logistic regression in sklearn.\n",
    "\n",
    "from sklearn import linear_model\n",
    "import scipy.stats as stat\n",
    "\n",
    "class LogisticRegression_with_p_values:\n",
    "    \n",
    "    def __init__(self,*args,**kwargs):#,**kwargs):\n",
    "        self.model = linear_model.LogisticRegression(*args,**kwargs)#,**args)\n",
    "\n",
    "    def fit(self,X,y):\n",
    "        self.model.fit(X,y)\n",
    "        \n",
    "        #### Get p-values for the fitted model ####\n",
    "        denom = (2.0 * (1.0 + np.cosh(self.model.decision_function(X))))\n",
    "        denom = np.tile(denom,(X.shape[1],1)).T\n",
    "        F_ij = np.dot((X / denom).T,X) ## Fisher Information Matrix\n",
    "        Cramer_Rao = np.linalg.inv(F_ij) ## Inverse Information Matrix\n",
    "        sigma_estimates = np.sqrt(np.diagonal(Cramer_Rao))\n",
    "        z_scores = self.model.coef_[0] / sigma_estimates # z-score for eaach model coefficient\n",
    "        p_values = [stat.norm.sf(abs(x)) * 2 for x in z_scores] ### two tailed test for p-values\n",
    "        \n",
    "        self.coef_ = self.model.coef_\n",
    "        self.intercept_ = self.model.intercept_\n",
    "        self.p_values = p_values"
   ]
  },
  {
   "cell_type": "code",
   "execution_count": 34,
   "metadata": {},
   "outputs": [],
   "source": [
    "# Estimates the coefficients of the object from the 'LogisticRegression' class\n",
    "reg_lgd_st_1 = LogisticRegression_with_p_values()\n",
    "reg_lgd_st_1.fit(lgd_inputs_stage_1_train, lgd_targets_stage_1_train)"
   ]
  },
  {
   "cell_type": "code",
   "execution_count": 35,
   "metadata": {},
   "outputs": [],
   "source": [
    "# Stores the names of the columns of a dataframe in a variable.\n",
    "feature_name = lgd_inputs_stage_1_train.columns.values"
   ]
  },
  {
   "cell_type": "code",
   "execution_count": 36,
   "metadata": {},
   "outputs": [
    {
     "data": {
      "text/html": [
       "<div>\n",
       "<style scoped>\n",
       "    .dataframe tbody tr th:only-of-type {\n",
       "        vertical-align: middle;\n",
       "    }\n",
       "\n",
       "    .dataframe tbody tr th {\n",
       "        vertical-align: top;\n",
       "    }\n",
       "\n",
       "    .dataframe thead th {\n",
       "        text-align: right;\n",
       "    }\n",
       "</style>\n",
       "<table border=\"1\" class=\"dataframe\">\n",
       "  <thead>\n",
       "    <tr style=\"text-align: right;\">\n",
       "      <th></th>\n",
       "      <th>Feature name</th>\n",
       "      <th>Coefficients</th>\n",
       "      <th>p_values</th>\n",
       "    </tr>\n",
       "  </thead>\n",
       "  <tbody>\n",
       "    <tr>\n",
       "      <td>0</td>\n",
       "      <td>Intercept</td>\n",
       "      <td>-1.099871e-03</td>\n",
       "      <td>NaN</td>\n",
       "    </tr>\n",
       "    <tr>\n",
       "      <td>1</td>\n",
       "      <td>grade:A</td>\n",
       "      <td>-3.554101e-04</td>\n",
       "      <td>9.967018e-01</td>\n",
       "    </tr>\n",
       "    <tr>\n",
       "      <td>2</td>\n",
       "      <td>grade:B</td>\n",
       "      <td>-1.118842e-03</td>\n",
       "      <td>9.871377e-01</td>\n",
       "    </tr>\n",
       "    <tr>\n",
       "      <td>3</td>\n",
       "      <td>grade:C</td>\n",
       "      <td>-1.245551e-03</td>\n",
       "      <td>9.851331e-01</td>\n",
       "    </tr>\n",
       "    <tr>\n",
       "      <td>4</td>\n",
       "      <td>grade:D</td>\n",
       "      <td>3.237490e-04</td>\n",
       "      <td>9.962848e-01</td>\n",
       "    </tr>\n",
       "    <tr>\n",
       "      <td>5</td>\n",
       "      <td>grade:E</td>\n",
       "      <td>3.473946e-04</td>\n",
       "      <td>9.963842e-01</td>\n",
       "    </tr>\n",
       "    <tr>\n",
       "      <td>6</td>\n",
       "      <td>grade:F</td>\n",
       "      <td>7.929988e-04</td>\n",
       "      <td>9.928165e-01</td>\n",
       "    </tr>\n",
       "    <tr>\n",
       "      <td>7</td>\n",
       "      <td>home_ownership:MORTGAGE</td>\n",
       "      <td>-1.470115e-04</td>\n",
       "      <td>9.954242e-01</td>\n",
       "    </tr>\n",
       "    <tr>\n",
       "      <td>8</td>\n",
       "      <td>home_ownership:NONE</td>\n",
       "      <td>7.117268e-06</td>\n",
       "      <td>9.999930e-01</td>\n",
       "    </tr>\n",
       "    <tr>\n",
       "      <td>9</td>\n",
       "      <td>home_ownership:OTHER</td>\n",
       "      <td>-9.746874e-06</td>\n",
       "      <td>9.999820e-01</td>\n",
       "    </tr>\n",
       "    <tr>\n",
       "      <td>10</td>\n",
       "      <td>home_ownership:OWN</td>\n",
       "      <td>-4.224716e-05</td>\n",
       "      <td>9.991906e-01</td>\n",
       "    </tr>\n",
       "    <tr>\n",
       "      <td>11</td>\n",
       "      <td>verification_status:Not Verified</td>\n",
       "      <td>-1.363611e-03</td>\n",
       "      <td>9.641731e-01</td>\n",
       "    </tr>\n",
       "    <tr>\n",
       "      <td>12</td>\n",
       "      <td>verification_status:Source Verified</td>\n",
       "      <td>-1.179067e-03</td>\n",
       "      <td>9.657515e-01</td>\n",
       "    </tr>\n",
       "    <tr>\n",
       "      <td>13</td>\n",
       "      <td>purpose:car</td>\n",
       "      <td>5.897887e-05</td>\n",
       "      <td>9.996023e-01</td>\n",
       "    </tr>\n",
       "    <tr>\n",
       "      <td>14</td>\n",
       "      <td>purpose:debt_consolidation</td>\n",
       "      <td>-1.025446e-03</td>\n",
       "      <td>9.732108e-01</td>\n",
       "    </tr>\n",
       "    <tr>\n",
       "      <td>15</td>\n",
       "      <td>purpose:educational</td>\n",
       "      <td>-2.905239e-05</td>\n",
       "      <td>9.999291e-01</td>\n",
       "    </tr>\n",
       "    <tr>\n",
       "      <td>16</td>\n",
       "      <td>purpose:home_improvement</td>\n",
       "      <td>3.985227e-05</td>\n",
       "      <td>9.994499e-01</td>\n",
       "    </tr>\n",
       "    <tr>\n",
       "      <td>17</td>\n",
       "      <td>purpose:house</td>\n",
       "      <td>8.038157e-05</td>\n",
       "      <td>9.995598e-01</td>\n",
       "    </tr>\n",
       "    <tr>\n",
       "      <td>18</td>\n",
       "      <td>purpose:major_purchase</td>\n",
       "      <td>9.286654e-05</td>\n",
       "      <td>9.991555e-01</td>\n",
       "    </tr>\n",
       "    <tr>\n",
       "      <td>19</td>\n",
       "      <td>purpose:medical</td>\n",
       "      <td>-2.296710e-06</td>\n",
       "      <td>9.999829e-01</td>\n",
       "    </tr>\n",
       "    <tr>\n",
       "      <td>20</td>\n",
       "      <td>purpose:moving</td>\n",
       "      <td>1.472637e-05</td>\n",
       "      <td>9.999034e-01</td>\n",
       "    </tr>\n",
       "    <tr>\n",
       "      <td>21</td>\n",
       "      <td>purpose:other</td>\n",
       "      <td>2.224346e-04</td>\n",
       "      <td>9.966770e-01</td>\n",
       "    </tr>\n",
       "    <tr>\n",
       "      <td>22</td>\n",
       "      <td>purpose:renewable_energy</td>\n",
       "      <td>2.314991e-05</td>\n",
       "      <td>9.999466e-01</td>\n",
       "    </tr>\n",
       "    <tr>\n",
       "      <td>23</td>\n",
       "      <td>purpose:small_business</td>\n",
       "      <td>2.661882e-04</td>\n",
       "      <td>9.971050e-01</td>\n",
       "    </tr>\n",
       "    <tr>\n",
       "      <td>24</td>\n",
       "      <td>purpose:vacation</td>\n",
       "      <td>2.816670e-05</td>\n",
       "      <td>9.998460e-01</td>\n",
       "    </tr>\n",
       "    <tr>\n",
       "      <td>25</td>\n",
       "      <td>purpose:wedding</td>\n",
       "      <td>5.412470e-05</td>\n",
       "      <td>9.997127e-01</td>\n",
       "    </tr>\n",
       "    <tr>\n",
       "      <td>26</td>\n",
       "      <td>initial_list_status:w</td>\n",
       "      <td>-5.959378e-03</td>\n",
       "      <td>8.257911e-01</td>\n",
       "    </tr>\n",
       "    <tr>\n",
       "      <td>27</td>\n",
       "      <td>term_int</td>\n",
       "      <td>-1.545424e-02</td>\n",
       "      <td>9.581541e-10</td>\n",
       "    </tr>\n",
       "    <tr>\n",
       "      <td>28</td>\n",
       "      <td>emp_length_int</td>\n",
       "      <td>-1.889944e-03</td>\n",
       "      <td>5.416154e-01</td>\n",
       "    </tr>\n",
       "    <tr>\n",
       "      <td>29</td>\n",
       "      <td>mths_since_issue_d</td>\n",
       "      <td>2.774340e-02</td>\n",
       "      <td>7.937189e-198</td>\n",
       "    </tr>\n",
       "    <tr>\n",
       "      <td>30</td>\n",
       "      <td>mths_since_earliest_cr_line</td>\n",
       "      <td>-1.325833e-03</td>\n",
       "      <td>1.879348e-19</td>\n",
       "    </tr>\n",
       "    <tr>\n",
       "      <td>31</td>\n",
       "      <td>funded_amnt</td>\n",
       "      <td>6.836886e-05</td>\n",
       "      <td>1.289197e-11</td>\n",
       "    </tr>\n",
       "    <tr>\n",
       "      <td>32</td>\n",
       "      <td>int_rate</td>\n",
       "      <td>8.585412e-03</td>\n",
       "      <td>1.445817e-01</td>\n",
       "    </tr>\n",
       "    <tr>\n",
       "      <td>33</td>\n",
       "      <td>installment</td>\n",
       "      <td>-1.598865e-03</td>\n",
       "      <td>3.470870e-07</td>\n",
       "    </tr>\n",
       "    <tr>\n",
       "      <td>34</td>\n",
       "      <td>annual_inc</td>\n",
       "      <td>1.334696e-07</td>\n",
       "      <td>7.036847e-01</td>\n",
       "    </tr>\n",
       "    <tr>\n",
       "      <td>35</td>\n",
       "      <td>dti</td>\n",
       "      <td>-1.904623e-02</td>\n",
       "      <td>7.217929e-31</td>\n",
       "    </tr>\n",
       "    <tr>\n",
       "      <td>36</td>\n",
       "      <td>delinq_2yrs</td>\n",
       "      <td>3.579848e-04</td>\n",
       "      <td>9.806704e-01</td>\n",
       "    </tr>\n",
       "    <tr>\n",
       "      <td>37</td>\n",
       "      <td>inq_last_6mths</td>\n",
       "      <td>8.434581e-04</td>\n",
       "      <td>9.306551e-01</td>\n",
       "    </tr>\n",
       "    <tr>\n",
       "      <td>38</td>\n",
       "      <td>mths_since_last_delinq</td>\n",
       "      <td>-1.863668e-04</td>\n",
       "      <td>7.164304e-01</td>\n",
       "    </tr>\n",
       "    <tr>\n",
       "      <td>39</td>\n",
       "      <td>mths_since_last_record</td>\n",
       "      <td>-3.500891e-03</td>\n",
       "      <td>2.056914e-08</td>\n",
       "    </tr>\n",
       "    <tr>\n",
       "      <td>40</td>\n",
       "      <td>open_acc</td>\n",
       "      <td>-5.919326e-03</td>\n",
       "      <td>7.350784e-02</td>\n",
       "    </tr>\n",
       "    <tr>\n",
       "      <td>41</td>\n",
       "      <td>pub_rec</td>\n",
       "      <td>-9.320906e-05</td>\n",
       "      <td>9.981322e-01</td>\n",
       "    </tr>\n",
       "    <tr>\n",
       "      <td>42</td>\n",
       "      <td>total_acc</td>\n",
       "      <td>-8.936900e-03</td>\n",
       "      <td>1.181013e-09</td>\n",
       "    </tr>\n",
       "    <tr>\n",
       "      <td>43</td>\n",
       "      <td>acc_now_delinq</td>\n",
       "      <td>5.281312e-05</td>\n",
       "      <td>9.997605e-01</td>\n",
       "    </tr>\n",
       "    <tr>\n",
       "      <td>44</td>\n",
       "      <td>total_rev_hi_lim</td>\n",
       "      <td>-9.927940e-07</td>\n",
       "      <td>1.319308e-01</td>\n",
       "    </tr>\n",
       "  </tbody>\n",
       "</table>\n",
       "</div>"
      ],
      "text/plain": [
       "                           Feature name  Coefficients       p_values\n",
       "0                             Intercept -1.099871e-03            NaN\n",
       "1                               grade:A -3.554101e-04   9.967018e-01\n",
       "2                               grade:B -1.118842e-03   9.871377e-01\n",
       "3                               grade:C -1.245551e-03   9.851331e-01\n",
       "4                               grade:D  3.237490e-04   9.962848e-01\n",
       "5                               grade:E  3.473946e-04   9.963842e-01\n",
       "6                               grade:F  7.929988e-04   9.928165e-01\n",
       "7               home_ownership:MORTGAGE -1.470115e-04   9.954242e-01\n",
       "8                   home_ownership:NONE  7.117268e-06   9.999930e-01\n",
       "9                  home_ownership:OTHER -9.746874e-06   9.999820e-01\n",
       "10                   home_ownership:OWN -4.224716e-05   9.991906e-01\n",
       "11     verification_status:Not Verified -1.363611e-03   9.641731e-01\n",
       "12  verification_status:Source Verified -1.179067e-03   9.657515e-01\n",
       "13                          purpose:car  5.897887e-05   9.996023e-01\n",
       "14           purpose:debt_consolidation -1.025446e-03   9.732108e-01\n",
       "15                  purpose:educational -2.905239e-05   9.999291e-01\n",
       "16             purpose:home_improvement  3.985227e-05   9.994499e-01\n",
       "17                        purpose:house  8.038157e-05   9.995598e-01\n",
       "18               purpose:major_purchase  9.286654e-05   9.991555e-01\n",
       "19                      purpose:medical -2.296710e-06   9.999829e-01\n",
       "20                       purpose:moving  1.472637e-05   9.999034e-01\n",
       "21                        purpose:other  2.224346e-04   9.966770e-01\n",
       "22             purpose:renewable_energy  2.314991e-05   9.999466e-01\n",
       "23               purpose:small_business  2.661882e-04   9.971050e-01\n",
       "24                     purpose:vacation  2.816670e-05   9.998460e-01\n",
       "25                      purpose:wedding  5.412470e-05   9.997127e-01\n",
       "26                initial_list_status:w -5.959378e-03   8.257911e-01\n",
       "27                             term_int -1.545424e-02   9.581541e-10\n",
       "28                       emp_length_int -1.889944e-03   5.416154e-01\n",
       "29                   mths_since_issue_d  2.774340e-02  7.937189e-198\n",
       "30          mths_since_earliest_cr_line -1.325833e-03   1.879348e-19\n",
       "31                          funded_amnt  6.836886e-05   1.289197e-11\n",
       "32                             int_rate  8.585412e-03   1.445817e-01\n",
       "33                          installment -1.598865e-03   3.470870e-07\n",
       "34                           annual_inc  1.334696e-07   7.036847e-01\n",
       "35                                  dti -1.904623e-02   7.217929e-31\n",
       "36                          delinq_2yrs  3.579848e-04   9.806704e-01\n",
       "37                       inq_last_6mths  8.434581e-04   9.306551e-01\n",
       "38               mths_since_last_delinq -1.863668e-04   7.164304e-01\n",
       "39               mths_since_last_record -3.500891e-03   2.056914e-08\n",
       "40                             open_acc -5.919326e-03   7.350784e-02\n",
       "41                              pub_rec -9.320906e-05   9.981322e-01\n",
       "42                            total_acc -8.936900e-03   1.181013e-09\n",
       "43                       acc_now_delinq  5.281312e-05   9.997605e-01\n",
       "44                     total_rev_hi_lim -9.927940e-07   1.319308e-01"
      ]
     },
     "execution_count": 36,
     "metadata": {},
     "output_type": "execute_result"
    }
   ],
   "source": [
    "# Summarise in a table\n",
    "summary_table = pd.DataFrame(columns = ['Feature name'], data = feature_name)\n",
    "summary_table['Coefficients'] = np.transpose(reg_lgd_st_1.coef_)\n",
    "summary_table.index = summary_table.index + 1\n",
    "summary_table.loc[0] = ['Intercept', reg_lgd_st_1.intercept_[0]]\n",
    "summary_table = summary_table.sort_index()\n",
    "p_values = reg_lgd_st_1.p_values\n",
    "p_values = np.append(np.nan,np.array(p_values))\n",
    "summary_table['p_values'] = p_values\n",
    "\n",
    "summary_table"
   ]
  },
  {
   "cell_type": "markdown",
   "metadata": {},
   "source": [
    "### Testing the Model"
   ]
  },
  {
   "cell_type": "code",
   "execution_count": 37,
   "metadata": {},
   "outputs": [],
   "source": [
    "# Here we keep only the variables we need for the model.\n",
    "lgd_inputs_stage_1_test = lgd_inputs_stage_1_test[features_all]"
   ]
  },
  {
   "cell_type": "code",
   "execution_count": 38,
   "metadata": {},
   "outputs": [],
   "source": [
    "# Here we remove the dummy variable reference categories.\n",
    "lgd_inputs_stage_1_test = lgd_inputs_stage_1_test.drop(features_reference_cat, axis = 1)"
   ]
  },
  {
   "cell_type": "code",
   "execution_count": 39,
   "metadata": {},
   "outputs": [],
   "source": [
    "# Calculates the predicted values for the dependent variable (targets)\n",
    "# based on the values of the independent variables (inputs) supplied as an argument.\n",
    "\n",
    "y_hat_test_lgd_stage_1 = reg_lgd_st_1.model.predict(lgd_inputs_stage_1_test)"
   ]
  },
  {
   "cell_type": "code",
   "execution_count": 40,
   "metadata": {},
   "outputs": [
    {
     "data": {
      "text/plain": [
       "array([1, 1, 0, ..., 1, 1, 0])"
      ]
     },
     "execution_count": 40,
     "metadata": {},
     "output_type": "execute_result"
    }
   ],
   "source": [
    "y_hat_test_lgd_stage_1"
   ]
  },
  {
   "cell_type": "code",
   "execution_count": 41,
   "metadata": {},
   "outputs": [],
   "source": [
    "# Calculates the predicted probability values for the dependent variable (targets)\n",
    "y_hat_test_proba_lgd_stage_1 = reg_lgd_st_1.model.predict_proba(lgd_inputs_stage_1_test)"
   ]
  },
  {
   "cell_type": "code",
   "execution_count": 42,
   "metadata": {},
   "outputs": [
    {
     "data": {
      "text/plain": [
       "array([[0.41500699, 0.58499301],\n",
       "       [0.38352879, 0.61647121],\n",
       "       [0.60441486, 0.39558514],\n",
       "       ...,\n",
       "       [0.49350618, 0.50649382],\n",
       "       [0.40902462, 0.59097538],\n",
       "       [0.56660687, 0.43339313]])"
      ]
     },
     "execution_count": 42,
     "metadata": {},
     "output_type": "execute_result"
    }
   ],
   "source": [
    "y_hat_test_proba_lgd_stage_1"
   ]
  },
  {
   "cell_type": "code",
   "execution_count": 43,
   "metadata": {},
   "outputs": [],
   "source": [
    "# Here we take all the arrays in the array, and from each array, we take all rows, and only the element with index 1,\n",
    "# that is, the second element.\n",
    "\n",
    "y_hat_test_proba_lgd_stage_1 = y_hat_test_proba_lgd_stage_1[: ][: , 1]"
   ]
  },
  {
   "cell_type": "code",
   "execution_count": 44,
   "metadata": {},
   "outputs": [
    {
     "data": {
      "text/plain": [
       "array([0.58499301, 0.61647121, 0.39558514, ..., 0.50649382, 0.59097538,\n",
       "       0.43339313])"
      ]
     },
     "execution_count": 44,
     "metadata": {},
     "output_type": "execute_result"
    }
   ],
   "source": [
    "y_hat_test_proba_lgd_stage_1"
   ]
  },
  {
   "cell_type": "code",
   "execution_count": 45,
   "metadata": {},
   "outputs": [],
   "source": [
    "lgd_targets_stage_1_test_temp = lgd_targets_stage_1_test"
   ]
  },
  {
   "cell_type": "code",
   "execution_count": 46,
   "metadata": {},
   "outputs": [],
   "source": [
    "lgd_targets_stage_1_test_temp.reset_index(drop = True, inplace = True)"
   ]
  },
  {
   "cell_type": "code",
   "execution_count": 47,
   "metadata": {},
   "outputs": [],
   "source": [
    "df_actual_predicted_probs = pd.concat([lgd_targets_stage_1_test_temp, pd.DataFrame(y_hat_test_proba_lgd_stage_1)], axis = 1)"
   ]
  },
  {
   "cell_type": "code",
   "execution_count": 48,
   "metadata": {},
   "outputs": [],
   "source": [
    "df_actual_predicted_probs.columns = ['lgd_targets_stage_1_test', 'y_hat_test_proba_lgd_stage_1']"
   ]
  },
  {
   "cell_type": "code",
   "execution_count": 49,
   "metadata": {},
   "outputs": [],
   "source": [
    "# Makes the index of one dataframe equal to the index of another dataframe.\n",
    "df_actual_predicted_probs.index = lgd_inputs_stage_1_test.index"
   ]
  },
  {
   "cell_type": "code",
   "execution_count": 50,
   "metadata": {},
   "outputs": [
    {
     "data": {
      "text/html": [
       "<div>\n",
       "<style scoped>\n",
       "    .dataframe tbody tr th:only-of-type {\n",
       "        vertical-align: middle;\n",
       "    }\n",
       "\n",
       "    .dataframe tbody tr th {\n",
       "        vertical-align: top;\n",
       "    }\n",
       "\n",
       "    .dataframe thead th {\n",
       "        text-align: right;\n",
       "    }\n",
       "</style>\n",
       "<table border=\"1\" class=\"dataframe\">\n",
       "  <thead>\n",
       "    <tr style=\"text-align: right;\">\n",
       "      <th></th>\n",
       "      <th>lgd_targets_stage_1_test</th>\n",
       "      <th>y_hat_test_proba_lgd_stage_1</th>\n",
       "    </tr>\n",
       "  </thead>\n",
       "  <tbody>\n",
       "    <tr>\n",
       "      <td>178928</td>\n",
       "      <td>1</td>\n",
       "      <td>0.584993</td>\n",
       "    </tr>\n",
       "    <tr>\n",
       "      <td>69814</td>\n",
       "      <td>1</td>\n",
       "      <td>0.616471</td>\n",
       "    </tr>\n",
       "    <tr>\n",
       "      <td>101396</td>\n",
       "      <td>0</td>\n",
       "      <td>0.395585</td>\n",
       "    </tr>\n",
       "    <tr>\n",
       "      <td>463268</td>\n",
       "      <td>1</td>\n",
       "      <td>0.550757</td>\n",
       "    </tr>\n",
       "    <tr>\n",
       "      <td>253729</td>\n",
       "      <td>0</td>\n",
       "      <td>0.421088</td>\n",
       "    </tr>\n",
       "  </tbody>\n",
       "</table>\n",
       "</div>"
      ],
      "text/plain": [
       "        lgd_targets_stage_1_test  y_hat_test_proba_lgd_stage_1\n",
       "178928                         1                      0.584993\n",
       "69814                          1                      0.616471\n",
       "101396                         0                      0.395585\n",
       "463268                         1                      0.550757\n",
       "253729                         0                      0.421088"
      ]
     },
     "execution_count": 50,
     "metadata": {},
     "output_type": "execute_result"
    }
   ],
   "source": [
    "df_actual_predicted_probs.head()"
   ]
  },
  {
   "cell_type": "markdown",
   "metadata": {},
   "source": [
    "### Estimating the Аccuracy of the Мodel"
   ]
  },
  {
   "cell_type": "code",
   "execution_count": 51,
   "metadata": {},
   "outputs": [],
   "source": [
    "tr = 0.5\n",
    "\n",
    "df_actual_predicted_probs['y_hat_test_lgd_stage_1'] = np.where(df_actual_predicted_probs['y_hat_test_proba_lgd_stage_1'] > tr, 1, 0)"
   ]
  },
  {
   "cell_type": "code",
   "execution_count": 52,
   "metadata": {
    "scrolled": true
   },
   "outputs": [
    {
     "data": {
      "text/html": [
       "<div>\n",
       "<style scoped>\n",
       "    .dataframe tbody tr th:only-of-type {\n",
       "        vertical-align: middle;\n",
       "    }\n",
       "\n",
       "    .dataframe tbody tr th {\n",
       "        vertical-align: top;\n",
       "    }\n",
       "\n",
       "    .dataframe thead th {\n",
       "        text-align: right;\n",
       "    }\n",
       "</style>\n",
       "<table border=\"1\" class=\"dataframe\">\n",
       "  <thead>\n",
       "    <tr style=\"text-align: right;\">\n",
       "      <th>Predicted</th>\n",
       "      <th>0</th>\n",
       "      <th>1</th>\n",
       "    </tr>\n",
       "    <tr>\n",
       "      <th>Actual</th>\n",
       "      <th></th>\n",
       "      <th></th>\n",
       "    </tr>\n",
       "  </thead>\n",
       "  <tbody>\n",
       "    <tr>\n",
       "      <td>0</td>\n",
       "      <td>1604</td>\n",
       "      <td>2158</td>\n",
       "    </tr>\n",
       "    <tr>\n",
       "      <td>1</td>\n",
       "      <td>1069</td>\n",
       "      <td>3817</td>\n",
       "    </tr>\n",
       "  </tbody>\n",
       "</table>\n",
       "</div>"
      ],
      "text/plain": [
       "Predicted     0     1\n",
       "Actual               \n",
       "0          1604  2158\n",
       "1          1069  3817"
      ]
     },
     "execution_count": 52,
     "metadata": {},
     "output_type": "execute_result"
    }
   ],
   "source": [
    "# Confusion Matrix\n",
    "pd.crosstab(df_actual_predicted_probs['lgd_targets_stage_1_test'], df_actual_predicted_probs['y_hat_test_lgd_stage_1'], rownames = ['Actual'], colnames = ['Predicted'])"
   ]
  },
  {
   "cell_type": "code",
   "execution_count": 53,
   "metadata": {},
   "outputs": [
    {
     "data": {
      "text/html": [
       "<div>\n",
       "<style scoped>\n",
       "    .dataframe tbody tr th:only-of-type {\n",
       "        vertical-align: middle;\n",
       "    }\n",
       "\n",
       "    .dataframe tbody tr th {\n",
       "        vertical-align: top;\n",
       "    }\n",
       "\n",
       "    .dataframe thead th {\n",
       "        text-align: right;\n",
       "    }\n",
       "</style>\n",
       "<table border=\"1\" class=\"dataframe\">\n",
       "  <thead>\n",
       "    <tr style=\"text-align: right;\">\n",
       "      <th>Predicted</th>\n",
       "      <th>0</th>\n",
       "      <th>1</th>\n",
       "    </tr>\n",
       "    <tr>\n",
       "      <th>Actual</th>\n",
       "      <th></th>\n",
       "      <th></th>\n",
       "    </tr>\n",
       "  </thead>\n",
       "  <tbody>\n",
       "    <tr>\n",
       "      <td>0</td>\n",
       "      <td>0.185476</td>\n",
       "      <td>0.249537</td>\n",
       "    </tr>\n",
       "    <tr>\n",
       "      <td>1</td>\n",
       "      <td>0.123612</td>\n",
       "      <td>0.441374</td>\n",
       "    </tr>\n",
       "  </tbody>\n",
       "</table>\n",
       "</div>"
      ],
      "text/plain": [
       "Predicted         0         1\n",
       "Actual                       \n",
       "0          0.185476  0.249537\n",
       "1          0.123612  0.441374"
      ]
     },
     "execution_count": 53,
     "metadata": {},
     "output_type": "execute_result"
    }
   ],
   "source": [
    "# Confusion Matrix  : Proportions\n",
    "pd.crosstab(df_actual_predicted_probs['lgd_targets_stage_1_test'], df_actual_predicted_probs['y_hat_test_lgd_stage_1'], rownames = ['Actual'], colnames = ['Predicted']) / df_actual_predicted_probs.shape[0]"
   ]
  },
  {
   "cell_type": "code",
   "execution_count": 54,
   "metadata": {},
   "outputs": [
    {
     "data": {
      "text/plain": [
       "0.6268501387604071"
      ]
     },
     "execution_count": 54,
     "metadata": {},
     "output_type": "execute_result"
    }
   ],
   "source": [
    "# Here we calculate Accuracy of the model, which is the sum of the diagonal rates.\n",
    "(pd.crosstab(df_actual_predicted_probs['lgd_targets_stage_1_test'], df_actual_predicted_probs['y_hat_test_lgd_stage_1'], rownames = ['Actual'], colnames = ['Predicted']) / df_actual_predicted_probs.shape[0]).iloc[0, 0] + (pd.crosstab(df_actual_predicted_probs['lgd_targets_stage_1_test'], df_actual_predicted_probs['y_hat_test_lgd_stage_1'], rownames = ['Actual'], colnames = ['Predicted']) / df_actual_predicted_probs.shape[0]).iloc[1, 1]"
   ]
  },
  {
   "cell_type": "code",
   "execution_count": 55,
   "metadata": {},
   "outputs": [],
   "source": [
    "from sklearn.metrics import roc_curve, roc_auc_score"
   ]
  },
  {
   "cell_type": "code",
   "execution_count": 56,
   "metadata": {},
   "outputs": [],
   "source": [
    "fpr, tpr, thresholds = roc_curve(df_actual_predicted_probs['lgd_targets_stage_1_test'], df_actual_predicted_probs['y_hat_test_proba_lgd_stage_1'])"
   ]
  },
  {
   "cell_type": "code",
   "execution_count": 57,
   "metadata": {},
   "outputs": [
    {
     "data": {
      "text/plain": [
       "Text(0.5, 1.0, 'ROC curve')"
      ]
     },
     "execution_count": 57,
     "metadata": {},
     "output_type": "execute_result"
    },
    {
     "data": {
      "image/png": "[encoded data removed]",
      "text/plain": [
       "<Figure size 432x288 with 1 Axes>"
      ]
     },
     "metadata": {
      "needs_background": "light"
     },
     "output_type": "display_data"
    }
   ],
   "source": [
    "plt.plot(fpr, tpr)\n",
    "plt.plot(fpr, fpr, linestyle = '--', color = 'k')\n",
    "plt.xlabel('False positive rate')\n",
    "plt.ylabel('True positive rate')\n",
    "plt.title('ROC curve')"
   ]
  },
  {
   "cell_type": "code",
   "execution_count": 58,
   "metadata": {},
   "outputs": [
    {
     "data": {
      "text/plain": [
       "0.6616205683088506"
      ]
     },
     "execution_count": 58,
     "metadata": {},
     "output_type": "execute_result"
    }
   ],
   "source": [
    "# Calculates the Area Under the Receiver Operating Characteristic Curve (AUROC)\n",
    "# from a set of actual values and their predicted probabilities.\n",
    "\n",
    "AUROC = roc_auc_score(df_actual_predicted_probs['lgd_targets_stage_1_test'], df_actual_predicted_probs['y_hat_test_proba_lgd_stage_1'])\n",
    "AUROC"
   ]
  },
  {
   "cell_type": "markdown",
   "metadata": {},
   "source": [
    "### Saving the Model\n",
    "\n",
    "It consist on saving the train- logistic model we have.  For our case , the regression logistic model"
   ]
  },
  {
   "cell_type": "code",
   "execution_count": 59,
   "metadata": {},
   "outputs": [],
   "source": [
    "import pickle"
   ]
  },
  {
   "cell_type": "code",
   "execution_count": 60,
   "metadata": {},
   "outputs": [],
   "source": [
    "pickle.dump(reg_lgd_st_1, open('lgd_model_stage_1.sav', 'wb'))"
   ]
  },
  {
   "cell_type": "markdown",
   "metadata": {},
   "source": [
    "### Stage 2 – Linear Regression\n",
    "\n",
    "<center> LGD model stage 2 datasets: how much more than 0 is the recovery rate </center>"
   ]
  },
  {
   "cell_type": "code",
   "execution_count": 61,
   "metadata": {},
   "outputs": [],
   "source": [
    "# Here we take only rows where the original recovery rate variable is greater than one,\n",
    "# i.e. where the indicator variable we created is equal to 1.\n",
    "\n",
    "lgd_stage_2_data = loan_data_defaults[loan_data_defaults['recovery_rate_0_1'] == 1]"
   ]
  },
  {
   "cell_type": "code",
   "execution_count": 62,
   "metadata": {},
   "outputs": [],
   "source": [
    "lgd_inputs_stage_2_train, lgd_inputs_stage_2_test, lgd_targets_stage_2_train, lgd_targets_stage_2_test = train_test_split(lgd_stage_2_data.drop(['good_bad', 'recovery_rate','recovery_rate_0_1', 'CCF'], axis = 1), lgd_stage_2_data['recovery_rate'], test_size = 0.2, random_state = 42)"
   ]
  },
  {
   "cell_type": "code",
   "execution_count": 63,
   "metadata": {},
   "outputs": [],
   "source": [
    "from sklearn import linear_model\n",
    "from sklearn.metrics import mean_squared_error, r2_score"
   ]
  },
  {
   "cell_type": "code",
   "execution_count": 64,
   "metadata": {},
   "outputs": [],
   "source": [
    "import scipy.stats as stat\n",
    "\n",
    "class LinearRegression(linear_model.LinearRegression):\n",
    "    def __init__(self, fit_intercept=True, normalize=False, copy_X=True,\n",
    "                 n_jobs=1):\n",
    "        self.fit_intercept = fit_intercept\n",
    "        self.normalize = normalize\n",
    "        self.copy_X = copy_X\n",
    "        self.n_jobs = n_jobs\n",
    "    def fit(self, X, y, n_jobs=1):\n",
    "        self = super(LinearRegression, self).fit(X, y, n_jobs)\n",
    "        sse = np.sum((self.predict(X) - y) ** 2, axis=0) / float(X.shape[0] - X.shape[1])\n",
    "        se = np.array([np.sqrt(np.diagonal(sse * np.linalg.inv(np.dot(X.T, X))))])\n",
    "        self.t = self.coef_ / se\n",
    "        self.p = np.squeeze(2 * (1 - stat.t.cdf(np.abs(self.t), y.shape[0] - X.shape[1])))\n",
    "        return self"
   ]
  },
  {
   "cell_type": "code",
   "execution_count": 65,
   "metadata": {},
   "outputs": [],
   "source": [
    "# Here we keep only the variables we need for the model.\n",
    "lgd_inputs_stage_2_train = lgd_inputs_stage_2_train[features_all]"
   ]
  },
  {
   "cell_type": "code",
   "execution_count": 66,
   "metadata": {},
   "outputs": [],
   "source": [
    "# Here we remove the dummy variable reference categories.\n",
    "lgd_inputs_stage_2_train = lgd_inputs_stage_2_train.drop(features_reference_cat, axis = 1)"
   ]
  },
  {
   "cell_type": "code",
   "execution_count": 67,
   "metadata": {},
   "outputs": [
    {
     "data": {
      "text/plain": [
       "LinearRegression(copy_X=True, fit_intercept=True, n_jobs=1, normalize=False)"
      ]
     },
     "execution_count": 67,
     "metadata": {},
     "output_type": "execute_result"
    }
   ],
   "source": [
    "# Estimates the coefficients of the object from the 'LogisticRegression' class\n",
    "reg_lgd_st_2 = LinearRegression()\n",
    "reg_lgd_st_2.fit(lgd_inputs_stage_2_train, lgd_targets_stage_2_train)"
   ]
  },
  {
   "cell_type": "code",
   "execution_count": 68,
   "metadata": {},
   "outputs": [],
   "source": [
    "feature_name = lgd_inputs_stage_2_train.columns.values"
   ]
  },
  {
   "cell_type": "code",
   "execution_count": 69,
   "metadata": {},
   "outputs": [
    {
     "data": {
      "text/html": [
       "<div>\n",
       "<style scoped>\n",
       "    .dataframe tbody tr th:only-of-type {\n",
       "        vertical-align: middle;\n",
       "    }\n",
       "\n",
       "    .dataframe tbody tr th {\n",
       "        vertical-align: top;\n",
       "    }\n",
       "\n",
       "    .dataframe thead th {\n",
       "        text-align: right;\n",
       "    }\n",
       "</style>\n",
       "<table border=\"1\" class=\"dataframe\">\n",
       "  <thead>\n",
       "    <tr style=\"text-align: right;\">\n",
       "      <th></th>\n",
       "      <th>Feature name</th>\n",
       "      <th>Coefficients</th>\n",
       "      <th>p_values</th>\n",
       "    </tr>\n",
       "  </thead>\n",
       "  <tbody>\n",
       "    <tr>\n",
       "      <td>0</td>\n",
       "      <td>Intercept</td>\n",
       "      <td>2.406858e-01</td>\n",
       "      <td>NaN</td>\n",
       "    </tr>\n",
       "    <tr>\n",
       "      <td>1</td>\n",
       "      <td>grade:A</td>\n",
       "      <td>-6.826892e-02</td>\n",
       "      <td>0.000</td>\n",
       "    </tr>\n",
       "    <tr>\n",
       "      <td>2</td>\n",
       "      <td>grade:B</td>\n",
       "      <td>-5.083556e-02</td>\n",
       "      <td>0.000</td>\n",
       "    </tr>\n",
       "    <tr>\n",
       "      <td>3</td>\n",
       "      <td>grade:C</td>\n",
       "      <td>-3.748066e-02</td>\n",
       "      <td>0.000</td>\n",
       "    </tr>\n",
       "    <tr>\n",
       "      <td>4</td>\n",
       "      <td>grade:D</td>\n",
       "      <td>-2.717310e-02</td>\n",
       "      <td>0.000</td>\n",
       "    </tr>\n",
       "    <tr>\n",
       "      <td>5</td>\n",
       "      <td>grade:E</td>\n",
       "      <td>-1.315941e-02</td>\n",
       "      <td>0.002</td>\n",
       "    </tr>\n",
       "    <tr>\n",
       "      <td>6</td>\n",
       "      <td>grade:F</td>\n",
       "      <td>-5.260168e-03</td>\n",
       "      <td>0.275</td>\n",
       "    </tr>\n",
       "    <tr>\n",
       "      <td>7</td>\n",
       "      <td>home_ownership:MORTGAGE</td>\n",
       "      <td>2.832212e-03</td>\n",
       "      <td>0.061</td>\n",
       "    </tr>\n",
       "    <tr>\n",
       "      <td>8</td>\n",
       "      <td>home_ownership:NONE</td>\n",
       "      <td>1.459035e-01</td>\n",
       "      <td>0.000</td>\n",
       "    </tr>\n",
       "    <tr>\n",
       "      <td>9</td>\n",
       "      <td>home_ownership:OTHER</td>\n",
       "      <td>-9.475922e-03</td>\n",
       "      <td>0.644</td>\n",
       "    </tr>\n",
       "    <tr>\n",
       "      <td>10</td>\n",
       "      <td>home_ownership:OWN</td>\n",
       "      <td>5.000678e-03</td>\n",
       "      <td>0.040</td>\n",
       "    </tr>\n",
       "    <tr>\n",
       "      <td>11</td>\n",
       "      <td>verification_status:Not Verified</td>\n",
       "      <td>1.056585e-03</td>\n",
       "      <td>0.553</td>\n",
       "    </tr>\n",
       "    <tr>\n",
       "      <td>12</td>\n",
       "      <td>verification_status:Source Verified</td>\n",
       "      <td>-1.009915e-03</td>\n",
       "      <td>0.535</td>\n",
       "    </tr>\n",
       "    <tr>\n",
       "      <td>13</td>\n",
       "      <td>purpose:car</td>\n",
       "      <td>-2.995960e-03</td>\n",
       "      <td>0.634</td>\n",
       "    </tr>\n",
       "    <tr>\n",
       "      <td>14</td>\n",
       "      <td>purpose:debt_consolidation</td>\n",
       "      <td>8.206319e-05</td>\n",
       "      <td>0.965</td>\n",
       "    </tr>\n",
       "    <tr>\n",
       "      <td>15</td>\n",
       "      <td>purpose:educational</td>\n",
       "      <td>7.625467e-02</td>\n",
       "      <td>0.000</td>\n",
       "    </tr>\n",
       "    <tr>\n",
       "      <td>16</td>\n",
       "      <td>purpose:home_improvement</td>\n",
       "      <td>-3.702374e-03</td>\n",
       "      <td>0.273</td>\n",
       "    </tr>\n",
       "    <tr>\n",
       "      <td>17</td>\n",
       "      <td>purpose:house</td>\n",
       "      <td>-3.786803e-03</td>\n",
       "      <td>0.620</td>\n",
       "    </tr>\n",
       "    <tr>\n",
       "      <td>18</td>\n",
       "      <td>purpose:major_purchase</td>\n",
       "      <td>2.914439e-03</td>\n",
       "      <td>0.538</td>\n",
       "    </tr>\n",
       "    <tr>\n",
       "      <td>19</td>\n",
       "      <td>purpose:medical</td>\n",
       "      <td>1.078825e-02</td>\n",
       "      <td>0.074</td>\n",
       "    </tr>\n",
       "    <tr>\n",
       "      <td>20</td>\n",
       "      <td>purpose:moving</td>\n",
       "      <td>1.398692e-02</td>\n",
       "      <td>0.039</td>\n",
       "    </tr>\n",
       "    <tr>\n",
       "      <td>21</td>\n",
       "      <td>purpose:other</td>\n",
       "      <td>4.841345e-03</td>\n",
       "      <td>0.109</td>\n",
       "    </tr>\n",
       "    <tr>\n",
       "      <td>22</td>\n",
       "      <td>purpose:renewable_energy</td>\n",
       "      <td>2.420645e-02</td>\n",
       "      <td>0.142</td>\n",
       "    </tr>\n",
       "    <tr>\n",
       "      <td>23</td>\n",
       "      <td>purpose:small_business</td>\n",
       "      <td>6.212343e-04</td>\n",
       "      <td>0.869</td>\n",
       "    </tr>\n",
       "    <tr>\n",
       "      <td>24</td>\n",
       "      <td>purpose:vacation</td>\n",
       "      <td>-3.002398e-03</td>\n",
       "      <td>0.731</td>\n",
       "    </tr>\n",
       "    <tr>\n",
       "      <td>25</td>\n",
       "      <td>purpose:wedding</td>\n",
       "      <td>2.034853e-02</td>\n",
       "      <td>0.006</td>\n",
       "    </tr>\n",
       "    <tr>\n",
       "      <td>26</td>\n",
       "      <td>initial_list_status:w</td>\n",
       "      <td>1.464671e-02</td>\n",
       "      <td>0.000</td>\n",
       "    </tr>\n",
       "    <tr>\n",
       "      <td>27</td>\n",
       "      <td>term_int</td>\n",
       "      <td>3.316229e-04</td>\n",
       "      <td>0.020</td>\n",
       "    </tr>\n",
       "    <tr>\n",
       "      <td>28</td>\n",
       "      <td>emp_length_int</td>\n",
       "      <td>8.727462e-05</td>\n",
       "      <td>0.635</td>\n",
       "    </tr>\n",
       "    <tr>\n",
       "      <td>29</td>\n",
       "      <td>mths_since_issue_d</td>\n",
       "      <td>-1.521649e-03</td>\n",
       "      <td>0.000</td>\n",
       "    </tr>\n",
       "    <tr>\n",
       "      <td>30</td>\n",
       "      <td>mths_since_earliest_cr_line</td>\n",
       "      <td>3.418678e-05</td>\n",
       "      <td>0.000</td>\n",
       "    </tr>\n",
       "    <tr>\n",
       "      <td>31</td>\n",
       "      <td>funded_amnt</td>\n",
       "      <td>-2.186999e-07</td>\n",
       "      <td>0.699</td>\n",
       "    </tr>\n",
       "    <tr>\n",
       "      <td>32</td>\n",
       "      <td>int_rate</td>\n",
       "      <td>-2.544714e-03</td>\n",
       "      <td>0.000</td>\n",
       "    </tr>\n",
       "    <tr>\n",
       "      <td>33</td>\n",
       "      <td>installment</td>\n",
       "      <td>-1.037621e-05</td>\n",
       "      <td>0.557</td>\n",
       "    </tr>\n",
       "    <tr>\n",
       "      <td>34</td>\n",
       "      <td>annual_inc</td>\n",
       "      <td>6.389841e-08</td>\n",
       "      <td>0.001</td>\n",
       "    </tr>\n",
       "    <tr>\n",
       "      <td>35</td>\n",
       "      <td>dti</td>\n",
       "      <td>1.775655e-04</td>\n",
       "      <td>0.069</td>\n",
       "    </tr>\n",
       "    <tr>\n",
       "      <td>36</td>\n",
       "      <td>delinq_2yrs</td>\n",
       "      <td>1.757943e-03</td>\n",
       "      <td>0.050</td>\n",
       "    </tr>\n",
       "    <tr>\n",
       "      <td>37</td>\n",
       "      <td>inq_last_6mths</td>\n",
       "      <td>1.274095e-03</td>\n",
       "      <td>0.018</td>\n",
       "    </tr>\n",
       "    <tr>\n",
       "      <td>38</td>\n",
       "      <td>mths_since_last_delinq</td>\n",
       "      <td>-1.094747e-06</td>\n",
       "      <td>0.971</td>\n",
       "    </tr>\n",
       "    <tr>\n",
       "      <td>39</td>\n",
       "      <td>mths_since_last_record</td>\n",
       "      <td>-5.558083e-05</td>\n",
       "      <td>0.181</td>\n",
       "    </tr>\n",
       "    <tr>\n",
       "      <td>40</td>\n",
       "      <td>open_acc</td>\n",
       "      <td>-1.196505e-03</td>\n",
       "      <td>0.000</td>\n",
       "    </tr>\n",
       "    <tr>\n",
       "      <td>41</td>\n",
       "      <td>pub_rec</td>\n",
       "      <td>3.447322e-03</td>\n",
       "      <td>0.208</td>\n",
       "    </tr>\n",
       "    <tr>\n",
       "      <td>42</td>\n",
       "      <td>total_acc</td>\n",
       "      <td>4.766629e-04</td>\n",
       "      <td>0.000</td>\n",
       "    </tr>\n",
       "    <tr>\n",
       "      <td>43</td>\n",
       "      <td>acc_now_delinq</td>\n",
       "      <td>4.278394e-03</td>\n",
       "      <td>0.658</td>\n",
       "    </tr>\n",
       "    <tr>\n",
       "      <td>44</td>\n",
       "      <td>total_rev_hi_lim</td>\n",
       "      <td>2.263456e-07</td>\n",
       "      <td>0.000</td>\n",
       "    </tr>\n",
       "  </tbody>\n",
       "</table>\n",
       "</div>"
      ],
      "text/plain": [
       "                           Feature name  Coefficients  p_values\n",
       "0                             Intercept  2.406858e-01       NaN\n",
       "1                               grade:A -6.826892e-02     0.000\n",
       "2                               grade:B -5.083556e-02     0.000\n",
       "3                               grade:C -3.748066e-02     0.000\n",
       "4                               grade:D -2.717310e-02     0.000\n",
       "5                               grade:E -1.315941e-02     0.002\n",
       "6                               grade:F -5.260168e-03     0.275\n",
       "7               home_ownership:MORTGAGE  2.832212e-03     0.061\n",
       "8                   home_ownership:NONE  1.459035e-01     0.000\n",
       "9                  home_ownership:OTHER -9.475922e-03     0.644\n",
       "10                   home_ownership:OWN  5.000678e-03     0.040\n",
       "11     verification_status:Not Verified  1.056585e-03     0.553\n",
       "12  verification_status:Source Verified -1.009915e-03     0.535\n",
       "13                          purpose:car -2.995960e-03     0.634\n",
       "14           purpose:debt_consolidation  8.206319e-05     0.965\n",
       "15                  purpose:educational  7.625467e-02     0.000\n",
       "16             purpose:home_improvement -3.702374e-03     0.273\n",
       "17                        purpose:house -3.786803e-03     0.620\n",
       "18               purpose:major_purchase  2.914439e-03     0.538\n",
       "19                      purpose:medical  1.078825e-02     0.074\n",
       "20                       purpose:moving  1.398692e-02     0.039\n",
       "21                        purpose:other  4.841345e-03     0.109\n",
       "22             purpose:renewable_energy  2.420645e-02     0.142\n",
       "23               purpose:small_business  6.212343e-04     0.869\n",
       "24                     purpose:vacation -3.002398e-03     0.731\n",
       "25                      purpose:wedding  2.034853e-02     0.006\n",
       "26                initial_list_status:w  1.464671e-02     0.000\n",
       "27                             term_int  3.316229e-04     0.020\n",
       "28                       emp_length_int  8.727462e-05     0.635\n",
       "29                   mths_since_issue_d -1.521649e-03     0.000\n",
       "30          mths_since_earliest_cr_line  3.418678e-05     0.000\n",
       "31                          funded_amnt -2.186999e-07     0.699\n",
       "32                             int_rate -2.544714e-03     0.000\n",
       "33                          installment -1.037621e-05     0.557\n",
       "34                           annual_inc  6.389841e-08     0.001\n",
       "35                                  dti  1.775655e-04     0.069\n",
       "36                          delinq_2yrs  1.757943e-03     0.050\n",
       "37                       inq_last_6mths  1.274095e-03     0.018\n",
       "38               mths_since_last_delinq -1.094747e-06     0.971\n",
       "39               mths_since_last_record -5.558083e-05     0.181\n",
       "40                             open_acc -1.196505e-03     0.000\n",
       "41                              pub_rec  3.447322e-03     0.208\n",
       "42                            total_acc  4.766629e-04     0.000\n",
       "43                       acc_now_delinq  4.278394e-03     0.658\n",
       "44                     total_rev_hi_lim  2.263456e-07     0.000"
      ]
     },
     "execution_count": 69,
     "metadata": {},
     "output_type": "execute_result"
    }
   ],
   "source": [
    "# Summarize the results\n",
    "summary_table = pd.DataFrame(columns = ['Feature name'], data = feature_name)\n",
    "summary_table['Coefficients'] = np.transpose(reg_lgd_st_2.coef_)\n",
    "summary_table.index = summary_table.index + 1\n",
    "summary_table.loc[0] = ['Intercept', reg_lgd_st_2.intercept_]\n",
    "summary_table = summary_table.sort_index()\n",
    "p_values = reg_lgd_st_2.p\n",
    "p_values = np.append(np.nan,np.array(p_values))\n",
    "summary_table['p_values'] = p_values.round(3)\n",
    "\n",
    "summary_table"
   ]
  },
  {
   "cell_type": "markdown",
   "metadata": {},
   "source": [
    "### Stage 2 – Linear Regression Evaluation"
   ]
  },
  {
   "cell_type": "code",
   "execution_count": 70,
   "metadata": {},
   "outputs": [],
   "source": [
    "lgd_inputs_stage_2_test = lgd_inputs_stage_2_test[features_all]"
   ]
  },
  {
   "cell_type": "code",
   "execution_count": 71,
   "metadata": {},
   "outputs": [],
   "source": [
    "lgd_inputs_stage_2_test = lgd_inputs_stage_2_test.drop(features_reference_cat, axis = 1)"
   ]
  },
  {
   "cell_type": "code",
   "execution_count": 72,
   "metadata": {},
   "outputs": [
    {
     "data": {
      "text/plain": [
       "array(['grade:A', 'grade:B', 'grade:C', 'grade:D', 'grade:E', 'grade:F',\n",
       "       'home_ownership:MORTGAGE', 'home_ownership:NONE',\n",
       "       'home_ownership:OTHER', 'home_ownership:OWN',\n",
       "       'verification_status:Not Verified',\n",
       "       'verification_status:Source Verified', 'purpose:car',\n",
       "       'purpose:debt_consolidation', 'purpose:educational',\n",
       "       'purpose:home_improvement', 'purpose:house',\n",
       "       'purpose:major_purchase', 'purpose:medical', 'purpose:moving',\n",
       "       'purpose:other', 'purpose:renewable_energy',\n",
       "       'purpose:small_business', 'purpose:vacation', 'purpose:wedding',\n",
       "       'initial_list_status:w', 'term_int', 'emp_length_int',\n",
       "       'mths_since_issue_d', 'mths_since_earliest_cr_line', 'funded_amnt',\n",
       "       'int_rate', 'installment', 'annual_inc', 'dti', 'delinq_2yrs',\n",
       "       'inq_last_6mths', 'mths_since_last_delinq',\n",
       "       'mths_since_last_record', 'open_acc', 'pub_rec', 'total_acc',\n",
       "       'acc_now_delinq', 'total_rev_hi_lim'], dtype=object)"
      ]
     },
     "execution_count": 72,
     "metadata": {},
     "output_type": "execute_result"
    }
   ],
   "source": [
    "lgd_inputs_stage_2_test.columns.values"
   ]
  },
  {
   "cell_type": "code",
   "execution_count": 73,
   "metadata": {},
   "outputs": [],
   "source": [
    "y_hat_test_lgd_stage_2 = reg_lgd_st_2.predict(lgd_inputs_stage_2_test)"
   ]
  },
  {
   "cell_type": "code",
   "execution_count": 74,
   "metadata": {},
   "outputs": [],
   "source": [
    "lgd_targets_stage_2_test_temp = lgd_targets_stage_2_test"
   ]
  },
  {
   "cell_type": "code",
   "execution_count": 75,
   "metadata": {},
   "outputs": [],
   "source": [
    "lgd_targets_stage_2_test_temp = lgd_targets_stage_2_test_temp.reset_index(drop = True)"
   ]
  },
  {
   "cell_type": "code",
   "execution_count": 76,
   "metadata": {},
   "outputs": [
    {
     "data": {
      "text/html": [
       "<div>\n",
       "<style scoped>\n",
       "    .dataframe tbody tr th:only-of-type {\n",
       "        vertical-align: middle;\n",
       "    }\n",
       "\n",
       "    .dataframe tbody tr th {\n",
       "        vertical-align: top;\n",
       "    }\n",
       "\n",
       "    .dataframe thead th {\n",
       "        text-align: right;\n",
       "    }\n",
       "</style>\n",
       "<table border=\"1\" class=\"dataframe\">\n",
       "  <thead>\n",
       "    <tr style=\"text-align: right;\">\n",
       "      <th></th>\n",
       "      <th>recovery_rate</th>\n",
       "      <th>0</th>\n",
       "    </tr>\n",
       "  </thead>\n",
       "  <tbody>\n",
       "    <tr>\n",
       "      <td>recovery_rate</td>\n",
       "      <td>1.000000</td>\n",
       "      <td>0.307996</td>\n",
       "    </tr>\n",
       "    <tr>\n",
       "      <td>0</td>\n",
       "      <td>0.307996</td>\n",
       "      <td>1.000000</td>\n",
       "    </tr>\n",
       "  </tbody>\n",
       "</table>\n",
       "</div>"
      ],
      "text/plain": [
       "               recovery_rate         0\n",
       "recovery_rate       1.000000  0.307996\n",
       "0                   0.307996  1.000000"
      ]
     },
     "execution_count": 76,
     "metadata": {},
     "output_type": "execute_result"
    }
   ],
   "source": [
    "pd.concat([lgd_targets_stage_2_test_temp, pd.DataFrame(y_hat_test_lgd_stage_2)], axis = 1).corr()"
   ]
  },
  {
   "cell_type": "markdown",
   "metadata": {},
   "source": [
    "<center> We can see that, there is a relative good correlation between actual and predicted values. </center>\n",
    "Let's plot the residual distribution  between  actual and predicted recovery_rates."
   ]
  },
  {
   "cell_type": "code",
   "execution_count": 77,
   "metadata": {
    "scrolled": true
   },
   "outputs": [
    {
     "data": {
      "text/plain": [
       "<matplotlib.axes._subplots.AxesSubplot at 0x125405a90>"
      ]
     },
     "execution_count": 77,
     "metadata": {},
     "output_type": "execute_result"
    },
    {
     "data": {
      "image/png": "[encoded data removed]",
      "text/plain": [
       "<Figure size 432x288 with 1 Axes>"
      ]
     },
     "metadata": {
      "needs_background": "light"
     },
     "output_type": "display_data"
    }
   ],
   "source": [
    "sns.distplot(lgd_targets_stage_2_test - y_hat_test_lgd_stage_2)"
   ]
  },
  {
   "cell_type": "markdown",
   "metadata": {},
   "source": [
    "<b> GOOD SIGN </b> : The residuals are quite normally distributed and centered around 0. "
   ]
  },
  {
   "cell_type": "code",
   "execution_count": 78,
   "metadata": {},
   "outputs": [],
   "source": [
    "# Here we export our model to a 'SAV' file with file name 'lgd_model_stage_1.sav'.\n",
    "pickle.dump(reg_lgd_st_2, open('lgd_model_stage_2.sav', 'wb'))"
   ]
  },
  {
   "cell_type": "markdown",
   "metadata": {},
   "source": [
    "### Combining Stage 1 and Stage 2\n",
    "\n",
    "<center> For all accounts with predicted recovery rate 0 by the <b>LogisticReg</b> model, we set the estimated recovery to 0 and for all the rest, we use the recovery rate estimated by the <b>LinearReg</b> </center>"
   ]
  },
  {
   "cell_type": "code",
   "execution_count": 79,
   "metadata": {},
   "outputs": [],
   "source": [
    "y_hat_test_lgd_stage_2_all = reg_lgd_st_2.predict(lgd_inputs_stage_1_test)"
   ]
  },
  {
   "cell_type": "code",
   "execution_count": 80,
   "metadata": {},
   "outputs": [
    {
     "data": {
      "text/plain": [
       "array([0.1193906 , 0.09605635, 0.13367631, ..., 0.12078611, 0.11587422,\n",
       "       0.15667447])"
      ]
     },
     "execution_count": 80,
     "metadata": {},
     "output_type": "execute_result"
    }
   ],
   "source": [
    "y_hat_test_lgd_stage_2_all"
   ]
  },
  {
   "cell_type": "code",
   "execution_count": 81,
   "metadata": {},
   "outputs": [],
   "source": [
    "# Here we combine the predictions of the models from the two stages.\n",
    "y_hat_test_lgd = y_hat_test_lgd_stage_1 * y_hat_test_lgd_stage_2_all"
   ]
  },
  {
   "cell_type": "code",
   "execution_count": 82,
   "metadata": {},
   "outputs": [
    {
     "data": {
      "text/html": [
       "<div>\n",
       "<style scoped>\n",
       "    .dataframe tbody tr th:only-of-type {\n",
       "        vertical-align: middle;\n",
       "    }\n",
       "\n",
       "    .dataframe tbody tr th {\n",
       "        vertical-align: top;\n",
       "    }\n",
       "\n",
       "    .dataframe thead th {\n",
       "        text-align: right;\n",
       "    }\n",
       "</style>\n",
       "<table border=\"1\" class=\"dataframe\">\n",
       "  <thead>\n",
       "    <tr style=\"text-align: right;\">\n",
       "      <th></th>\n",
       "      <th>0</th>\n",
       "    </tr>\n",
       "  </thead>\n",
       "  <tbody>\n",
       "    <tr>\n",
       "      <td>count</td>\n",
       "      <td>8648.000000</td>\n",
       "    </tr>\n",
       "    <tr>\n",
       "      <td>mean</td>\n",
       "      <td>0.071412</td>\n",
       "    </tr>\n",
       "    <tr>\n",
       "      <td>std</td>\n",
       "      <td>0.052944</td>\n",
       "    </tr>\n",
       "    <tr>\n",
       "      <td>min</td>\n",
       "      <td>-0.007634</td>\n",
       "    </tr>\n",
       "    <tr>\n",
       "      <td>25%</td>\n",
       "      <td>0.000000</td>\n",
       "    </tr>\n",
       "    <tr>\n",
       "      <td>50%</td>\n",
       "      <td>0.089072</td>\n",
       "    </tr>\n",
       "    <tr>\n",
       "      <td>75%</td>\n",
       "      <td>0.114367</td>\n",
       "    </tr>\n",
       "    <tr>\n",
       "      <td>max</td>\n",
       "      <td>0.236973</td>\n",
       "    </tr>\n",
       "  </tbody>\n",
       "</table>\n",
       "</div>"
      ],
      "text/plain": [
       "                 0\n",
       "count  8648.000000\n",
       "mean      0.071412\n",
       "std       0.052944\n",
       "min      -0.007634\n",
       "25%       0.000000\n",
       "50%       0.089072\n",
       "75%       0.114367\n",
       "max       0.236973"
      ]
     },
     "execution_count": 82,
     "metadata": {},
     "output_type": "execute_result"
    }
   ],
   "source": [
    "pd.DataFrame(y_hat_test_lgd).describe()"
   ]
  },
  {
   "cell_type": "code",
   "execution_count": 83,
   "metadata": {},
   "outputs": [],
   "source": [
    "# We set predicted values that are greater than 1 to 1 and predicted values that are less than 0 to 0.\n",
    "\n",
    "y_hat_test_lgd = np.where(y_hat_test_lgd < 0, 0, y_hat_test_lgd)\n",
    "y_hat_test_lgd = np.where(y_hat_test_lgd > 1, 1, y_hat_test_lgd)"
   ]
  },
  {
   "cell_type": "code",
   "execution_count": 84,
   "metadata": {},
   "outputs": [
    {
     "data": {
      "text/html": [
       "<div>\n",
       "<style scoped>\n",
       "    .dataframe tbody tr th:only-of-type {\n",
       "        vertical-align: middle;\n",
       "    }\n",
       "\n",
       "    .dataframe tbody tr th {\n",
       "        vertical-align: top;\n",
       "    }\n",
       "\n",
       "    .dataframe thead th {\n",
       "        text-align: right;\n",
       "    }\n",
       "</style>\n",
       "<table border=\"1\" class=\"dataframe\">\n",
       "  <thead>\n",
       "    <tr style=\"text-align: right;\">\n",
       "      <th></th>\n",
       "      <th>0</th>\n",
       "    </tr>\n",
       "  </thead>\n",
       "  <tbody>\n",
       "    <tr>\n",
       "      <td>count</td>\n",
       "      <td>8648.000000</td>\n",
       "    </tr>\n",
       "    <tr>\n",
       "      <td>mean</td>\n",
       "      <td>0.071414</td>\n",
       "    </tr>\n",
       "    <tr>\n",
       "      <td>std</td>\n",
       "      <td>0.052941</td>\n",
       "    </tr>\n",
       "    <tr>\n",
       "      <td>min</td>\n",
       "      <td>0.000000</td>\n",
       "    </tr>\n",
       "    <tr>\n",
       "      <td>25%</td>\n",
       "      <td>0.000000</td>\n",
       "    </tr>\n",
       "    <tr>\n",
       "      <td>50%</td>\n",
       "      <td>0.089072</td>\n",
       "    </tr>\n",
       "    <tr>\n",
       "      <td>75%</td>\n",
       "      <td>0.114367</td>\n",
       "    </tr>\n",
       "    <tr>\n",
       "      <td>max</td>\n",
       "      <td>0.236973</td>\n",
       "    </tr>\n",
       "  </tbody>\n",
       "</table>\n",
       "</div>"
      ],
      "text/plain": [
       "                 0\n",
       "count  8648.000000\n",
       "mean      0.071414\n",
       "std       0.052941\n",
       "min       0.000000\n",
       "25%       0.000000\n",
       "50%       0.089072\n",
       "75%       0.114367\n",
       "max       0.236973"
      ]
     },
     "execution_count": 84,
     "metadata": {},
     "output_type": "execute_result"
    }
   ],
   "source": [
    "pd.DataFrame(y_hat_test_lgd).describe()"
   ]
  },
  {
   "cell_type": "markdown",
   "metadata": {},
   "source": [
    "# EAD Model\n",
    "\n",
    "<center> We will use a Linear regression model </center>"
   ]
  },
  {
   "cell_type": "markdown",
   "metadata": {},
   "source": [
    "### Estimation and Interpretation"
   ]
  },
  {
   "cell_type": "code",
   "execution_count": 85,
   "metadata": {},
   "outputs": [],
   "source": [
    "# EAD model datasets\n",
    "ead_inputs_train, ead_inputs_test, ead_targets_train, ead_targets_test = train_test_split(loan_data_defaults.drop(['good_bad', 'recovery_rate','recovery_rate_0_1', 'CCF'], axis = 1), loan_data_defaults['CCF'], test_size = 0.2, random_state = 42)"
   ]
  },
  {
   "cell_type": "code",
   "execution_count": 86,
   "metadata": {},
   "outputs": [
    {
     "data": {
      "text/plain": [
       "array(['Unnamed: 0', 'Unnamed: 0.1', 'id', 'member_id', 'loan_amnt',\n",
       "       'funded_amnt', 'funded_amnt_inv', 'term', 'int_rate',\n",
       "       'installment', 'grade', 'sub_grade', 'emp_title', 'emp_length',\n",
       "       'home_ownership', 'annual_inc', 'verification_status', 'issue_d',\n",
       "       'loan_status', 'pymnt_plan', 'url', 'desc', 'purpose', 'title',\n",
       "       'zip_code', 'addr_state', 'dti', 'delinq_2yrs', 'earliest_cr_line',\n",
       "       'inq_last_6mths', 'mths_since_last_delinq',\n",
       "       'mths_since_last_record', 'open_acc', 'pub_rec', 'revol_bal',\n",
       "       'revol_util', 'total_acc', 'initial_list_status', 'out_prncp',\n",
       "       'out_prncp_inv', 'total_pymnt', 'total_pymnt_inv',\n",
       "       'total_rec_prncp', 'total_rec_int', 'total_rec_late_fee',\n",
       "       'recoveries', 'collection_recovery_fee', 'last_pymnt_d',\n",
       "       'last_pymnt_amnt', 'next_pymnt_d', 'last_credit_pull_d',\n",
       "       'collections_12_mths_ex_med', 'mths_since_last_major_derog',\n",
       "       'policy_code', 'application_type', 'annual_inc_joint', 'dti_joint',\n",
       "       'verification_status_joint', 'acc_now_delinq', 'tot_coll_amt',\n",
       "       'tot_cur_bal', 'open_acc_6m', 'open_il_6m', 'open_il_12m',\n",
       "       'open_il_24m', 'mths_since_rcnt_il', 'total_bal_il', 'il_util',\n",
       "       'open_rv_12m', 'open_rv_24m', 'max_bal_bc', 'all_util',\n",
       "       'total_rev_hi_lim', 'inq_fi', 'total_cu_tl', 'inq_last_12m',\n",
       "       'emp_length_int', 'earliest_cr_line_date',\n",
       "       'mths_since_earliest_cr_line', 'term_int', 'issue_d_date',\n",
       "       'mths_since_issue_d', 'grade:A', 'grade:B', 'grade:C', 'grade:D',\n",
       "       'grade:E', 'grade:F', 'grade:G', 'sub_grade:A1', 'sub_grade:A2',\n",
       "       'sub_grade:A3', 'sub_grade:A4', 'sub_grade:A5', 'sub_grade:B1',\n",
       "       'sub_grade:B2', 'sub_grade:B3', 'sub_grade:B4', 'sub_grade:B5',\n",
       "       'sub_grade:C1', 'sub_grade:C2', 'sub_grade:C3', 'sub_grade:C4',\n",
       "       'sub_grade:C5', 'sub_grade:D1', 'sub_grade:D2', 'sub_grade:D3',\n",
       "       'sub_grade:D4', 'sub_grade:D5', 'sub_grade:E1', 'sub_grade:E2',\n",
       "       'sub_grade:E3', 'sub_grade:E4', 'sub_grade:E5', 'sub_grade:F1',\n",
       "       'sub_grade:F2', 'sub_grade:F3', 'sub_grade:F4', 'sub_grade:F5',\n",
       "       'sub_grade:G1', 'sub_grade:G2', 'sub_grade:G3', 'sub_grade:G4',\n",
       "       'sub_grade:G5', 'home_ownership:ANY', 'home_ownership:MORTGAGE',\n",
       "       'home_ownership:NONE', 'home_ownership:OTHER',\n",
       "       'home_ownership:OWN', 'home_ownership:RENT',\n",
       "       'verification_status:Not Verified',\n",
       "       'verification_status:Source Verified',\n",
       "       'verification_status:Verified', 'loan_status:Charged Off',\n",
       "       'loan_status:Current', 'loan_status:Default',\n",
       "       'loan_status:Does not meet the credit policy. Status:Charged Off',\n",
       "       'loan_status:Does not meet the credit policy. Status:Fully Paid',\n",
       "       'loan_status:Fully Paid', 'loan_status:In Grace Period',\n",
       "       'loan_status:Late (16-30 days)', 'loan_status:Late (31-120 days)',\n",
       "       'purpose:car', 'purpose:credit_card', 'purpose:debt_consolidation',\n",
       "       'purpose:educational', 'purpose:home_improvement', 'purpose:house',\n",
       "       'purpose:major_purchase', 'purpose:medical', 'purpose:moving',\n",
       "       'purpose:other', 'purpose:renewable_energy',\n",
       "       'purpose:small_business', 'purpose:vacation', 'purpose:wedding',\n",
       "       'addr_state:AK', 'addr_state:AL', 'addr_state:AR', 'addr_state:AZ',\n",
       "       'addr_state:CA', 'addr_state:CO', 'addr_state:CT', 'addr_state:DC',\n",
       "       'addr_state:DE', 'addr_state:FL', 'addr_state:GA', 'addr_state:HI',\n",
       "       'addr_state:IA', 'addr_state:ID', 'addr_state:IL', 'addr_state:IN',\n",
       "       'addr_state:KS', 'addr_state:KY', 'addr_state:LA', 'addr_state:MA',\n",
       "       'addr_state:MD', 'addr_state:ME', 'addr_state:MI', 'addr_state:MN',\n",
       "       'addr_state:MO', 'addr_state:MS', 'addr_state:MT', 'addr_state:NC',\n",
       "       'addr_state:NE', 'addr_state:NH', 'addr_state:NJ', 'addr_state:NM',\n",
       "       'addr_state:NV', 'addr_state:NY', 'addr_state:OH', 'addr_state:OK',\n",
       "       'addr_state:OR', 'addr_state:PA', 'addr_state:RI', 'addr_state:SC',\n",
       "       'addr_state:SD', 'addr_state:TN', 'addr_state:TX', 'addr_state:UT',\n",
       "       'addr_state:VA', 'addr_state:VT', 'addr_state:WA', 'addr_state:WI',\n",
       "       'addr_state:WV', 'addr_state:WY', 'initial_list_status:f',\n",
       "       'initial_list_status:w'], dtype=object)"
      ]
     },
     "execution_count": 86,
     "metadata": {},
     "output_type": "execute_result"
    }
   ],
   "source": [
    "ead_inputs_train.columns.values"
   ]
  },
  {
   "cell_type": "code",
   "execution_count": 87,
   "metadata": {},
   "outputs": [],
   "source": [
    "# Here we keep only the variables we need for the model.\n",
    "ead_inputs_train = ead_inputs_train[features_all]"
   ]
  },
  {
   "cell_type": "code",
   "execution_count": 88,
   "metadata": {},
   "outputs": [],
   "source": [
    "# Here we remove the dummy variable reference categories.\n",
    "ead_inputs_train = ead_inputs_train.drop(features_reference_cat, axis = 1)"
   ]
  },
  {
   "cell_type": "code",
   "execution_count": 89,
   "metadata": {},
   "outputs": [
    {
     "data": {
      "text/plain": [
       "LinearRegression(copy_X=True, fit_intercept=True, n_jobs=1, normalize=False)"
      ]
     },
     "execution_count": 89,
     "metadata": {},
     "output_type": "execute_result"
    }
   ],
   "source": [
    "# Estimates the coefficients of the object from the 'LogisticRegression' class\n",
    "reg_ead = LinearRegression()\n",
    "reg_ead.fit(ead_inputs_train, ead_targets_train)"
   ]
  },
  {
   "cell_type": "code",
   "execution_count": 90,
   "metadata": {},
   "outputs": [],
   "source": [
    "feature_name = ead_inputs_train.columns.values"
   ]
  },
  {
   "cell_type": "code",
   "execution_count": 91,
   "metadata": {},
   "outputs": [
    {
     "data": {
      "text/html": [
       "<div>\n",
       "<style scoped>\n",
       "    .dataframe tbody tr th:only-of-type {\n",
       "        vertical-align: middle;\n",
       "    }\n",
       "\n",
       "    .dataframe tbody tr th {\n",
       "        vertical-align: top;\n",
       "    }\n",
       "\n",
       "    .dataframe thead th {\n",
       "        text-align: right;\n",
       "    }\n",
       "</style>\n",
       "<table border=\"1\" class=\"dataframe\">\n",
       "  <thead>\n",
       "    <tr style=\"text-align: right;\">\n",
       "      <th></th>\n",
       "      <th>Feature name</th>\n",
       "      <th>Coefficients</th>\n",
       "      <th>p_values</th>\n",
       "    </tr>\n",
       "  </thead>\n",
       "  <tbody>\n",
       "    <tr>\n",
       "      <td>0</td>\n",
       "      <td>Intercept</td>\n",
       "      <td>1.109746e+00</td>\n",
       "      <td>NaN</td>\n",
       "    </tr>\n",
       "    <tr>\n",
       "      <td>1</td>\n",
       "      <td>grade:A</td>\n",
       "      <td>-3.030033e-01</td>\n",
       "      <td>0.000000e+00</td>\n",
       "    </tr>\n",
       "    <tr>\n",
       "      <td>2</td>\n",
       "      <td>grade:B</td>\n",
       "      <td>-2.364277e-01</td>\n",
       "      <td>0.000000e+00</td>\n",
       "    </tr>\n",
       "    <tr>\n",
       "      <td>3</td>\n",
       "      <td>grade:C</td>\n",
       "      <td>-1.720232e-01</td>\n",
       "      <td>0.000000e+00</td>\n",
       "    </tr>\n",
       "    <tr>\n",
       "      <td>4</td>\n",
       "      <td>grade:D</td>\n",
       "      <td>-1.198470e-01</td>\n",
       "      <td>0.000000e+00</td>\n",
       "    </tr>\n",
       "    <tr>\n",
       "      <td>5</td>\n",
       "      <td>grade:E</td>\n",
       "      <td>-6.768713e-02</td>\n",
       "      <td>0.000000e+00</td>\n",
       "    </tr>\n",
       "    <tr>\n",
       "      <td>6</td>\n",
       "      <td>grade:F</td>\n",
       "      <td>-2.045907e-02</td>\n",
       "      <td>4.428795e-03</td>\n",
       "    </tr>\n",
       "    <tr>\n",
       "      <td>7</td>\n",
       "      <td>home_ownership:MORTGAGE</td>\n",
       "      <td>-6.343341e-03</td>\n",
       "      <td>2.632464e-03</td>\n",
       "    </tr>\n",
       "    <tr>\n",
       "      <td>8</td>\n",
       "      <td>home_ownership:NONE</td>\n",
       "      <td>-5.539064e-03</td>\n",
       "      <td>9.318931e-01</td>\n",
       "    </tr>\n",
       "    <tr>\n",
       "      <td>9</td>\n",
       "      <td>home_ownership:OTHER</td>\n",
       "      <td>-2.426052e-03</td>\n",
       "      <td>9.335820e-01</td>\n",
       "    </tr>\n",
       "    <tr>\n",
       "      <td>10</td>\n",
       "      <td>home_ownership:OWN</td>\n",
       "      <td>-1.619582e-03</td>\n",
       "      <td>6.366112e-01</td>\n",
       "    </tr>\n",
       "    <tr>\n",
       "      <td>11</td>\n",
       "      <td>verification_status:Not Verified</td>\n",
       "      <td>5.339510e-05</td>\n",
       "      <td>9.828295e-01</td>\n",
       "    </tr>\n",
       "    <tr>\n",
       "      <td>12</td>\n",
       "      <td>verification_status:Source Verified</td>\n",
       "      <td>8.967822e-03</td>\n",
       "      <td>7.828941e-05</td>\n",
       "    </tr>\n",
       "    <tr>\n",
       "      <td>13</td>\n",
       "      <td>purpose:car</td>\n",
       "      <td>7.904787e-04</td>\n",
       "      <td>9.330252e-01</td>\n",
       "    </tr>\n",
       "    <tr>\n",
       "      <td>14</td>\n",
       "      <td>purpose:debt_consolidation</td>\n",
       "      <td>1.264922e-02</td>\n",
       "      <td>5.898438e-07</td>\n",
       "    </tr>\n",
       "    <tr>\n",
       "      <td>15</td>\n",
       "      <td>purpose:educational</td>\n",
       "      <td>9.643587e-02</td>\n",
       "      <td>1.801025e-06</td>\n",
       "    </tr>\n",
       "    <tr>\n",
       "      <td>16</td>\n",
       "      <td>purpose:home_improvement</td>\n",
       "      <td>1.923044e-02</td>\n",
       "      <td>4.873543e-05</td>\n",
       "    </tr>\n",
       "    <tr>\n",
       "      <td>17</td>\n",
       "      <td>purpose:house</td>\n",
       "      <td>1.607120e-02</td>\n",
       "      <td>1.653651e-01</td>\n",
       "    </tr>\n",
       "    <tr>\n",
       "      <td>18</td>\n",
       "      <td>purpose:major_purchase</td>\n",
       "      <td>2.984917e-02</td>\n",
       "      <td>2.197793e-05</td>\n",
       "    </tr>\n",
       "    <tr>\n",
       "      <td>19</td>\n",
       "      <td>purpose:medical</td>\n",
       "      <td>3.962479e-02</td>\n",
       "      <td>5.238263e-06</td>\n",
       "    </tr>\n",
       "    <tr>\n",
       "      <td>20</td>\n",
       "      <td>purpose:moving</td>\n",
       "      <td>4.577630e-02</td>\n",
       "      <td>2.987383e-06</td>\n",
       "    </tr>\n",
       "    <tr>\n",
       "      <td>21</td>\n",
       "      <td>purpose:other</td>\n",
       "      <td>3.706744e-02</td>\n",
       "      <td>0.000000e+00</td>\n",
       "    </tr>\n",
       "    <tr>\n",
       "      <td>22</td>\n",
       "      <td>purpose:renewable_energy</td>\n",
       "      <td>7.212969e-02</td>\n",
       "      <td>8.889877e-03</td>\n",
       "    </tr>\n",
       "    <tr>\n",
       "      <td>23</td>\n",
       "      <td>purpose:small_business</td>\n",
       "      <td>5.128674e-02</td>\n",
       "      <td>0.000000e+00</td>\n",
       "    </tr>\n",
       "    <tr>\n",
       "      <td>24</td>\n",
       "      <td>purpose:vacation</td>\n",
       "      <td>1.874863e-02</td>\n",
       "      <td>1.152702e-01</td>\n",
       "    </tr>\n",
       "    <tr>\n",
       "      <td>25</td>\n",
       "      <td>purpose:wedding</td>\n",
       "      <td>4.350522e-02</td>\n",
       "      <td>2.032121e-04</td>\n",
       "    </tr>\n",
       "    <tr>\n",
       "      <td>26</td>\n",
       "      <td>initial_list_status:w</td>\n",
       "      <td>1.318126e-02</td>\n",
       "      <td>6.115181e-09</td>\n",
       "    </tr>\n",
       "    <tr>\n",
       "      <td>27</td>\n",
       "      <td>term_int</td>\n",
       "      <td>4.551882e-03</td>\n",
       "      <td>0.000000e+00</td>\n",
       "    </tr>\n",
       "    <tr>\n",
       "      <td>28</td>\n",
       "      <td>emp_length_int</td>\n",
       "      <td>-1.591478e-03</td>\n",
       "      <td>4.404626e-10</td>\n",
       "    </tr>\n",
       "    <tr>\n",
       "      <td>29</td>\n",
       "      <td>mths_since_issue_d</td>\n",
       "      <td>-4.305274e-03</td>\n",
       "      <td>0.000000e+00</td>\n",
       "    </tr>\n",
       "    <tr>\n",
       "      <td>30</td>\n",
       "      <td>mths_since_earliest_cr_line</td>\n",
       "      <td>-3.634030e-05</td>\n",
       "      <td>2.742071e-03</td>\n",
       "    </tr>\n",
       "    <tr>\n",
       "      <td>31</td>\n",
       "      <td>funded_amnt</td>\n",
       "      <td>2.212126e-06</td>\n",
       "      <td>7.225181e-03</td>\n",
       "    </tr>\n",
       "    <tr>\n",
       "      <td>32</td>\n",
       "      <td>int_rate</td>\n",
       "      <td>-1.172652e-02</td>\n",
       "      <td>0.000000e+00</td>\n",
       "    </tr>\n",
       "    <tr>\n",
       "      <td>33</td>\n",
       "      <td>installment</td>\n",
       "      <td>-6.865607e-05</td>\n",
       "      <td>7.429261e-03</td>\n",
       "    </tr>\n",
       "    <tr>\n",
       "      <td>34</td>\n",
       "      <td>annual_inc</td>\n",
       "      <td>5.021817e-09</td>\n",
       "      <td>8.574696e-01</td>\n",
       "    </tr>\n",
       "    <tr>\n",
       "      <td>35</td>\n",
       "      <td>dti</td>\n",
       "      <td>2.832769e-04</td>\n",
       "      <td>3.632507e-02</td>\n",
       "    </tr>\n",
       "    <tr>\n",
       "      <td>36</td>\n",
       "      <td>delinq_2yrs</td>\n",
       "      <td>4.833234e-04</td>\n",
       "      <td>6.946456e-01</td>\n",
       "    </tr>\n",
       "    <tr>\n",
       "      <td>37</td>\n",
       "      <td>inq_last_6mths</td>\n",
       "      <td>1.131678e-02</td>\n",
       "      <td>0.000000e+00</td>\n",
       "    </tr>\n",
       "    <tr>\n",
       "      <td>38</td>\n",
       "      <td>mths_since_last_delinq</td>\n",
       "      <td>-1.965980e-04</td>\n",
       "      <td>3.220434e-06</td>\n",
       "    </tr>\n",
       "    <tr>\n",
       "      <td>39</td>\n",
       "      <td>mths_since_last_record</td>\n",
       "      <td>-5.085639e-05</td>\n",
       "      <td>3.291896e-01</td>\n",
       "    </tr>\n",
       "    <tr>\n",
       "      <td>40</td>\n",
       "      <td>open_acc</td>\n",
       "      <td>-2.142130e-03</td>\n",
       "      <td>4.218847e-15</td>\n",
       "    </tr>\n",
       "    <tr>\n",
       "      <td>41</td>\n",
       "      <td>pub_rec</td>\n",
       "      <td>6.782062e-03</td>\n",
       "      <td>4.252750e-02</td>\n",
       "    </tr>\n",
       "    <tr>\n",
       "      <td>42</td>\n",
       "      <td>total_acc</td>\n",
       "      <td>4.518110e-04</td>\n",
       "      <td>1.902931e-04</td>\n",
       "    </tr>\n",
       "    <tr>\n",
       "      <td>43</td>\n",
       "      <td>acc_now_delinq</td>\n",
       "      <td>9.974801e-03</td>\n",
       "      <td>5.012787e-01</td>\n",
       "    </tr>\n",
       "    <tr>\n",
       "      <td>44</td>\n",
       "      <td>total_rev_hi_lim</td>\n",
       "      <td>2.166527e-07</td>\n",
       "      <td>8.196014e-05</td>\n",
       "    </tr>\n",
       "  </tbody>\n",
       "</table>\n",
       "</div>"
      ],
      "text/plain": [
       "                           Feature name  Coefficients      p_values\n",
       "0                             Intercept  1.109746e+00           NaN\n",
       "1                               grade:A -3.030033e-01  0.000000e+00\n",
       "2                               grade:B -2.364277e-01  0.000000e+00\n",
       "3                               grade:C -1.720232e-01  0.000000e+00\n",
       "4                               grade:D -1.198470e-01  0.000000e+00\n",
       "5                               grade:E -6.768713e-02  0.000000e+00\n",
       "6                               grade:F -2.045907e-02  4.428795e-03\n",
       "7               home_ownership:MORTGAGE -6.343341e-03  2.632464e-03\n",
       "8                   home_ownership:NONE -5.539064e-03  9.318931e-01\n",
       "9                  home_ownership:OTHER -2.426052e-03  9.335820e-01\n",
       "10                   home_ownership:OWN -1.619582e-03  6.366112e-01\n",
       "11     verification_status:Not Verified  5.339510e-05  9.828295e-01\n",
       "12  verification_status:Source Verified  8.967822e-03  7.828941e-05\n",
       "13                          purpose:car  7.904787e-04  9.330252e-01\n",
       "14           purpose:debt_consolidation  1.264922e-02  5.898438e-07\n",
       "15                  purpose:educational  9.643587e-02  1.801025e-06\n",
       "16             purpose:home_improvement  1.923044e-02  4.873543e-05\n",
       "17                        purpose:house  1.607120e-02  1.653651e-01\n",
       "18               purpose:major_purchase  2.984917e-02  2.197793e-05\n",
       "19                      purpose:medical  3.962479e-02  5.238263e-06\n",
       "20                       purpose:moving  4.577630e-02  2.987383e-06\n",
       "21                        purpose:other  3.706744e-02  0.000000e+00\n",
       "22             purpose:renewable_energy  7.212969e-02  8.889877e-03\n",
       "23               purpose:small_business  5.128674e-02  0.000000e+00\n",
       "24                     purpose:vacation  1.874863e-02  1.152702e-01\n",
       "25                      purpose:wedding  4.350522e-02  2.032121e-04\n",
       "26                initial_list_status:w  1.318126e-02  6.115181e-09\n",
       "27                             term_int  4.551882e-03  0.000000e+00\n",
       "28                       emp_length_int -1.591478e-03  4.404626e-10\n",
       "29                   mths_since_issue_d -4.305274e-03  0.000000e+00\n",
       "30          mths_since_earliest_cr_line -3.634030e-05  2.742071e-03\n",
       "31                          funded_amnt  2.212126e-06  7.225181e-03\n",
       "32                             int_rate -1.172652e-02  0.000000e+00\n",
       "33                          installment -6.865607e-05  7.429261e-03\n",
       "34                           annual_inc  5.021817e-09  8.574696e-01\n",
       "35                                  dti  2.832769e-04  3.632507e-02\n",
       "36                          delinq_2yrs  4.833234e-04  6.946456e-01\n",
       "37                       inq_last_6mths  1.131678e-02  0.000000e+00\n",
       "38               mths_since_last_delinq -1.965980e-04  3.220434e-06\n",
       "39               mths_since_last_record -5.085639e-05  3.291896e-01\n",
       "40                             open_acc -2.142130e-03  4.218847e-15\n",
       "41                              pub_rec  6.782062e-03  4.252750e-02\n",
       "42                            total_acc  4.518110e-04  1.902931e-04\n",
       "43                       acc_now_delinq  9.974801e-03  5.012787e-01\n",
       "44                     total_rev_hi_lim  2.166527e-07  8.196014e-05"
      ]
     },
     "execution_count": 91,
     "metadata": {},
     "output_type": "execute_result"
    }
   ],
   "source": [
    "# Summarize a table the results\n",
    "summary_table = pd.DataFrame(columns = ['Feature name'], data = feature_name)\n",
    "summary_table['Coefficients'] = np.transpose(reg_ead.coef_)\n",
    "summary_table.index = summary_table.index + 1\n",
    "summary_table.loc[0] = ['Intercept', reg_ead.intercept_]\n",
    "summary_table = summary_table.sort_index()\n",
    "p_values = reg_ead.p\n",
    "p_values = np.append(np.nan,np.array(p_values))\n",
    "summary_table['p_values'] = p_values\n",
    "\n",
    "summary_table"
   ]
  },
  {
   "cell_type": "markdown",
   "metadata": {},
   "source": [
    "### Model Validation"
   ]
  },
  {
   "cell_type": "code",
   "execution_count": 92,
   "metadata": {},
   "outputs": [],
   "source": [
    "# Here we keep only the variables we need for the model.\n",
    "ead_inputs_test = ead_inputs_test[features_all]"
   ]
  },
  {
   "cell_type": "code",
   "execution_count": 93,
   "metadata": {},
   "outputs": [],
   "source": [
    "# Here we remove the dummy variable reference categories.\n",
    "ead_inputs_test = ead_inputs_test.drop(features_reference_cat, axis = 1)"
   ]
  },
  {
   "cell_type": "code",
   "execution_count": 94,
   "metadata": {},
   "outputs": [
    {
     "data": {
      "text/plain": [
       "array(['grade:A', 'grade:B', 'grade:C', 'grade:D', 'grade:E', 'grade:F',\n",
       "       'home_ownership:MORTGAGE', 'home_ownership:NONE',\n",
       "       'home_ownership:OTHER', 'home_ownership:OWN',\n",
       "       'verification_status:Not Verified',\n",
       "       'verification_status:Source Verified', 'purpose:car',\n",
       "       'purpose:debt_consolidation', 'purpose:educational',\n",
       "       'purpose:home_improvement', 'purpose:house',\n",
       "       'purpose:major_purchase', 'purpose:medical', 'purpose:moving',\n",
       "       'purpose:other', 'purpose:renewable_energy',\n",
       "       'purpose:small_business', 'purpose:vacation', 'purpose:wedding',\n",
       "       'initial_list_status:w', 'term_int', 'emp_length_int',\n",
       "       'mths_since_issue_d', 'mths_since_earliest_cr_line', 'funded_amnt',\n",
       "       'int_rate', 'installment', 'annual_inc', 'dti', 'delinq_2yrs',\n",
       "       'inq_last_6mths', 'mths_since_last_delinq',\n",
       "       'mths_since_last_record', 'open_acc', 'pub_rec', 'total_acc',\n",
       "       'acc_now_delinq', 'total_rev_hi_lim'], dtype=object)"
      ]
     },
     "execution_count": 94,
     "metadata": {},
     "output_type": "execute_result"
    }
   ],
   "source": [
    "ead_inputs_test.columns.values"
   ]
  },
  {
   "cell_type": "code",
   "execution_count": 95,
   "metadata": {},
   "outputs": [],
   "source": [
    "# Calculates the predicted values for the dependent variable (targets)\n",
    "# based on the values of the independent variables (inputs) supplied as an argument.\n",
    "\n",
    "y_hat_test_ead = reg_ead.predict(ead_inputs_test)"
   ]
  },
  {
   "cell_type": "code",
   "execution_count": 96,
   "metadata": {},
   "outputs": [],
   "source": [
    "ead_targets_test_temp = ead_targets_test"
   ]
  },
  {
   "cell_type": "code",
   "execution_count": 97,
   "metadata": {},
   "outputs": [],
   "source": [
    "ead_targets_test_temp = ead_targets_test_temp.reset_index(drop = True)"
   ]
  },
  {
   "cell_type": "code",
   "execution_count": 98,
   "metadata": {},
   "outputs": [
    {
     "data": {
      "text/html": [
       "<div>\n",
       "<style scoped>\n",
       "    .dataframe tbody tr th:only-of-type {\n",
       "        vertical-align: middle;\n",
       "    }\n",
       "\n",
       "    .dataframe tbody tr th {\n",
       "        vertical-align: top;\n",
       "    }\n",
       "\n",
       "    .dataframe thead th {\n",
       "        text-align: right;\n",
       "    }\n",
       "</style>\n",
       "<table border=\"1\" class=\"dataframe\">\n",
       "  <thead>\n",
       "    <tr style=\"text-align: right;\">\n",
       "      <th></th>\n",
       "      <th>CCF</th>\n",
       "      <th>0</th>\n",
       "    </tr>\n",
       "  </thead>\n",
       "  <tbody>\n",
       "    <tr>\n",
       "      <td>CCF</td>\n",
       "      <td>1.000000</td>\n",
       "      <td>0.530654</td>\n",
       "    </tr>\n",
       "    <tr>\n",
       "      <td>0</td>\n",
       "      <td>0.530654</td>\n",
       "      <td>1.000000</td>\n",
       "    </tr>\n",
       "  </tbody>\n",
       "</table>\n",
       "</div>"
      ],
      "text/plain": [
       "          CCF         0\n",
       "CCF  1.000000  0.530654\n",
       "0    0.530654  1.000000"
      ]
     },
     "execution_count": 98,
     "metadata": {},
     "output_type": "execute_result"
    }
   ],
   "source": [
    "# We calculate the correlation between actual and predicted values.\n",
    "pd.concat([ead_targets_test_temp, pd.DataFrame(y_hat_test_ead)], axis = 1).corr()"
   ]
  },
  {
   "cell_type": "markdown",
   "metadata": {},
   "source": [
    "<center> Here, we have a quite strong correlation between the actual and predicted <b>CCF</b>  </center>\n",
    "Let's plot the residuals distribution"
   ]
  },
  {
   "cell_type": "code",
   "execution_count": 99,
   "metadata": {},
   "outputs": [
    {
     "data": {
      "text/plain": [
       "<matplotlib.axes._subplots.AxesSubplot at 0x12889fb10>"
      ]
     },
     "execution_count": 99,
     "metadata": {},
     "output_type": "execute_result"
    },
    {
     "data": {
      "image/png": "[encoded data removed]",
      "text/plain": [
       "<Figure size 432x288 with 1 Axes>"
      ]
     },
     "metadata": {
      "needs_background": "light"
     },
     "output_type": "display_data"
    }
   ],
   "source": [
    "sns.distplot(ead_targets_test - y_hat_test_ead)"
   ]
  },
  {
   "cell_type": "markdown",
   "metadata": {},
   "source": [
    "The residuals seem to be normally distributed and centered. So the Prediction was actually not so Bad ! "
   ]
  },
  {
   "cell_type": "code",
   "execution_count": 100,
   "metadata": {},
   "outputs": [
    {
     "data": {
      "text/html": [
       "<div>\n",
       "<style scoped>\n",
       "    .dataframe tbody tr th:only-of-type {\n",
       "        vertical-align: middle;\n",
       "    }\n",
       "\n",
       "    .dataframe tbody tr th {\n",
       "        vertical-align: top;\n",
       "    }\n",
       "\n",
       "    .dataframe thead th {\n",
       "        text-align: right;\n",
       "    }\n",
       "</style>\n",
       "<table border=\"1\" class=\"dataframe\">\n",
       "  <thead>\n",
       "    <tr style=\"text-align: right;\">\n",
       "      <th></th>\n",
       "      <th>0</th>\n",
       "    </tr>\n",
       "  </thead>\n",
       "  <tbody>\n",
       "    <tr>\n",
       "      <td>count</td>\n",
       "      <td>8648.000000</td>\n",
       "    </tr>\n",
       "    <tr>\n",
       "      <td>mean</td>\n",
       "      <td>0.736013</td>\n",
       "    </tr>\n",
       "    <tr>\n",
       "      <td>std</td>\n",
       "      <td>0.105194</td>\n",
       "    </tr>\n",
       "    <tr>\n",
       "      <td>min</td>\n",
       "      <td>0.384774</td>\n",
       "    </tr>\n",
       "    <tr>\n",
       "      <td>25%</td>\n",
       "      <td>0.661553</td>\n",
       "    </tr>\n",
       "    <tr>\n",
       "      <td>50%</td>\n",
       "      <td>0.731750</td>\n",
       "    </tr>\n",
       "    <tr>\n",
       "      <td>75%</td>\n",
       "      <td>0.810625</td>\n",
       "    </tr>\n",
       "    <tr>\n",
       "      <td>max</td>\n",
       "      <td>1.161088</td>\n",
       "    </tr>\n",
       "  </tbody>\n",
       "</table>\n",
       "</div>"
      ],
      "text/plain": [
       "                 0\n",
       "count  8648.000000\n",
       "mean      0.736013\n",
       "std       0.105194\n",
       "min       0.384774\n",
       "25%       0.661553\n",
       "50%       0.731750\n",
       "75%       0.810625\n",
       "max       1.161088"
      ]
     },
     "execution_count": 100,
     "metadata": {},
     "output_type": "execute_result"
    }
   ],
   "source": [
    "pd.DataFrame(y_hat_test_ead).describe()"
   ]
  },
  {
   "cell_type": "code",
   "execution_count": 101,
   "metadata": {},
   "outputs": [],
   "source": [
    "# We set predicted values that are greater than 1 to 1 and predicted values that are less than 0 to 0.\n",
    "\n",
    "y_hat_test_ead = np.where(y_hat_test_ead < 0, 0, y_hat_test_ead)\n",
    "y_hat_test_ead = np.where(y_hat_test_ead > 1, 1, y_hat_test_ead)"
   ]
  },
  {
   "cell_type": "code",
   "execution_count": 102,
   "metadata": {},
   "outputs": [
    {
     "data": {
      "text/html": [
       "<div>\n",
       "<style scoped>\n",
       "    .dataframe tbody tr th:only-of-type {\n",
       "        vertical-align: middle;\n",
       "    }\n",
       "\n",
       "    .dataframe tbody tr th {\n",
       "        vertical-align: top;\n",
       "    }\n",
       "\n",
       "    .dataframe thead th {\n",
       "        text-align: right;\n",
       "    }\n",
       "</style>\n",
       "<table border=\"1\" class=\"dataframe\">\n",
       "  <thead>\n",
       "    <tr style=\"text-align: right;\">\n",
       "      <th></th>\n",
       "      <th>0</th>\n",
       "    </tr>\n",
       "  </thead>\n",
       "  <tbody>\n",
       "    <tr>\n",
       "      <td>count</td>\n",
       "      <td>8648.000000</td>\n",
       "    </tr>\n",
       "    <tr>\n",
       "      <td>mean</td>\n",
       "      <td>0.735992</td>\n",
       "    </tr>\n",
       "    <tr>\n",
       "      <td>std</td>\n",
       "      <td>0.105127</td>\n",
       "    </tr>\n",
       "    <tr>\n",
       "      <td>min</td>\n",
       "      <td>0.384774</td>\n",
       "    </tr>\n",
       "    <tr>\n",
       "      <td>25%</td>\n",
       "      <td>0.661553</td>\n",
       "    </tr>\n",
       "    <tr>\n",
       "      <td>50%</td>\n",
       "      <td>0.731750</td>\n",
       "    </tr>\n",
       "    <tr>\n",
       "      <td>75%</td>\n",
       "      <td>0.810625</td>\n",
       "    </tr>\n",
       "    <tr>\n",
       "      <td>max</td>\n",
       "      <td>1.000000</td>\n",
       "    </tr>\n",
       "  </tbody>\n",
       "</table>\n",
       "</div>"
      ],
      "text/plain": [
       "                 0\n",
       "count  8648.000000\n",
       "mean      0.735992\n",
       "std       0.105127\n",
       "min       0.384774\n",
       "25%       0.661553\n",
       "50%       0.731750\n",
       "75%       0.810625\n",
       "max       1.000000"
      ]
     },
     "execution_count": 102,
     "metadata": {},
     "output_type": "execute_result"
    }
   ],
   "source": [
    "pd.DataFrame(y_hat_test_ead).describe()"
   ]
  },
  {
   "cell_type": "markdown",
   "metadata": {},
   "source": [
    "# Expected Loss\n",
    "\n",
    "###  <center> $EL = PD*LGD*EAD$ </center>"
   ]
  },
  {
   "cell_type": "code",
   "execution_count": 103,
   "metadata": {},
   "outputs": [
    {
     "data": {
      "text/html": [
       "<div>\n",
       "<style scoped>\n",
       "    .dataframe tbody tr th:only-of-type {\n",
       "        vertical-align: middle;\n",
       "    }\n",
       "\n",
       "    .dataframe tbody tr th {\n",
       "        vertical-align: top;\n",
       "    }\n",
       "\n",
       "    .dataframe thead th {\n",
       "        text-align: right;\n",
       "    }\n",
       "</style>\n",
       "<table border=\"1\" class=\"dataframe\">\n",
       "  <thead>\n",
       "    <tr style=\"text-align: right;\">\n",
       "      <th></th>\n",
       "      <th>Unnamed: 0</th>\n",
       "      <th>Unnamed: 0.1</th>\n",
       "      <th>id</th>\n",
       "      <th>member_id</th>\n",
       "      <th>loan_amnt</th>\n",
       "      <th>funded_amnt</th>\n",
       "      <th>funded_amnt_inv</th>\n",
       "      <th>term</th>\n",
       "      <th>int_rate</th>\n",
       "      <th>installment</th>\n",
       "      <th>...</th>\n",
       "      <th>addr_state:UT</th>\n",
       "      <th>addr_state:VA</th>\n",
       "      <th>addr_state:VT</th>\n",
       "      <th>addr_state:WA</th>\n",
       "      <th>addr_state:WI</th>\n",
       "      <th>addr_state:WV</th>\n",
       "      <th>addr_state:WY</th>\n",
       "      <th>initial_list_status:f</th>\n",
       "      <th>initial_list_status:w</th>\n",
       "      <th>good_bad</th>\n",
       "    </tr>\n",
       "  </thead>\n",
       "  <tbody>\n",
       "    <tr>\n",
       "      <td>0</td>\n",
       "      <td>0</td>\n",
       "      <td>0</td>\n",
       "      <td>1077501</td>\n",
       "      <td>1296599</td>\n",
       "      <td>5000</td>\n",
       "      <td>5000</td>\n",
       "      <td>4975.0</td>\n",
       "      <td>36 months</td>\n",
       "      <td>10.65</td>\n",
       "      <td>162.87</td>\n",
       "      <td>...</td>\n",
       "      <td>0</td>\n",
       "      <td>0</td>\n",
       "      <td>0</td>\n",
       "      <td>0</td>\n",
       "      <td>0</td>\n",
       "      <td>0</td>\n",
       "      <td>0</td>\n",
       "      <td>1</td>\n",
       "      <td>0</td>\n",
       "      <td>1</td>\n",
       "    </tr>\n",
       "    <tr>\n",
       "      <td>1</td>\n",
       "      <td>1</td>\n",
       "      <td>1</td>\n",
       "      <td>1077430</td>\n",
       "      <td>1314167</td>\n",
       "      <td>2500</td>\n",
       "      <td>2500</td>\n",
       "      <td>2500.0</td>\n",
       "      <td>60 months</td>\n",
       "      <td>15.27</td>\n",
       "      <td>59.83</td>\n",
       "      <td>...</td>\n",
       "      <td>0</td>\n",
       "      <td>0</td>\n",
       "      <td>0</td>\n",
       "      <td>0</td>\n",
       "      <td>0</td>\n",
       "      <td>0</td>\n",
       "      <td>0</td>\n",
       "      <td>1</td>\n",
       "      <td>0</td>\n",
       "      <td>0</td>\n",
       "    </tr>\n",
       "    <tr>\n",
       "      <td>2</td>\n",
       "      <td>2</td>\n",
       "      <td>2</td>\n",
       "      <td>1077175</td>\n",
       "      <td>1313524</td>\n",
       "      <td>2400</td>\n",
       "      <td>2400</td>\n",
       "      <td>2400.0</td>\n",
       "      <td>36 months</td>\n",
       "      <td>15.96</td>\n",
       "      <td>84.33</td>\n",
       "      <td>...</td>\n",
       "      <td>0</td>\n",
       "      <td>0</td>\n",
       "      <td>0</td>\n",
       "      <td>0</td>\n",
       "      <td>0</td>\n",
       "      <td>0</td>\n",
       "      <td>0</td>\n",
       "      <td>1</td>\n",
       "      <td>0</td>\n",
       "      <td>1</td>\n",
       "    </tr>\n",
       "    <tr>\n",
       "      <td>3</td>\n",
       "      <td>3</td>\n",
       "      <td>3</td>\n",
       "      <td>1076863</td>\n",
       "      <td>1277178</td>\n",
       "      <td>10000</td>\n",
       "      <td>10000</td>\n",
       "      <td>10000.0</td>\n",
       "      <td>36 months</td>\n",
       "      <td>13.49</td>\n",
       "      <td>339.31</td>\n",
       "      <td>...</td>\n",
       "      <td>0</td>\n",
       "      <td>0</td>\n",
       "      <td>0</td>\n",
       "      <td>0</td>\n",
       "      <td>0</td>\n",
       "      <td>0</td>\n",
       "      <td>0</td>\n",
       "      <td>1</td>\n",
       "      <td>0</td>\n",
       "      <td>1</td>\n",
       "    </tr>\n",
       "    <tr>\n",
       "      <td>4</td>\n",
       "      <td>4</td>\n",
       "      <td>4</td>\n",
       "      <td>1075358</td>\n",
       "      <td>1311748</td>\n",
       "      <td>3000</td>\n",
       "      <td>3000</td>\n",
       "      <td>3000.0</td>\n",
       "      <td>60 months</td>\n",
       "      <td>12.69</td>\n",
       "      <td>67.79</td>\n",
       "      <td>...</td>\n",
       "      <td>0</td>\n",
       "      <td>0</td>\n",
       "      <td>0</td>\n",
       "      <td>0</td>\n",
       "      <td>0</td>\n",
       "      <td>0</td>\n",
       "      <td>0</td>\n",
       "      <td>1</td>\n",
       "      <td>0</td>\n",
       "      <td>1</td>\n",
       "    </tr>\n",
       "  </tbody>\n",
       "</table>\n",
       "<p>5 rows × 209 columns</p>\n",
       "</div>"
      ],
      "text/plain": [
       "   Unnamed: 0  Unnamed: 0.1       id  member_id  loan_amnt  funded_amnt  \\\n",
       "0           0             0  1077501    1296599       5000         5000   \n",
       "1           1             1  1077430    1314167       2500         2500   \n",
       "2           2             2  1077175    1313524       2400         2400   \n",
       "3           3             3  1076863    1277178      10000        10000   \n",
       "4           4             4  1075358    1311748       3000         3000   \n",
       "\n",
       "   funded_amnt_inv        term  int_rate  installment  ... addr_state:UT  \\\n",
       "0           4975.0   36 months     10.65       162.87  ...             0   \n",
       "1           2500.0   60 months     15.27        59.83  ...             0   \n",
       "2           2400.0   36 months     15.96        84.33  ...             0   \n",
       "3          10000.0   36 months     13.49       339.31  ...             0   \n",
       "4           3000.0   60 months     12.69        67.79  ...             0   \n",
       "\n",
       "  addr_state:VA addr_state:VT addr_state:WA addr_state:WI  addr_state:WV  \\\n",
       "0             0             0             0             0              0   \n",
       "1             0             0             0             0              0   \n",
       "2             0             0             0             0              0   \n",
       "3             0             0             0             0              0   \n",
       "4             0             0             0             0              0   \n",
       "\n",
       "  addr_state:WY initial_list_status:f initial_list_status:w good_bad  \n",
       "0             0                     1                     0        1  \n",
       "1             0                     1                     0        0  \n",
       "2             0                     1                     0        1  \n",
       "3             0                     1                     0        1  \n",
       "4             0                     1                     0        1  \n",
       "\n",
       "[5 rows x 209 columns]"
      ]
     },
     "execution_count": 103,
     "metadata": {},
     "output_type": "execute_result"
    }
   ],
   "source": [
    "loan_data_preprocessed.head()"
   ]
  },
  {
   "cell_type": "code",
   "execution_count": 104,
   "metadata": {},
   "outputs": [],
   "source": [
    "loan_data_preprocessed['mths_since_last_delinq'].fillna(0, inplace = True)"
   ]
  },
  {
   "cell_type": "code",
   "execution_count": 105,
   "metadata": {},
   "outputs": [],
   "source": [
    "loan_data_preprocessed['mths_since_last_record'].fillna(0, inplace = True)"
   ]
  },
  {
   "cell_type": "code",
   "execution_count": 106,
   "metadata": {},
   "outputs": [],
   "source": [
    "# Here we keep only the variables we need for the model.\n",
    "loan_data_preprocessed_lgd_ead = loan_data_preprocessed[features_all]"
   ]
  },
  {
   "cell_type": "code",
   "execution_count": 107,
   "metadata": {},
   "outputs": [],
   "source": [
    "# Here we remove the dummy variable reference categories.\n",
    "loan_data_preprocessed_lgd_ead = loan_data_preprocessed_lgd_ead.drop(features_reference_cat, axis = 1)"
   ]
  },
  {
   "cell_type": "code",
   "execution_count": 108,
   "metadata": {},
   "outputs": [],
   "source": [
    "# We apply the stage 1 LGD model and calculate predicted values.\n",
    "loan_data_preprocessed['recovery_rate_st_1'] = reg_lgd_st_1.model.predict(loan_data_preprocessed_lgd_ead)"
   ]
  },
  {
   "cell_type": "code",
   "execution_count": 109,
   "metadata": {},
   "outputs": [],
   "source": [
    "# We apply the stage 2 LGD model and calculate predicted values.\n",
    "loan_data_preprocessed['recovery_rate_st_2'] = reg_lgd_st_2.predict(loan_data_preprocessed_lgd_ead)"
   ]
  },
  {
   "cell_type": "code",
   "execution_count": 110,
   "metadata": {},
   "outputs": [],
   "source": [
    "# We combine the predicted values from the stage 1 predicted model and the stage 2 predicted model\n",
    "# to calculate the final estimated recovery rate.\n",
    "\n",
    "loan_data_preprocessed['recovery_rate'] = loan_data_preprocessed['recovery_rate_st_1'] * loan_data_preprocessed['recovery_rate_st_2']"
   ]
  },
  {
   "cell_type": "code",
   "execution_count": 111,
   "metadata": {},
   "outputs": [],
   "source": [
    "# We set estimated recovery rates that are greater than 1 to 1 and  \n",
    "# estimated recovery rates that are less than 0 to 0.\n",
    "\n",
    "loan_data_preprocessed['recovery_rate'] = np.where(loan_data_preprocessed['recovery_rate'] < 0, 0, loan_data_preprocessed['recovery_rate'])\n",
    "loan_data_preprocessed['recovery_rate'] = np.where(loan_data_preprocessed['recovery_rate'] > 1, 1, loan_data_preprocessed['recovery_rate'])"
   ]
  },
  {
   "cell_type": "code",
   "execution_count": 112,
   "metadata": {},
   "outputs": [],
   "source": [
    "# We calculate estimated LGD. Estimated LGD equals 1 - estimated recovery rate.\n",
    "loan_data_preprocessed['LGD'] = 1 - loan_data_preprocessed['recovery_rate']"
   ]
  },
  {
   "cell_type": "code",
   "execution_count": 113,
   "metadata": {},
   "outputs": [
    {
     "data": {
      "text/plain": [
       "count    466285.000000\n",
       "mean          0.935608\n",
       "std           0.058117\n",
       "min           0.357914\n",
       "25%           0.882968\n",
       "50%           0.919543\n",
       "75%           1.000000\n",
       "max           1.000000\n",
       "Name: LGD, dtype: float64"
      ]
     },
     "execution_count": 113,
     "metadata": {},
     "output_type": "execute_result"
    }
   ],
   "source": [
    "loan_data_preprocessed['LGD'].describe()"
   ]
  },
  {
   "cell_type": "code",
   "execution_count": 114,
   "metadata": {},
   "outputs": [],
   "source": [
    "# We apply the EAD model to calculate estimated credit conversion factor.\n",
    "loan_data_preprocessed['CCF'] = reg_ead.predict(loan_data_preprocessed_lgd_ead)"
   ]
  },
  {
   "cell_type": "code",
   "execution_count": 115,
   "metadata": {},
   "outputs": [],
   "source": [
    "# We set estimated CCF that are greater than 1 to 1 and \n",
    "# estimated CCF that are less than 0 to 0.\n",
    "\n",
    "loan_data_preprocessed['CCF'] = np.where(loan_data_preprocessed['CCF'] < 0, 0, loan_data_preprocessed['CCF'])\n",
    "loan_data_preprocessed['CCF'] = np.where(loan_data_preprocessed['CCF'] > 1, 1, loan_data_preprocessed['CCF'])"
   ]
  },
  {
   "cell_type": "code",
   "execution_count": 116,
   "metadata": {},
   "outputs": [],
   "source": [
    "# We calculate estimated EAD. Estimated EAD equals\n",
    "# estimated CCF multiplied by funded amount.\n",
    "\n",
    "loan_data_preprocessed['EAD'] = loan_data_preprocessed['CCF'] * loan_data_preprocessed_lgd_ead['funded_amnt']"
   ]
  },
  {
   "cell_type": "code",
   "execution_count": 117,
   "metadata": {},
   "outputs": [
    {
     "data": {
      "text/plain": [
       "count    466285.000000\n",
       "mean      10814.846760\n",
       "std        6935.184562\n",
       "min         190.347372\n",
       "25%        5495.101413\n",
       "50%        9208.479591\n",
       "75%       14692.844549\n",
       "max       35000.000000\n",
       "Name: EAD, dtype: float64"
      ]
     },
     "execution_count": 117,
     "metadata": {},
     "output_type": "execute_result"
    }
   ],
   "source": [
    "loan_data_preprocessed['EAD'].describe()"
   ]
  },
  {
   "cell_type": "code",
   "execution_count": 118,
   "metadata": {},
   "outputs": [
    {
     "data": {
      "text/html": [
       "<div>\n",
       "<style scoped>\n",
       "    .dataframe tbody tr th:only-of-type {\n",
       "        vertical-align: middle;\n",
       "    }\n",
       "\n",
       "    .dataframe tbody tr th {\n",
       "        vertical-align: top;\n",
       "    }\n",
       "\n",
       "    .dataframe thead th {\n",
       "        text-align: right;\n",
       "    }\n",
       "</style>\n",
       "<table border=\"1\" class=\"dataframe\">\n",
       "  <thead>\n",
       "    <tr style=\"text-align: right;\">\n",
       "      <th></th>\n",
       "      <th>Unnamed: 0</th>\n",
       "      <th>Unnamed: 0.1</th>\n",
       "      <th>id</th>\n",
       "      <th>member_id</th>\n",
       "      <th>loan_amnt</th>\n",
       "      <th>funded_amnt</th>\n",
       "      <th>funded_amnt_inv</th>\n",
       "      <th>term</th>\n",
       "      <th>int_rate</th>\n",
       "      <th>installment</th>\n",
       "      <th>...</th>\n",
       "      <th>addr_state:WY</th>\n",
       "      <th>initial_list_status:f</th>\n",
       "      <th>initial_list_status:w</th>\n",
       "      <th>good_bad</th>\n",
       "      <th>recovery_rate_st_1</th>\n",
       "      <th>recovery_rate_st_2</th>\n",
       "      <th>recovery_rate</th>\n",
       "      <th>LGD</th>\n",
       "      <th>CCF</th>\n",
       "      <th>EAD</th>\n",
       "    </tr>\n",
       "  </thead>\n",
       "  <tbody>\n",
       "    <tr>\n",
       "      <td>0</td>\n",
       "      <td>0</td>\n",
       "      <td>0</td>\n",
       "      <td>1077501</td>\n",
       "      <td>1296599</td>\n",
       "      <td>5000</td>\n",
       "      <td>5000</td>\n",
       "      <td>4975.0</td>\n",
       "      <td>36 months</td>\n",
       "      <td>10.65</td>\n",
       "      <td>162.87</td>\n",
       "      <td>...</td>\n",
       "      <td>0</td>\n",
       "      <td>1</td>\n",
       "      <td>0</td>\n",
       "      <td>1</td>\n",
       "      <td>1</td>\n",
       "      <td>0.086271</td>\n",
       "      <td>0.086271</td>\n",
       "      <td>0.913729</td>\n",
       "      <td>0.589922</td>\n",
       "      <td>2949.608449</td>\n",
       "    </tr>\n",
       "    <tr>\n",
       "      <td>1</td>\n",
       "      <td>1</td>\n",
       "      <td>1</td>\n",
       "      <td>1077430</td>\n",
       "      <td>1314167</td>\n",
       "      <td>2500</td>\n",
       "      <td>2500</td>\n",
       "      <td>2500.0</td>\n",
       "      <td>60 months</td>\n",
       "      <td>15.27</td>\n",
       "      <td>59.83</td>\n",
       "      <td>...</td>\n",
       "      <td>0</td>\n",
       "      <td>1</td>\n",
       "      <td>0</td>\n",
       "      <td>0</td>\n",
       "      <td>1</td>\n",
       "      <td>0.084518</td>\n",
       "      <td>0.084518</td>\n",
       "      <td>0.915482</td>\n",
       "      <td>0.777773</td>\n",
       "      <td>1944.433378</td>\n",
       "    </tr>\n",
       "    <tr>\n",
       "      <td>2</td>\n",
       "      <td>2</td>\n",
       "      <td>2</td>\n",
       "      <td>1077175</td>\n",
       "      <td>1313524</td>\n",
       "      <td>2400</td>\n",
       "      <td>2400</td>\n",
       "      <td>2400.0</td>\n",
       "      <td>36 months</td>\n",
       "      <td>15.96</td>\n",
       "      <td>84.33</td>\n",
       "      <td>...</td>\n",
       "      <td>0</td>\n",
       "      <td>1</td>\n",
       "      <td>0</td>\n",
       "      <td>1</td>\n",
       "      <td>1</td>\n",
       "      <td>0.080516</td>\n",
       "      <td>0.080516</td>\n",
       "      <td>0.919484</td>\n",
       "      <td>0.658306</td>\n",
       "      <td>1579.934302</td>\n",
       "    </tr>\n",
       "    <tr>\n",
       "      <td>3</td>\n",
       "      <td>3</td>\n",
       "      <td>3</td>\n",
       "      <td>1076863</td>\n",
       "      <td>1277178</td>\n",
       "      <td>10000</td>\n",
       "      <td>10000</td>\n",
       "      <td>10000.0</td>\n",
       "      <td>36 months</td>\n",
       "      <td>13.49</td>\n",
       "      <td>339.31</td>\n",
       "      <td>...</td>\n",
       "      <td>0</td>\n",
       "      <td>1</td>\n",
       "      <td>0</td>\n",
       "      <td>1</td>\n",
       "      <td>1</td>\n",
       "      <td>0.095076</td>\n",
       "      <td>0.095076</td>\n",
       "      <td>0.904924</td>\n",
       "      <td>0.660656</td>\n",
       "      <td>6606.559612</td>\n",
       "    </tr>\n",
       "    <tr>\n",
       "      <td>4</td>\n",
       "      <td>4</td>\n",
       "      <td>4</td>\n",
       "      <td>1075358</td>\n",
       "      <td>1311748</td>\n",
       "      <td>3000</td>\n",
       "      <td>3000</td>\n",
       "      <td>3000.0</td>\n",
       "      <td>60 months</td>\n",
       "      <td>12.69</td>\n",
       "      <td>67.79</td>\n",
       "      <td>...</td>\n",
       "      <td>0</td>\n",
       "      <td>1</td>\n",
       "      <td>0</td>\n",
       "      <td>1</td>\n",
       "      <td>1</td>\n",
       "      <td>0.088547</td>\n",
       "      <td>0.088547</td>\n",
       "      <td>0.911453</td>\n",
       "      <td>0.708211</td>\n",
       "      <td>2124.631667</td>\n",
       "    </tr>\n",
       "  </tbody>\n",
       "</table>\n",
       "<p>5 rows × 215 columns</p>\n",
       "</div>"
      ],
      "text/plain": [
       "   Unnamed: 0  Unnamed: 0.1       id  member_id  loan_amnt  funded_amnt  \\\n",
       "0           0             0  1077501    1296599       5000         5000   \n",
       "1           1             1  1077430    1314167       2500         2500   \n",
       "2           2             2  1077175    1313524       2400         2400   \n",
       "3           3             3  1076863    1277178      10000        10000   \n",
       "4           4             4  1075358    1311748       3000         3000   \n",
       "\n",
       "   funded_amnt_inv        term  int_rate  installment  ... addr_state:WY  \\\n",
       "0           4975.0   36 months     10.65       162.87  ...             0   \n",
       "1           2500.0   60 months     15.27        59.83  ...             0   \n",
       "2           2400.0   36 months     15.96        84.33  ...             0   \n",
       "3          10000.0   36 months     13.49       339.31  ...             0   \n",
       "4           3000.0   60 months     12.69        67.79  ...             0   \n",
       "\n",
       "  initial_list_status:f initial_list_status:w good_bad recovery_rate_st_1  \\\n",
       "0                     1                     0        1                  1   \n",
       "1                     1                     0        0                  1   \n",
       "2                     1                     0        1                  1   \n",
       "3                     1                     0        1                  1   \n",
       "4                     1                     0        1                  1   \n",
       "\n",
       "   recovery_rate_st_2 recovery_rate       LGD       CCF          EAD  \n",
       "0            0.086271      0.086271  0.913729  0.589922  2949.608449  \n",
       "1            0.084518      0.084518  0.915482  0.777773  1944.433378  \n",
       "2            0.080516      0.080516  0.919484  0.658306  1579.934302  \n",
       "3            0.095076      0.095076  0.904924  0.660656  6606.559612  \n",
       "4            0.088547      0.088547  0.911453  0.708211  2124.631667  \n",
       "\n",
       "[5 rows x 215 columns]"
      ]
     },
     "execution_count": 118,
     "metadata": {},
     "output_type": "execute_result"
    }
   ],
   "source": [
    "loan_data_preprocessed.head()"
   ]
  },
  {
   "cell_type": "code",
   "execution_count": 119,
   "metadata": {},
   "outputs": [],
   "source": [
    "# We import data to apply the PD model.\n",
    "loan_data_inputs_train = pd.read_csv('loan_data_inputs_train.csv')"
   ]
  },
  {
   "cell_type": "code",
   "execution_count": 120,
   "metadata": {},
   "outputs": [],
   "source": [
    "# We import data to apply the PD model.\n",
    "loan_data_inputs_test = pd.read_csv('loan_data_inputs_test.csv')"
   ]
  },
  {
   "cell_type": "code",
   "execution_count": 121,
   "metadata": {},
   "outputs": [],
   "source": [
    "# We concatenate the two dataframes along the rows.\n",
    "loan_data_inputs_pd = pd.concat([loan_data_inputs_train, loan_data_inputs_test], axis = 0)"
   ]
  },
  {
   "cell_type": "code",
   "execution_count": 122,
   "metadata": {},
   "outputs": [
    {
     "data": {
      "text/plain": [
       "(466285, 325)"
      ]
     },
     "execution_count": 122,
     "metadata": {},
     "output_type": "execute_result"
    }
   ],
   "source": [
    "loan_data_inputs_pd.shape"
   ]
  },
  {
   "cell_type": "code",
   "execution_count": 123,
   "metadata": {},
   "outputs": [
    {
     "data": {
      "text/html": [
       "<div>\n",
       "<style scoped>\n",
       "    .dataframe tbody tr th:only-of-type {\n",
       "        vertical-align: middle;\n",
       "    }\n",
       "\n",
       "    .dataframe tbody tr th {\n",
       "        vertical-align: top;\n",
       "    }\n",
       "\n",
       "    .dataframe thead th {\n",
       "        text-align: right;\n",
       "    }\n",
       "</style>\n",
       "<table border=\"1\" class=\"dataframe\">\n",
       "  <thead>\n",
       "    <tr style=\"text-align: right;\">\n",
       "      <th></th>\n",
       "      <th>Unnamed: 0</th>\n",
       "      <th>Unnamed: 0.1</th>\n",
       "      <th>id</th>\n",
       "      <th>member_id</th>\n",
       "      <th>loan_amnt</th>\n",
       "      <th>funded_amnt</th>\n",
       "      <th>funded_amnt_inv</th>\n",
       "      <th>term</th>\n",
       "      <th>int_rate</th>\n",
       "      <th>installment</th>\n",
       "      <th>...</th>\n",
       "      <th>dti:21.7-22.4</th>\n",
       "      <th>dti:22.4-35</th>\n",
       "      <th>dti:&gt;35</th>\n",
       "      <th>mths_since_last_record:Missing</th>\n",
       "      <th>mths_since_last_record:0-2</th>\n",
       "      <th>mths_since_last_record:3-20</th>\n",
       "      <th>mths_since_last_record:21-31</th>\n",
       "      <th>mths_since_last_record:32-80</th>\n",
       "      <th>mths_since_last_record:81-86</th>\n",
       "      <th>mths_since_last_record:&gt;86</th>\n",
       "    </tr>\n",
       "  </thead>\n",
       "  <tbody>\n",
       "    <tr>\n",
       "      <td>0</td>\n",
       "      <td>427211</td>\n",
       "      <td>427211</td>\n",
       "      <td>12796369</td>\n",
       "      <td>14818505</td>\n",
       "      <td>24000</td>\n",
       "      <td>24000</td>\n",
       "      <td>24000.0</td>\n",
       "      <td>36 months</td>\n",
       "      <td>8.90</td>\n",
       "      <td>762.08</td>\n",
       "      <td>...</td>\n",
       "      <td>1</td>\n",
       "      <td>0</td>\n",
       "      <td>0</td>\n",
       "      <td>1</td>\n",
       "      <td>0</td>\n",
       "      <td>0</td>\n",
       "      <td>0</td>\n",
       "      <td>0</td>\n",
       "      <td>0</td>\n",
       "      <td>0</td>\n",
       "    </tr>\n",
       "    <tr>\n",
       "      <td>1</td>\n",
       "      <td>206088</td>\n",
       "      <td>206088</td>\n",
       "      <td>1439740</td>\n",
       "      <td>1691948</td>\n",
       "      <td>10000</td>\n",
       "      <td>10000</td>\n",
       "      <td>10000.0</td>\n",
       "      <td>36 months</td>\n",
       "      <td>14.33</td>\n",
       "      <td>343.39</td>\n",
       "      <td>...</td>\n",
       "      <td>0</td>\n",
       "      <td>0</td>\n",
       "      <td>0</td>\n",
       "      <td>1</td>\n",
       "      <td>0</td>\n",
       "      <td>0</td>\n",
       "      <td>0</td>\n",
       "      <td>0</td>\n",
       "      <td>0</td>\n",
       "      <td>0</td>\n",
       "    </tr>\n",
       "    <tr>\n",
       "      <td>2</td>\n",
       "      <td>136020</td>\n",
       "      <td>136020</td>\n",
       "      <td>5214749</td>\n",
       "      <td>6556909</td>\n",
       "      <td>20425</td>\n",
       "      <td>20425</td>\n",
       "      <td>20425.0</td>\n",
       "      <td>36 months</td>\n",
       "      <td>8.90</td>\n",
       "      <td>648.56</td>\n",
       "      <td>...</td>\n",
       "      <td>0</td>\n",
       "      <td>0</td>\n",
       "      <td>0</td>\n",
       "      <td>1</td>\n",
       "      <td>0</td>\n",
       "      <td>0</td>\n",
       "      <td>0</td>\n",
       "      <td>0</td>\n",
       "      <td>0</td>\n",
       "      <td>0</td>\n",
       "    </tr>\n",
       "    <tr>\n",
       "      <td>3</td>\n",
       "      <td>412305</td>\n",
       "      <td>412305</td>\n",
       "      <td>13827698</td>\n",
       "      <td>15890016</td>\n",
       "      <td>17200</td>\n",
       "      <td>17200</td>\n",
       "      <td>17200.0</td>\n",
       "      <td>36 months</td>\n",
       "      <td>16.59</td>\n",
       "      <td>609.73</td>\n",
       "      <td>...</td>\n",
       "      <td>0</td>\n",
       "      <td>0</td>\n",
       "      <td>0</td>\n",
       "      <td>1</td>\n",
       "      <td>0</td>\n",
       "      <td>0</td>\n",
       "      <td>0</td>\n",
       "      <td>0</td>\n",
       "      <td>0</td>\n",
       "      <td>0</td>\n",
       "    </tr>\n",
       "    <tr>\n",
       "      <td>4</td>\n",
       "      <td>36159</td>\n",
       "      <td>36159</td>\n",
       "      <td>422455</td>\n",
       "      <td>496525</td>\n",
       "      <td>8400</td>\n",
       "      <td>8400</td>\n",
       "      <td>7450.0</td>\n",
       "      <td>36 months</td>\n",
       "      <td>12.84</td>\n",
       "      <td>282.40</td>\n",
       "      <td>...</td>\n",
       "      <td>0</td>\n",
       "      <td>1</td>\n",
       "      <td>0</td>\n",
       "      <td>1</td>\n",
       "      <td>0</td>\n",
       "      <td>0</td>\n",
       "      <td>0</td>\n",
       "      <td>0</td>\n",
       "      <td>0</td>\n",
       "      <td>0</td>\n",
       "    </tr>\n",
       "  </tbody>\n",
       "</table>\n",
       "<p>5 rows × 325 columns</p>\n",
       "</div>"
      ],
      "text/plain": [
       "   Unnamed: 0  Unnamed: 0.1        id  member_id  loan_amnt  funded_amnt  \\\n",
       "0      427211        427211  12796369   14818505      24000        24000   \n",
       "1      206088        206088   1439740    1691948      10000        10000   \n",
       "2      136020        136020   5214749    6556909      20425        20425   \n",
       "3      412305        412305  13827698   15890016      17200        17200   \n",
       "4       36159         36159    422455     496525       8400         8400   \n",
       "\n",
       "   funded_amnt_inv        term  int_rate  installment  ... dti:21.7-22.4  \\\n",
       "0          24000.0   36 months      8.90       762.08  ...             1   \n",
       "1          10000.0   36 months     14.33       343.39  ...             0   \n",
       "2          20425.0   36 months      8.90       648.56  ...             0   \n",
       "3          17200.0   36 months     16.59       609.73  ...             0   \n",
       "4           7450.0   36 months     12.84       282.40  ...             0   \n",
       "\n",
       "  dti:22.4-35 dti:>35 mths_since_last_record:Missing  \\\n",
       "0           0       0                              1   \n",
       "1           0       0                              1   \n",
       "2           0       0                              1   \n",
       "3           0       0                              1   \n",
       "4           1       0                              1   \n",
       "\n",
       "  mths_since_last_record:0-2  mths_since_last_record:3-20  \\\n",
       "0                          0                            0   \n",
       "1                          0                            0   \n",
       "2                          0                            0   \n",
       "3                          0                            0   \n",
       "4                          0                            0   \n",
       "\n",
       "  mths_since_last_record:21-31 mths_since_last_record:32-80  \\\n",
       "0                            0                            0   \n",
       "1                            0                            0   \n",
       "2                            0                            0   \n",
       "3                            0                            0   \n",
       "4                            0                            0   \n",
       "\n",
       "  mths_since_last_record:81-86 mths_since_last_record:>86  \n",
       "0                            0                          0  \n",
       "1                            0                          0  \n",
       "2                            0                          0  \n",
       "3                            0                          0  \n",
       "4                            0                          0  \n",
       "\n",
       "[5 rows x 325 columns]"
      ]
     },
     "execution_count": 123,
     "metadata": {},
     "output_type": "execute_result"
    }
   ],
   "source": [
    "loan_data_inputs_pd.head()"
   ]
  },
  {
   "cell_type": "markdown",
   "metadata": {},
   "source": [
    "\n",
    "<center> The index value will be important to merge the trained PD, LGD, EAD models</center>\n"
   ]
  },
  {
   "cell_type": "code",
   "execution_count": 124,
   "metadata": {},
   "outputs": [],
   "source": [
    "# We set the index of the dataframe to the values of a specific column. \n",
    "loan_data_inputs_pd = loan_data_inputs_pd.set_index('Unnamed: 0')"
   ]
  },
  {
   "cell_type": "code",
   "execution_count": 125,
   "metadata": {},
   "outputs": [
    {
     "data": {
      "text/html": [
       "<div>\n",
       "<style scoped>\n",
       "    .dataframe tbody tr th:only-of-type {\n",
       "        vertical-align: middle;\n",
       "    }\n",
       "\n",
       "    .dataframe tbody tr th {\n",
       "        vertical-align: top;\n",
       "    }\n",
       "\n",
       "    .dataframe thead th {\n",
       "        text-align: right;\n",
       "    }\n",
       "</style>\n",
       "<table border=\"1\" class=\"dataframe\">\n",
       "  <thead>\n",
       "    <tr style=\"text-align: right;\">\n",
       "      <th></th>\n",
       "      <th>Unnamed: 0.1</th>\n",
       "      <th>id</th>\n",
       "      <th>member_id</th>\n",
       "      <th>loan_amnt</th>\n",
       "      <th>funded_amnt</th>\n",
       "      <th>funded_amnt_inv</th>\n",
       "      <th>term</th>\n",
       "      <th>int_rate</th>\n",
       "      <th>installment</th>\n",
       "      <th>grade</th>\n",
       "      <th>...</th>\n",
       "      <th>dti:21.7-22.4</th>\n",
       "      <th>dti:22.4-35</th>\n",
       "      <th>dti:&gt;35</th>\n",
       "      <th>mths_since_last_record:Missing</th>\n",
       "      <th>mths_since_last_record:0-2</th>\n",
       "      <th>mths_since_last_record:3-20</th>\n",
       "      <th>mths_since_last_record:21-31</th>\n",
       "      <th>mths_since_last_record:32-80</th>\n",
       "      <th>mths_since_last_record:81-86</th>\n",
       "      <th>mths_since_last_record:&gt;86</th>\n",
       "    </tr>\n",
       "    <tr>\n",
       "      <th>Unnamed: 0</th>\n",
       "      <th></th>\n",
       "      <th></th>\n",
       "      <th></th>\n",
       "      <th></th>\n",
       "      <th></th>\n",
       "      <th></th>\n",
       "      <th></th>\n",
       "      <th></th>\n",
       "      <th></th>\n",
       "      <th></th>\n",
       "      <th></th>\n",
       "      <th></th>\n",
       "      <th></th>\n",
       "      <th></th>\n",
       "      <th></th>\n",
       "      <th></th>\n",
       "      <th></th>\n",
       "      <th></th>\n",
       "      <th></th>\n",
       "      <th></th>\n",
       "      <th></th>\n",
       "    </tr>\n",
       "  </thead>\n",
       "  <tbody>\n",
       "    <tr>\n",
       "      <td>427211</td>\n",
       "      <td>427211</td>\n",
       "      <td>12796369</td>\n",
       "      <td>14818505</td>\n",
       "      <td>24000</td>\n",
       "      <td>24000</td>\n",
       "      <td>24000.0</td>\n",
       "      <td>36 months</td>\n",
       "      <td>8.90</td>\n",
       "      <td>762.08</td>\n",
       "      <td>A</td>\n",
       "      <td>...</td>\n",
       "      <td>1</td>\n",
       "      <td>0</td>\n",
       "      <td>0</td>\n",
       "      <td>1</td>\n",
       "      <td>0</td>\n",
       "      <td>0</td>\n",
       "      <td>0</td>\n",
       "      <td>0</td>\n",
       "      <td>0</td>\n",
       "      <td>0</td>\n",
       "    </tr>\n",
       "    <tr>\n",
       "      <td>206088</td>\n",
       "      <td>206088</td>\n",
       "      <td>1439740</td>\n",
       "      <td>1691948</td>\n",
       "      <td>10000</td>\n",
       "      <td>10000</td>\n",
       "      <td>10000.0</td>\n",
       "      <td>36 months</td>\n",
       "      <td>14.33</td>\n",
       "      <td>343.39</td>\n",
       "      <td>C</td>\n",
       "      <td>...</td>\n",
       "      <td>0</td>\n",
       "      <td>0</td>\n",
       "      <td>0</td>\n",
       "      <td>1</td>\n",
       "      <td>0</td>\n",
       "      <td>0</td>\n",
       "      <td>0</td>\n",
       "      <td>0</td>\n",
       "      <td>0</td>\n",
       "      <td>0</td>\n",
       "    </tr>\n",
       "    <tr>\n",
       "      <td>136020</td>\n",
       "      <td>136020</td>\n",
       "      <td>5214749</td>\n",
       "      <td>6556909</td>\n",
       "      <td>20425</td>\n",
       "      <td>20425</td>\n",
       "      <td>20425.0</td>\n",
       "      <td>36 months</td>\n",
       "      <td>8.90</td>\n",
       "      <td>648.56</td>\n",
       "      <td>A</td>\n",
       "      <td>...</td>\n",
       "      <td>0</td>\n",
       "      <td>0</td>\n",
       "      <td>0</td>\n",
       "      <td>1</td>\n",
       "      <td>0</td>\n",
       "      <td>0</td>\n",
       "      <td>0</td>\n",
       "      <td>0</td>\n",
       "      <td>0</td>\n",
       "      <td>0</td>\n",
       "    </tr>\n",
       "    <tr>\n",
       "      <td>412305</td>\n",
       "      <td>412305</td>\n",
       "      <td>13827698</td>\n",
       "      <td>15890016</td>\n",
       "      <td>17200</td>\n",
       "      <td>17200</td>\n",
       "      <td>17200.0</td>\n",
       "      <td>36 months</td>\n",
       "      <td>16.59</td>\n",
       "      <td>609.73</td>\n",
       "      <td>D</td>\n",
       "      <td>...</td>\n",
       "      <td>0</td>\n",
       "      <td>0</td>\n",
       "      <td>0</td>\n",
       "      <td>1</td>\n",
       "      <td>0</td>\n",
       "      <td>0</td>\n",
       "      <td>0</td>\n",
       "      <td>0</td>\n",
       "      <td>0</td>\n",
       "      <td>0</td>\n",
       "    </tr>\n",
       "    <tr>\n",
       "      <td>36159</td>\n",
       "      <td>36159</td>\n",
       "      <td>422455</td>\n",
       "      <td>496525</td>\n",
       "      <td>8400</td>\n",
       "      <td>8400</td>\n",
       "      <td>7450.0</td>\n",
       "      <td>36 months</td>\n",
       "      <td>12.84</td>\n",
       "      <td>282.40</td>\n",
       "      <td>C</td>\n",
       "      <td>...</td>\n",
       "      <td>0</td>\n",
       "      <td>1</td>\n",
       "      <td>0</td>\n",
       "      <td>1</td>\n",
       "      <td>0</td>\n",
       "      <td>0</td>\n",
       "      <td>0</td>\n",
       "      <td>0</td>\n",
       "      <td>0</td>\n",
       "      <td>0</td>\n",
       "    </tr>\n",
       "  </tbody>\n",
       "</table>\n",
       "<p>5 rows × 324 columns</p>\n",
       "</div>"
      ],
      "text/plain": [
       "            Unnamed: 0.1        id  member_id  loan_amnt  funded_amnt  \\\n",
       "Unnamed: 0                                                              \n",
       "427211            427211  12796369   14818505      24000        24000   \n",
       "206088            206088   1439740    1691948      10000        10000   \n",
       "136020            136020   5214749    6556909      20425        20425   \n",
       "412305            412305  13827698   15890016      17200        17200   \n",
       "36159              36159    422455     496525       8400         8400   \n",
       "\n",
       "            funded_amnt_inv        term  int_rate  installment grade  ...  \\\n",
       "Unnamed: 0                                                            ...   \n",
       "427211              24000.0   36 months      8.90       762.08     A  ...   \n",
       "206088              10000.0   36 months     14.33       343.39     C  ...   \n",
       "136020              20425.0   36 months      8.90       648.56     A  ...   \n",
       "412305              17200.0   36 months     16.59       609.73     D  ...   \n",
       "36159                7450.0   36 months     12.84       282.40     C  ...   \n",
       "\n",
       "           dti:21.7-22.4 dti:22.4-35 dti:>35 mths_since_last_record:Missing  \\\n",
       "Unnamed: 0                                                                    \n",
       "427211                 1           0       0                              1   \n",
       "206088                 0           0       0                              1   \n",
       "136020                 0           0       0                              1   \n",
       "412305                 0           0       0                              1   \n",
       "36159                  0           1       0                              1   \n",
       "\n",
       "            mths_since_last_record:0-2 mths_since_last_record:3-20  \\\n",
       "Unnamed: 0                                                           \n",
       "427211                               0                           0   \n",
       "206088                               0                           0   \n",
       "136020                               0                           0   \n",
       "412305                               0                           0   \n",
       "36159                                0                           0   \n",
       "\n",
       "           mths_since_last_record:21-31 mths_since_last_record:32-80  \\\n",
       "Unnamed: 0                                                             \n",
       "427211                                0                            0   \n",
       "206088                                0                            0   \n",
       "136020                                0                            0   \n",
       "412305                                0                            0   \n",
       "36159                                 0                            0   \n",
       "\n",
       "           mths_since_last_record:81-86 mths_since_last_record:>86  \n",
       "Unnamed: 0                                                          \n",
       "427211                                0                          0  \n",
       "206088                                0                          0  \n",
       "136020                                0                          0  \n",
       "412305                                0                          0  \n",
       "36159                                 0                          0  \n",
       "\n",
       "[5 rows x 324 columns]"
      ]
     },
     "execution_count": 125,
     "metadata": {},
     "output_type": "execute_result"
    }
   ],
   "source": [
    "loan_data_inputs_pd.head()"
   ]
  },
  {
   "cell_type": "code",
   "execution_count": 126,
   "metadata": {},
   "outputs": [],
   "source": [
    "features_all_pd = ['grade:A',\n",
    "'grade:B',\n",
    "'grade:C',\n",
    "'grade:D',\n",
    "'grade:E',\n",
    "'grade:F',\n",
    "'grade:G',\n",
    "'home_ownership:RENT_OTHER_NONE_ANY',\n",
    "'home_ownership:OWN',\n",
    "'home_ownership:MORTGAGE',\n",
    "'addr_state:ND_NE_IA_NV_FL_HI_AL',\n",
    "'addr_state:NM_VA',\n",
    "'addr_state:NY',\n",
    "'addr_state:OK_TN_MO_LA_MD_NC',\n",
    "'addr_state:CA',\n",
    "'addr_state:UT_KY_AZ_NJ',\n",
    "'addr_state:AR_MI_PA_OH_MN',\n",
    "'addr_state:RI_MA_DE_SD_IN',\n",
    "'addr_state:GA_WA_OR',\n",
    "'addr_state:WI_MT',\n",
    "'addr_state:TX',\n",
    "'addr_state:IL_CT',\n",
    "'addr_state:KS_SC_CO_VT_AK_MS',\n",
    "'addr_state:WV_NH_WY_DC_ME_ID',\n",
    "'verification_status:Not Verified',\n",
    "'verification_status:Source Verified',\n",
    "'verification_status:Verified',\n",
    "'purpose:educ__sm_b__wedd__ren_en__mov__house',\n",
    "'purpose:credit_card',\n",
    "'purpose:debt_consolidation',\n",
    "'purpose:oth__med__vacation',\n",
    "'purpose:major_purch__car__home_impr',\n",
    "'initial_list_status:f',\n",
    "'initial_list_status:w',\n",
    "'term:36',\n",
    "'term:60',\n",
    "'emp_length:0',\n",
    "'emp_length:1',\n",
    "'emp_length:2-4',\n",
    "'emp_length:5-6',\n",
    "'emp_length:7-9',\n",
    "'emp_length:10',\n",
    "'mths_since_issue_d:<38',\n",
    "'mths_since_issue_d:38-39',\n",
    "'mths_since_issue_d:40-41',\n",
    "'mths_since_issue_d:42-48',\n",
    "'mths_since_issue_d:49-52',\n",
    "'mths_since_issue_d:53-64',\n",
    "'mths_since_issue_d:65-84',\n",
    "'mths_since_issue_d:>84',\n",
    "'int_rate:<9.548',\n",
    "'int_rate:9.548-12.025',\n",
    "'int_rate:12.025-15.74',\n",
    "'int_rate:15.74-20.281',\n",
    "'int_rate:>20.281',\n",
    "'mths_since_earliest_cr_line:<140',\n",
    "'mths_since_earliest_cr_line:141-164',\n",
    "'mths_since_earliest_cr_line:165-247',\n",
    "'mths_since_earliest_cr_line:248-270',\n",
    "'mths_since_earliest_cr_line:271-352',\n",
    "'mths_since_earliest_cr_line:>352',\n",
    "'inq_last_6mths:0',\n",
    "'inq_last_6mths:1-2',\n",
    "'inq_last_6mths:3-6',\n",
    "'inq_last_6mths:>6',\n",
    "'acc_now_delinq:0',\n",
    "'acc_now_delinq:>=1',\n",
    "'annual_inc:<20K',\n",
    "'annual_inc:20K-30K',\n",
    "'annual_inc:30K-40K',\n",
    "'annual_inc:40K-50K',\n",
    "'annual_inc:50K-60K',\n",
    "'annual_inc:60K-70K',\n",
    "'annual_inc:70K-80K',\n",
    "'annual_inc:80K-90K',\n",
    "'annual_inc:90K-100K',\n",
    "'annual_inc:100K-120K',\n",
    "'annual_inc:120K-140K',\n",
    "'annual_inc:>140K',\n",
    "'dti:<=1.4',\n",
    "'dti:1.4-3.5',\n",
    "'dti:3.5-7.7',\n",
    "'dti:7.7-10.5',\n",
    "'dti:10.5-16.1',\n",
    "'dti:16.1-20.3',\n",
    "'dti:20.3-21.7',\n",
    "'dti:21.7-22.4',\n",
    "'dti:22.4-35',\n",
    "'dti:>35',\n",
    "'mths_since_last_delinq:Missing',\n",
    "'mths_since_last_delinq:0-3',\n",
    "'mths_since_last_delinq:4-30',\n",
    "'mths_since_last_delinq:31-56',\n",
    "'mths_since_last_delinq:>=57',\n",
    "'mths_since_last_record:Missing',\n",
    "'mths_since_last_record:0-2',\n",
    "'mths_since_last_record:3-20',\n",
    "'mths_since_last_record:21-31',\n",
    "'mths_since_last_record:32-80',\n",
    "'mths_since_last_record:81-86',\n",
    "'mths_since_last_record:>86']"
   ]
  },
  {
   "cell_type": "code",
   "execution_count": 127,
   "metadata": {},
   "outputs": [],
   "source": [
    "ref_categories_pd = ['grade:G',\n",
    "'home_ownership:RENT_OTHER_NONE_ANY',\n",
    "'addr_state:ND_NE_IA_NV_FL_HI_AL',\n",
    "'verification_status:Verified',\n",
    "'purpose:educ__sm_b__wedd__ren_en__mov__house',\n",
    "'initial_list_status:f',\n",
    "'term:60',\n",
    "'emp_length:0',\n",
    "'mths_since_issue_d:>84',\n",
    "'int_rate:>20.281',\n",
    "'mths_since_earliest_cr_line:<140',\n",
    "'inq_last_6mths:>6',\n",
    "'acc_now_delinq:0',\n",
    "'annual_inc:<20K',\n",
    "'dti:>35',\n",
    "'mths_since_last_delinq:0-3',\n",
    "'mths_since_last_record:0-2']"
   ]
  },
  {
   "cell_type": "code",
   "execution_count": 128,
   "metadata": {},
   "outputs": [],
   "source": [
    "# Here we keep only the variables we need for the model.\n",
    "loan_data_inputs_pd_temp = loan_data_inputs_pd[features_all_pd]"
   ]
  },
  {
   "cell_type": "code",
   "execution_count": 129,
   "metadata": {},
   "outputs": [],
   "source": [
    "# Here we remove the dummy variable reference categories.\n",
    "loan_data_inputs_pd_temp = loan_data_inputs_pd_temp.drop(ref_categories_pd, axis = 1)"
   ]
  },
  {
   "cell_type": "code",
   "execution_count": 130,
   "metadata": {},
   "outputs": [
    {
     "data": {
      "text/plain": [
       "(466285, 84)"
      ]
     },
     "execution_count": 130,
     "metadata": {},
     "output_type": "execute_result"
    }
   ],
   "source": [
    "loan_data_inputs_pd_temp.shape"
   ]
  },
  {
   "cell_type": "code",
   "execution_count": 131,
   "metadata": {},
   "outputs": [],
   "source": [
    "import pickle"
   ]
  },
  {
   "cell_type": "code",
   "execution_count": 132,
   "metadata": {},
   "outputs": [],
   "source": [
    "# We import the trained PD model, stored in the 'pd_model.sav' file.\n",
    "\n",
    "reg_pd = pickle.load(open('pd_model.sav', 'rb'))"
   ]
  },
  {
   "cell_type": "code",
   "execution_count": 133,
   "metadata": {},
   "outputs": [
    {
     "data": {
      "text/plain": [
       "array([0.02957237, 0.09204333, 0.0373372 , ..., 0.02678179, 0.04025139,\n",
       "       0.0476315 ])"
      ]
     },
     "execution_count": 133,
     "metadata": {},
     "output_type": "execute_result"
    }
   ],
   "source": [
    "# We apply the PD model to caclulate estimated default probabilities.\n",
    "reg_pd.model.predict_proba(loan_data_inputs_pd_temp)[: ][: , 0]"
   ]
  },
  {
   "cell_type": "code",
   "execution_count": 134,
   "metadata": {},
   "outputs": [],
   "source": [
    "loan_data_inputs_pd['PD'] = reg_pd.model.predict_proba(loan_data_inputs_pd_temp)[: ][: , 0]"
   ]
  },
  {
   "cell_type": "code",
   "execution_count": 135,
   "metadata": {},
   "outputs": [
    {
     "data": {
      "text/plain": [
       "Unnamed: 0\n",
       "427211    0.029572\n",
       "206088    0.092043\n",
       "136020    0.037337\n",
       "412305    0.204286\n",
       "36159     0.200192\n",
       "Name: PD, dtype: float64"
      ]
     },
     "execution_count": 135,
     "metadata": {},
     "output_type": "execute_result"
    }
   ],
   "source": [
    "loan_data_inputs_pd['PD'].head()"
   ]
  },
  {
   "cell_type": "code",
   "execution_count": 136,
   "metadata": {},
   "outputs": [
    {
     "data": {
      "text/plain": [
       "count    466285.000000\n",
       "mean          0.109312\n",
       "std           0.070924\n",
       "min           0.007302\n",
       "25%           0.056077\n",
       "50%           0.093508\n",
       "75%           0.146566\n",
       "max           0.638269\n",
       "Name: PD, dtype: float64"
      ]
     },
     "execution_count": 136,
     "metadata": {},
     "output_type": "execute_result"
    }
   ],
   "source": [
    "loan_data_inputs_pd['PD'].describe()"
   ]
  },
  {
   "cell_type": "code",
   "execution_count": 137,
   "metadata": {},
   "outputs": [],
   "source": [
    "# We concatenate the dataframes where we calculated LGD and EAD\n",
    "# and the dataframe where we calculated PD along the columns.\n",
    "\n",
    "loan_data_preprocessed_new = pd.concat([loan_data_preprocessed, loan_data_inputs_pd], axis = 1)"
   ]
  },
  {
   "cell_type": "code",
   "execution_count": 138,
   "metadata": {},
   "outputs": [
    {
     "data": {
      "text/plain": [
       "(466285, 540)"
      ]
     },
     "execution_count": 138,
     "metadata": {},
     "output_type": "execute_result"
    }
   ],
   "source": [
    "loan_data_preprocessed_new.shape"
   ]
  },
  {
   "cell_type": "code",
   "execution_count": 139,
   "metadata": {},
   "outputs": [
    {
     "data": {
      "text/html": [
       "<div>\n",
       "<style scoped>\n",
       "    .dataframe tbody tr th:only-of-type {\n",
       "        vertical-align: middle;\n",
       "    }\n",
       "\n",
       "    .dataframe tbody tr th {\n",
       "        vertical-align: top;\n",
       "    }\n",
       "\n",
       "    .dataframe thead th {\n",
       "        text-align: right;\n",
       "    }\n",
       "</style>\n",
       "<table border=\"1\" class=\"dataframe\">\n",
       "  <thead>\n",
       "    <tr style=\"text-align: right;\">\n",
       "      <th></th>\n",
       "      <th>Unnamed: 0</th>\n",
       "      <th>Unnamed: 0.1</th>\n",
       "      <th>id</th>\n",
       "      <th>member_id</th>\n",
       "      <th>loan_amnt</th>\n",
       "      <th>funded_amnt</th>\n",
       "      <th>funded_amnt_inv</th>\n",
       "      <th>term</th>\n",
       "      <th>int_rate</th>\n",
       "      <th>installment</th>\n",
       "      <th>...</th>\n",
       "      <th>dti:22.4-35</th>\n",
       "      <th>dti:&gt;35</th>\n",
       "      <th>mths_since_last_record:Missing</th>\n",
       "      <th>mths_since_last_record:0-2</th>\n",
       "      <th>mths_since_last_record:3-20</th>\n",
       "      <th>mths_since_last_record:21-31</th>\n",
       "      <th>mths_since_last_record:32-80</th>\n",
       "      <th>mths_since_last_record:81-86</th>\n",
       "      <th>mths_since_last_record:&gt;86</th>\n",
       "      <th>PD</th>\n",
       "    </tr>\n",
       "  </thead>\n",
       "  <tbody>\n",
       "    <tr>\n",
       "      <td>0</td>\n",
       "      <td>0</td>\n",
       "      <td>0</td>\n",
       "      <td>1077501</td>\n",
       "      <td>1296599</td>\n",
       "      <td>5000</td>\n",
       "      <td>5000</td>\n",
       "      <td>4975.0</td>\n",
       "      <td>36 months</td>\n",
       "      <td>10.65</td>\n",
       "      <td>162.87</td>\n",
       "      <td>...</td>\n",
       "      <td>1</td>\n",
       "      <td>0</td>\n",
       "      <td>1</td>\n",
       "      <td>0</td>\n",
       "      <td>0</td>\n",
       "      <td>0</td>\n",
       "      <td>0</td>\n",
       "      <td>0</td>\n",
       "      <td>0</td>\n",
       "      <td>0.164791</td>\n",
       "    </tr>\n",
       "    <tr>\n",
       "      <td>1</td>\n",
       "      <td>1</td>\n",
       "      <td>1</td>\n",
       "      <td>1077430</td>\n",
       "      <td>1314167</td>\n",
       "      <td>2500</td>\n",
       "      <td>2500</td>\n",
       "      <td>2500.0</td>\n",
       "      <td>60 months</td>\n",
       "      <td>15.27</td>\n",
       "      <td>59.83</td>\n",
       "      <td>...</td>\n",
       "      <td>0</td>\n",
       "      <td>0</td>\n",
       "      <td>1</td>\n",
       "      <td>0</td>\n",
       "      <td>0</td>\n",
       "      <td>0</td>\n",
       "      <td>0</td>\n",
       "      <td>0</td>\n",
       "      <td>0</td>\n",
       "      <td>0.282810</td>\n",
       "    </tr>\n",
       "    <tr>\n",
       "      <td>2</td>\n",
       "      <td>2</td>\n",
       "      <td>2</td>\n",
       "      <td>1077175</td>\n",
       "      <td>1313524</td>\n",
       "      <td>2400</td>\n",
       "      <td>2400</td>\n",
       "      <td>2400.0</td>\n",
       "      <td>36 months</td>\n",
       "      <td>15.96</td>\n",
       "      <td>84.33</td>\n",
       "      <td>...</td>\n",
       "      <td>0</td>\n",
       "      <td>0</td>\n",
       "      <td>1</td>\n",
       "      <td>0</td>\n",
       "      <td>0</td>\n",
       "      <td>0</td>\n",
       "      <td>0</td>\n",
       "      <td>0</td>\n",
       "      <td>0</td>\n",
       "      <td>0.230736</td>\n",
       "    </tr>\n",
       "    <tr>\n",
       "      <td>3</td>\n",
       "      <td>3</td>\n",
       "      <td>3</td>\n",
       "      <td>1076863</td>\n",
       "      <td>1277178</td>\n",
       "      <td>10000</td>\n",
       "      <td>10000</td>\n",
       "      <td>10000.0</td>\n",
       "      <td>36 months</td>\n",
       "      <td>13.49</td>\n",
       "      <td>339.31</td>\n",
       "      <td>...</td>\n",
       "      <td>0</td>\n",
       "      <td>0</td>\n",
       "      <td>1</td>\n",
       "      <td>0</td>\n",
       "      <td>0</td>\n",
       "      <td>0</td>\n",
       "      <td>0</td>\n",
       "      <td>0</td>\n",
       "      <td>0</td>\n",
       "      <td>0.208743</td>\n",
       "    </tr>\n",
       "    <tr>\n",
       "      <td>4</td>\n",
       "      <td>4</td>\n",
       "      <td>4</td>\n",
       "      <td>1075358</td>\n",
       "      <td>1311748</td>\n",
       "      <td>3000</td>\n",
       "      <td>3000</td>\n",
       "      <td>3000.0</td>\n",
       "      <td>60 months</td>\n",
       "      <td>12.69</td>\n",
       "      <td>67.79</td>\n",
       "      <td>...</td>\n",
       "      <td>0</td>\n",
       "      <td>0</td>\n",
       "      <td>1</td>\n",
       "      <td>0</td>\n",
       "      <td>0</td>\n",
       "      <td>0</td>\n",
       "      <td>0</td>\n",
       "      <td>0</td>\n",
       "      <td>0</td>\n",
       "      <td>0.129281</td>\n",
       "    </tr>\n",
       "  </tbody>\n",
       "</table>\n",
       "<p>5 rows × 540 columns</p>\n",
       "</div>"
      ],
      "text/plain": [
       "   Unnamed: 0  Unnamed: 0.1       id  member_id  loan_amnt  funded_amnt  \\\n",
       "0           0             0  1077501    1296599       5000         5000   \n",
       "1           1             1  1077430    1314167       2500         2500   \n",
       "2           2             2  1077175    1313524       2400         2400   \n",
       "3           3             3  1076863    1277178      10000        10000   \n",
       "4           4             4  1075358    1311748       3000         3000   \n",
       "\n",
       "   funded_amnt_inv        term  int_rate  installment  ... dti:22.4-35  \\\n",
       "0           4975.0   36 months     10.65       162.87  ...           1   \n",
       "1           2500.0   60 months     15.27        59.83  ...           0   \n",
       "2           2400.0   36 months     15.96        84.33  ...           0   \n",
       "3          10000.0   36 months     13.49       339.31  ...           0   \n",
       "4           3000.0   60 months     12.69        67.79  ...           0   \n",
       "\n",
       "  dti:>35 mths_since_last_record:Missing mths_since_last_record:0-2  \\\n",
       "0       0                              1                          0   \n",
       "1       0                              1                          0   \n",
       "2       0                              1                          0   \n",
       "3       0                              1                          0   \n",
       "4       0                              1                          0   \n",
       "\n",
       "  mths_since_last_record:3-20  mths_since_last_record:21-31  \\\n",
       "0                           0                             0   \n",
       "1                           0                             0   \n",
       "2                           0                             0   \n",
       "3                           0                             0   \n",
       "4                           0                             0   \n",
       "\n",
       "  mths_since_last_record:32-80 mths_since_last_record:81-86  \\\n",
       "0                            0                            0   \n",
       "1                            0                            0   \n",
       "2                            0                            0   \n",
       "3                            0                            0   \n",
       "4                            0                            0   \n",
       "\n",
       "  mths_since_last_record:>86        PD  \n",
       "0                          0  0.164791  \n",
       "1                          0  0.282810  \n",
       "2                          0  0.230736  \n",
       "3                          0  0.208743  \n",
       "4                          0  0.129281  \n",
       "\n",
       "[5 rows x 540 columns]"
      ]
     },
     "execution_count": 139,
     "metadata": {},
     "output_type": "execute_result"
    }
   ],
   "source": [
    "loan_data_preprocessed_new.head()"
   ]
  },
  {
   "cell_type": "code",
   "execution_count": 140,
   "metadata": {},
   "outputs": [],
   "source": [
    "# We calculate Expected Loss. EL = PD * LGD * EAD.\n",
    "\n",
    "loan_data_preprocessed_new['EL'] = loan_data_preprocessed_new['PD'] * loan_data_preprocessed_new['LGD'] * loan_data_preprocessed_new['EAD']"
   ]
  },
  {
   "cell_type": "code",
   "execution_count": 141,
   "metadata": {},
   "outputs": [
    {
     "data": {
      "text/plain": [
       "count    466285.000000\n",
       "mean       1097.301334\n",
       "std        1112.121563\n",
       "min           9.533662\n",
       "25%         359.111973\n",
       "50%         716.967455\n",
       "75%        1428.073360\n",
       "max       11921.752736\n",
       "Name: EL, dtype: float64"
      ]
     },
     "execution_count": 141,
     "metadata": {},
     "output_type": "execute_result"
    }
   ],
   "source": [
    "# Shows some descriptive statisics for the values of a column.\n",
    "loan_data_preprocessed_new['EL'].describe()"
   ]
  },
  {
   "cell_type": "code",
   "execution_count": 142,
   "metadata": {},
   "outputs": [
    {
     "data": {
      "text/html": [
       "<div>\n",
       "<style scoped>\n",
       "    .dataframe tbody tr th:only-of-type {\n",
       "        vertical-align: middle;\n",
       "    }\n",
       "\n",
       "    .dataframe tbody tr th {\n",
       "        vertical-align: top;\n",
       "    }\n",
       "\n",
       "    .dataframe thead th {\n",
       "        text-align: right;\n",
       "    }\n",
       "</style>\n",
       "<table border=\"1\" class=\"dataframe\">\n",
       "  <thead>\n",
       "    <tr style=\"text-align: right;\">\n",
       "      <th></th>\n",
       "      <th>funded_amnt</th>\n",
       "      <th>funded_amnt</th>\n",
       "      <th>PD</th>\n",
       "      <th>LGD</th>\n",
       "      <th>EAD</th>\n",
       "      <th>EL</th>\n",
       "    </tr>\n",
       "  </thead>\n",
       "  <tbody>\n",
       "    <tr>\n",
       "      <td>0</td>\n",
       "      <td>5000</td>\n",
       "      <td>5000</td>\n",
       "      <td>0.164791</td>\n",
       "      <td>0.913729</td>\n",
       "      <td>2949.608449</td>\n",
       "      <td>444.134956</td>\n",
       "    </tr>\n",
       "    <tr>\n",
       "      <td>1</td>\n",
       "      <td>2500</td>\n",
       "      <td>2500</td>\n",
       "      <td>0.282810</td>\n",
       "      <td>0.915482</td>\n",
       "      <td>1944.433378</td>\n",
       "      <td>503.428954</td>\n",
       "    </tr>\n",
       "    <tr>\n",
       "      <td>2</td>\n",
       "      <td>2400</td>\n",
       "      <td>2400</td>\n",
       "      <td>0.230736</td>\n",
       "      <td>0.919484</td>\n",
       "      <td>1579.934302</td>\n",
       "      <td>335.196074</td>\n",
       "    </tr>\n",
       "    <tr>\n",
       "      <td>3</td>\n",
       "      <td>10000</td>\n",
       "      <td>10000</td>\n",
       "      <td>0.208743</td>\n",
       "      <td>0.904924</td>\n",
       "      <td>6606.559612</td>\n",
       "      <td>1247.956591</td>\n",
       "    </tr>\n",
       "    <tr>\n",
       "      <td>4</td>\n",
       "      <td>3000</td>\n",
       "      <td>3000</td>\n",
       "      <td>0.129281</td>\n",
       "      <td>0.911453</td>\n",
       "      <td>2124.631667</td>\n",
       "      <td>250.353372</td>\n",
       "    </tr>\n",
       "  </tbody>\n",
       "</table>\n",
       "</div>"
      ],
      "text/plain": [
       "   funded_amnt  funded_amnt        PD       LGD          EAD           EL\n",
       "0         5000         5000  0.164791  0.913729  2949.608449   444.134956\n",
       "1         2500         2500  0.282810  0.915482  1944.433378   503.428954\n",
       "2         2400         2400  0.230736  0.919484  1579.934302   335.196074\n",
       "3        10000        10000  0.208743  0.904924  6606.559612  1247.956591\n",
       "4         3000         3000  0.129281  0.911453  2124.631667   250.353372"
      ]
     },
     "execution_count": 142,
     "metadata": {},
     "output_type": "execute_result"
    }
   ],
   "source": [
    "loan_data_preprocessed_new[['funded_amnt', 'PD', 'LGD', 'EAD', 'EL']].head()"
   ]
  },
  {
   "cell_type": "code",
   "execution_count": 143,
   "metadata": {},
   "outputs": [
    {
     "data": {
      "text/html": [
       "<div>\n",
       "<style scoped>\n",
       "    .dataframe tbody tr th:only-of-type {\n",
       "        vertical-align: middle;\n",
       "    }\n",
       "\n",
       "    .dataframe tbody tr th {\n",
       "        vertical-align: top;\n",
       "    }\n",
       "\n",
       "    .dataframe thead th {\n",
       "        text-align: right;\n",
       "    }\n",
       "</style>\n",
       "<table border=\"1\" class=\"dataframe\">\n",
       "  <thead>\n",
       "    <tr style=\"text-align: right;\">\n",
       "      <th></th>\n",
       "      <th>funded_amnt</th>\n",
       "      <th>funded_amnt</th>\n",
       "    </tr>\n",
       "  </thead>\n",
       "  <tbody>\n",
       "    <tr>\n",
       "      <td>count</td>\n",
       "      <td>466285.000000</td>\n",
       "      <td>466285.000000</td>\n",
       "    </tr>\n",
       "    <tr>\n",
       "      <td>mean</td>\n",
       "      <td>14291.801044</td>\n",
       "      <td>14291.801044</td>\n",
       "    </tr>\n",
       "    <tr>\n",
       "      <td>std</td>\n",
       "      <td>8274.371300</td>\n",
       "      <td>8274.371300</td>\n",
       "    </tr>\n",
       "    <tr>\n",
       "      <td>min</td>\n",
       "      <td>500.000000</td>\n",
       "      <td>500.000000</td>\n",
       "    </tr>\n",
       "    <tr>\n",
       "      <td>25%</td>\n",
       "      <td>8000.000000</td>\n",
       "      <td>8000.000000</td>\n",
       "    </tr>\n",
       "    <tr>\n",
       "      <td>50%</td>\n",
       "      <td>12000.000000</td>\n",
       "      <td>12000.000000</td>\n",
       "    </tr>\n",
       "    <tr>\n",
       "      <td>75%</td>\n",
       "      <td>20000.000000</td>\n",
       "      <td>20000.000000</td>\n",
       "    </tr>\n",
       "    <tr>\n",
       "      <td>max</td>\n",
       "      <td>35000.000000</td>\n",
       "      <td>35000.000000</td>\n",
       "    </tr>\n",
       "  </tbody>\n",
       "</table>\n",
       "</div>"
      ],
      "text/plain": [
       "         funded_amnt    funded_amnt\n",
       "count  466285.000000  466285.000000\n",
       "mean    14291.801044   14291.801044\n",
       "std      8274.371300    8274.371300\n",
       "min       500.000000     500.000000\n",
       "25%      8000.000000    8000.000000\n",
       "50%     12000.000000   12000.000000\n",
       "75%     20000.000000   20000.000000\n",
       "max     35000.000000   35000.000000"
      ]
     },
     "execution_count": 143,
     "metadata": {},
     "output_type": "execute_result"
    }
   ],
   "source": [
    "loan_data_preprocessed_new['funded_amnt'].describe()"
   ]
  },
  {
   "cell_type": "code",
   "execution_count": 144,
   "metadata": {},
   "outputs": [
    {
     "data": {
      "text/plain": [
       "511655152.4848584"
      ]
     },
     "execution_count": 144,
     "metadata": {},
     "output_type": "execute_result"
    }
   ],
   "source": [
    "# Total Expected Loss for all loans.\n",
    "\n",
    "loan_data_preprocessed_new['EL'].sum()"
   ]
  },
  {
   "cell_type": "code",
   "execution_count": 145,
   "metadata": {},
   "outputs": [
    {
     "data": {
      "text/plain": [
       "funded_amnt    6664052450\n",
       "funded_amnt    6664052450\n",
       "dtype: int64"
      ]
     },
     "execution_count": 145,
     "metadata": {},
     "output_type": "execute_result"
    }
   ],
   "source": [
    "# Total funded amount for all loans.\n",
    "\n",
    "loan_data_preprocessed_new['funded_amnt'].sum()"
   ]
  },
  {
   "cell_type": "code",
   "execution_count": 146,
   "metadata": {
    "scrolled": true
   },
   "outputs": [
    {
     "data": {
      "text/plain": [
       "funded_amnt    0.076778\n",
       "funded_amnt    0.076778\n",
       "dtype: float64"
      ]
     },
     "execution_count": 146,
     "metadata": {},
     "output_type": "execute_result"
    }
   ],
   "source": [
    "# The Total Expected Loss as a proportion of total funded amount for all loans.\n",
    "prop = loan_data_preprocessed_new['EL'].sum() / loan_data_preprocessed_new['funded_amnt'].sum()\n",
    "prop"
   ]
  },
  {
   "cell_type": "markdown",
   "metadata": {},
   "source": [
    "<center> So the <b> Expected Loss </b> of this portfolio of <b> loans </b>  represent <span style='color:red'> 7.6 % </span>  of the  portfolio total amount which is almost   <span style='color:red'> $\\color{red}{6.665  \\text{ billions}.}$</center>\n",
    "\n",
    ">>> <center><b>The Expected Loss </b> for this entire loan's portfolio is\n",
    "$\\color{red}{\\huge{511.655152 \\:}millions}$ </center>"
   ]
  },
  {
   "cell_type": "markdown",
   "metadata": {},
   "source": [
    "# Capital Requirement - IRB approach - Basel II\n",
    "\n",
    "Since we have compute the PD, EAD, LGD, one can compute the capital requirement using the <font color='red'> regulatory risk-weights function </font> \n",
    "\n",
    "$$ Reg_{-}cap = 8\\% * RWA = 8\\% * K(PD,LGD) * EAD $$\n",
    "with \n",
    "$$ K(PD,LGD) =  LGD* \\Big[ \\mathcal{N}\\Big( \\frac{\\mathcal{N}^{-1}(PD) +\\sqrt{\\rho}\\mathcal{N}^{-1}(0.999)}{\\sqrt{1-\\rho}}\\Big) -PD\\Big]$$\n",
    "where  $\\quad \\rho = 0.03\\Big(\\frac{1 -e^{-35*PD}}{1 -e^{-35}}\\Big) + 0.16*\\Big(1 - \\frac{1 -e^{-35*PD}}{1 -e^{-35}} \\Big)$ is the asset correlation coefficient for retail exposures."
   ]
  },
  {
   "cell_type": "code",
   "execution_count": 147,
   "metadata": {},
   "outputs": [
    {
     "data": {
      "text/html": [
       "<div>\n",
       "<style scoped>\n",
       "    .dataframe tbody tr th:only-of-type {\n",
       "        vertical-align: middle;\n",
       "    }\n",
       "\n",
       "    .dataframe tbody tr th {\n",
       "        vertical-align: top;\n",
       "    }\n",
       "\n",
       "    .dataframe thead th {\n",
       "        text-align: right;\n",
       "    }\n",
       "</style>\n",
       "<table border=\"1\" class=\"dataframe\">\n",
       "  <thead>\n",
       "    <tr style=\"text-align: right;\">\n",
       "      <th></th>\n",
       "      <th>funded_amnt</th>\n",
       "      <th>funded_amnt</th>\n",
       "      <th>PD</th>\n",
       "      <th>LGD</th>\n",
       "      <th>EAD</th>\n",
       "      <th>EL</th>\n",
       "      <th>RHO</th>\n",
       "      <th>K_PD_LGD</th>\n",
       "    </tr>\n",
       "  </thead>\n",
       "  <tbody>\n",
       "    <tr>\n",
       "      <td>0</td>\n",
       "      <td>5000</td>\n",
       "      <td>5000</td>\n",
       "      <td>0.164791</td>\n",
       "      <td>0.913729</td>\n",
       "      <td>2949.608449</td>\n",
       "      <td>444.134956</td>\n",
       "      <td>0.030407</td>\n",
       "      <td>0.106712</td>\n",
       "    </tr>\n",
       "    <tr>\n",
       "      <td>1</td>\n",
       "      <td>2500</td>\n",
       "      <td>2500</td>\n",
       "      <td>0.282810</td>\n",
       "      <td>0.915482</td>\n",
       "      <td>1944.433378</td>\n",
       "      <td>503.428954</td>\n",
       "      <td>0.030007</td>\n",
       "      <td>0.135543</td>\n",
       "    </tr>\n",
       "    <tr>\n",
       "      <td>2</td>\n",
       "      <td>2400</td>\n",
       "      <td>2400</td>\n",
       "      <td>0.230736</td>\n",
       "      <td>0.919484</td>\n",
       "      <td>1579.934302</td>\n",
       "      <td>335.196074</td>\n",
       "      <td>0.030040</td>\n",
       "      <td>0.125802</td>\n",
       "    </tr>\n",
       "    <tr>\n",
       "      <td>3</td>\n",
       "      <td>10000</td>\n",
       "      <td>10000</td>\n",
       "      <td>0.208743</td>\n",
       "      <td>0.904924</td>\n",
       "      <td>6606.559612</td>\n",
       "      <td>1247.956591</td>\n",
       "      <td>0.030087</td>\n",
       "      <td>0.118421</td>\n",
       "    </tr>\n",
       "    <tr>\n",
       "      <td>4</td>\n",
       "      <td>3000</td>\n",
       "      <td>3000</td>\n",
       "      <td>0.129281</td>\n",
       "      <td>0.911453</td>\n",
       "      <td>2124.631667</td>\n",
       "      <td>250.353372</td>\n",
       "      <td>0.031409</td>\n",
       "      <td>0.094522</td>\n",
       "    </tr>\n",
       "  </tbody>\n",
       "</table>\n",
       "</div>"
      ],
      "text/plain": [
       "   funded_amnt  funded_amnt        PD       LGD          EAD           EL  \\\n",
       "0         5000         5000  0.164791  0.913729  2949.608449   444.134956   \n",
       "1         2500         2500  0.282810  0.915482  1944.433378   503.428954   \n",
       "2         2400         2400  0.230736  0.919484  1579.934302   335.196074   \n",
       "3        10000        10000  0.208743  0.904924  6606.559612  1247.956591   \n",
       "4         3000         3000  0.129281  0.911453  2124.631667   250.353372   \n",
       "\n",
       "        RHO  K_PD_LGD  \n",
       "0  0.030407  0.106712  \n",
       "1  0.030007  0.135543  \n",
       "2  0.030040  0.125802  \n",
       "3  0.030087  0.118421  \n",
       "4  0.031409  0.094522  "
      ]
     },
     "execution_count": 147,
     "metadata": {},
     "output_type": "execute_result"
    }
   ],
   "source": [
    "const = 1-np.exp(-35)\n",
    "RHO = 0.03* (1- np.exp(-35*loan_data_preprocessed_new['PD'])/const) \\\n",
    "            + 0.16*(1 - (1- np.exp(-35*loan_data_preprocessed_new['PD'])/const ))\n",
    "one_minus_rho_square = np.sqrt(1-RHO)\n",
    "rho_square = np.sqrt(RHO)\n",
    "term_temp = stat.norm(0,1).ppf(loan_data_preprocessed_new['PD']) + rho_square*stat.norm(0,1).ppf(0.99)\n",
    "term_temp = term_temp/ one_minus_rho_square\n",
    "# Add a column for each asset correlation coefficient\n",
    "loan_data_preprocessed_new['RHO'] = RHO\n",
    "# Add a column with the regulatory risk-weights function (Basel II)\n",
    "loan_data_preprocessed_new['K_PD_LGD'] = loan_data_preprocessed_new['LGD']*(stat.norm(0,1).cdf(term_temp) - loan_data_preprocessed_new['PD'])\n",
    "\n",
    "loan_data_preprocessed_new[['funded_amnt', 'PD', 'LGD', 'EAD', 'EL','RHO','K_PD_LGD']].head()"
   ]
  },
  {
   "cell_type": "code",
   "execution_count": 148,
   "metadata": {},
   "outputs": [
    {
     "data": {
      "text/plain": [
       "count    466285.000000\n",
       "mean          0.089220\n",
       "std           0.021673\n",
       "min           0.025819\n",
       "25%           0.073280\n",
       "50%           0.085080\n",
       "75%           0.102992\n",
       "max           0.160978\n",
       "Name: K_PD_LGD, dtype: float64"
      ]
     },
     "execution_count": 148,
     "metadata": {},
     "output_type": "execute_result"
    }
   ],
   "source": [
    "loan_data_preprocessed_new['K_PD_LGD'].describe()"
   ]
  },
  {
   "cell_type": "code",
   "execution_count": 149,
   "metadata": {},
   "outputs": [
    {
     "data": {
      "text/html": [
       "<div>\n",
       "<style scoped>\n",
       "    .dataframe tbody tr th:only-of-type {\n",
       "        vertical-align: middle;\n",
       "    }\n",
       "\n",
       "    .dataframe tbody tr th {\n",
       "        vertical-align: top;\n",
       "    }\n",
       "\n",
       "    .dataframe thead th {\n",
       "        text-align: right;\n",
       "    }\n",
       "</style>\n",
       "<table border=\"1\" class=\"dataframe\">\n",
       "  <thead>\n",
       "    <tr style=\"text-align: right;\">\n",
       "      <th></th>\n",
       "      <th>funded_amnt</th>\n",
       "      <th>funded_amnt</th>\n",
       "      <th>PD</th>\n",
       "      <th>LGD</th>\n",
       "      <th>EAD</th>\n",
       "      <th>EL</th>\n",
       "      <th>RHO</th>\n",
       "      <th>K_PD_LGD</th>\n",
       "      <th>Reg_Cap</th>\n",
       "    </tr>\n",
       "  </thead>\n",
       "  <tbody>\n",
       "    <tr>\n",
       "      <td>0</td>\n",
       "      <td>5000</td>\n",
       "      <td>5000</td>\n",
       "      <td>0.164791</td>\n",
       "      <td>0.913729</td>\n",
       "      <td>2949.608449</td>\n",
       "      <td>444.134956</td>\n",
       "      <td>0.030407</td>\n",
       "      <td>0.106712</td>\n",
       "      <td>251.807638</td>\n",
       "    </tr>\n",
       "    <tr>\n",
       "      <td>1</td>\n",
       "      <td>2500</td>\n",
       "      <td>2500</td>\n",
       "      <td>0.282810</td>\n",
       "      <td>0.915482</td>\n",
       "      <td>1944.433378</td>\n",
       "      <td>503.428954</td>\n",
       "      <td>0.030007</td>\n",
       "      <td>0.135543</td>\n",
       "      <td>210.843967</td>\n",
       "    </tr>\n",
       "    <tr>\n",
       "      <td>2</td>\n",
       "      <td>2400</td>\n",
       "      <td>2400</td>\n",
       "      <td>0.230736</td>\n",
       "      <td>0.919484</td>\n",
       "      <td>1579.934302</td>\n",
       "      <td>335.196074</td>\n",
       "      <td>0.030040</td>\n",
       "      <td>0.125802</td>\n",
       "      <td>159.006887</td>\n",
       "    </tr>\n",
       "    <tr>\n",
       "      <td>3</td>\n",
       "      <td>10000</td>\n",
       "      <td>10000</td>\n",
       "      <td>0.208743</td>\n",
       "      <td>0.904924</td>\n",
       "      <td>6606.559612</td>\n",
       "      <td>1247.956591</td>\n",
       "      <td>0.030087</td>\n",
       "      <td>0.118421</td>\n",
       "      <td>625.885918</td>\n",
       "    </tr>\n",
       "    <tr>\n",
       "      <td>4</td>\n",
       "      <td>3000</td>\n",
       "      <td>3000</td>\n",
       "      <td>0.129281</td>\n",
       "      <td>0.911453</td>\n",
       "      <td>2124.631667</td>\n",
       "      <td>250.353372</td>\n",
       "      <td>0.031409</td>\n",
       "      <td>0.094522</td>\n",
       "      <td>160.659459</td>\n",
       "    </tr>\n",
       "  </tbody>\n",
       "</table>\n",
       "</div>"
      ],
      "text/plain": [
       "   funded_amnt  funded_amnt        PD       LGD          EAD           EL  \\\n",
       "0         5000         5000  0.164791  0.913729  2949.608449   444.134956   \n",
       "1         2500         2500  0.282810  0.915482  1944.433378   503.428954   \n",
       "2         2400         2400  0.230736  0.919484  1579.934302   335.196074   \n",
       "3        10000        10000  0.208743  0.904924  6606.559612  1247.956591   \n",
       "4         3000         3000  0.129281  0.911453  2124.631667   250.353372   \n",
       "\n",
       "        RHO  K_PD_LGD     Reg_Cap  \n",
       "0  0.030407  0.106712  251.807638  \n",
       "1  0.030007  0.135543  210.843967  \n",
       "2  0.030040  0.125802  159.006887  \n",
       "3  0.030087  0.118421  625.885918  \n",
       "4  0.031409  0.094522  160.659459  "
      ]
     },
     "execution_count": 149,
     "metadata": {},
     "output_type": "execute_result"
    }
   ],
   "source": [
    "loan_data_preprocessed_new['Reg_Cap'] = 0.8*loan_data_preprocessed_new['EAD']*loan_data_preprocessed_new['K_PD_LGD']\n",
    "loan_data_preprocessed_new[['funded_amnt', 'PD', 'LGD', 'EAD', 'EL','RHO','K_PD_LGD','Reg_Cap']].head()"
   ]
  },
  {
   "cell_type": "code",
   "execution_count": 150,
   "metadata": {},
   "outputs": [
    {
     "data": {
      "text/plain": [
       "count    466285.000000\n",
       "mean        767.318154\n",
       "std         538.947943\n",
       "min          12.615157\n",
       "25%         368.045478\n",
       "50%         622.906784\n",
       "75%        1030.305705\n",
       "max        4078.370700\n",
       "Name: Reg_Cap, dtype: float64"
      ]
     },
     "execution_count": 150,
     "metadata": {},
     "output_type": "execute_result"
    }
   ],
   "source": [
    "loan_data_preprocessed_new['Reg_Cap'].describe()"
   ]
  },
  {
   "cell_type": "code",
   "execution_count": 151,
   "metadata": {},
   "outputs": [
    {
     "data": {
      "text/plain": [
       "357788945.4616322"
      ]
     },
     "execution_count": 151,
     "metadata": {},
     "output_type": "execute_result"
    }
   ],
   "source": [
    "loan_data_preprocessed_new['Reg_Cap'].sum()"
   ]
  },
  {
   "cell_type": "code",
   "execution_count": 152,
   "metadata": {},
   "outputs": [
    {
     "data": {
      "text/plain": [
       "funded_amnt    0.053689\n",
       "funded_amnt    0.053689\n",
       "dtype: float64"
      ]
     },
     "execution_count": 152,
     "metadata": {},
     "output_type": "execute_result"
    }
   ],
   "source": [
    "# proportion of the portfolio amount \n",
    "loan_data_preprocessed_new['Reg_Cap'].sum()/loan_data_preprocessed_new['funded_amnt'].sum()"
   ]
  },
  {
   "cell_type": "markdown",
   "metadata": {},
   "source": [
    "<h1><center> So almost the regulatory capital is almost $\\color{red}{5.3 \\%}$ of the portfolio total amount.</h1>\n",
    "    \n",
    ">>> <center><b>The regulatory Capital</b> is approximatively $\\color{red}{\\huge{357.788946} \\text{ millions}}$</center>"
   ]
  },
  {
   "cell_type": "code",
   "execution_count": null,
   "metadata": {},
   "outputs": [],
   "source": []
  }
 ],
 "metadata": {
  "kernelspec": {
   "display_name": "Python 3",
   "language": "python",
   "name": "python3"
  },
  "language_info": {
   "codemirror_mode": {
    "name": "ipython",
    "version": 3
   },
   "file_extension": ".py",
   "mimetype": "text/x-python",
   "name": "python",
   "nbconvert_exporter": "python",
   "pygments_lexer": "ipython3",
   "version": "3.7.4"
  }
 },
 "nbformat": 4,
 "nbformat_minor": 4
}
